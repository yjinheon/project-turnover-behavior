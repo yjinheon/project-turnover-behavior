{
 "cells": [
  {
   "cell_type": "code",
   "execution_count": 26,
   "metadata": {},
   "outputs": [],
   "source": [
    "import pandas as pd\n",
    "import numpy as np\n",
    "import seaborn as sns\n",
    "import matplotlib.pyplot as plt\n",
    "\n",
    "from pandas.api.types import is_numeric_dtype\n",
    "\n",
    "sns.set()\n",
    "\n",
    "\n",
    "\n",
    "# load data iris\n",
    "\n",
    "data = sns.load_dataset('penguins')\n",
    "\n",
    "\n",
    "class Lookdata():\n",
    "    \n",
    "    \"\"\"\n",
    "    EDA tool class\n",
    "    \n",
    "    - numeric_category_plot\n",
    "    - 기본차트 추가\n",
    "    - 다중공선성 검증 추가\n",
    "    \n",
    "    \"\"\"\n",
    "    \n",
    "    def __init__(self,df) :\n",
    "        self.df = df    \n",
    "    \n",
    "    def _dtypes(self) -> pd.DataFrame:\n",
    "        return pd.DataFrame(self.df.dtypes).rename(columns={0: 'dtype'})\n",
    "    \n",
    "    def glimpse(self, maxvals=10, maxlen=110):\n",
    "        print('Shape: ', self.df.shape)\n",
    "    \n",
    "        def pad(y):\n",
    "            max_len = max([len(x) for x in y])\n",
    "            return [x.ljust(max_len) for x in y]\n",
    "    \n",
    "        # Column Name\n",
    "        toprnt = pad(self.df.columns.tolist())\n",
    "    \n",
    "        # Column Type\n",
    "        toprnt = pad([toprnt[i] + ' ' + str(self.df.iloc[:,i].dtype) for i in range(self.df.shape[1])])\n",
    "    \n",
    "        # Num NAs\n",
    "        num_nas = [self.df.iloc[:,i].isnull().sum() for i in range(self.df.shape[1])]\n",
    "        num_nas_ratio = [int(round(x*100/self.df.shape[0])) for x in num_nas]\n",
    "        num_nas_str = [str(x) + ' (' + str(y) + '%)' for x,y in zip(num_nas, num_nas_ratio)]\n",
    "        max_len = max([len(x) for x in num_nas_str])\n",
    "        num_nas_str = [x.rjust(max_len) for x in num_nas_str]\n",
    "        toprnt = [x + ' ' + y + ' NAs' for x,y in zip(toprnt, num_nas_str)]\n",
    "    \n",
    "        # Separator\n",
    "        toprnt = [x + ' : ' for x in toprnt]\n",
    "    \n",
    "        # Values\n",
    "        toprnt = [toprnt[i] + ', '.join([str(y) for y in self.df.iloc[:min([maxvals,self.df.shape[0]]), i]]) for i in range(self.df.shape[1])]\n",
    "    \n",
    "        # Trim to maxlen\n",
    "        toprnt = [x[:min(maxlen, len(x))] for x in toprnt]\n",
    "    \n",
    "        for x in toprnt:\n",
    "            print(x)\n",
    "        \n",
    "\n",
    "    def _compute_outlier(self) -> list:\n",
    "        \"\"\" \n",
    "        Compute outlier of a series\n",
    "        iqr = interquartile range\n",
    "        \"\"\"\n",
    "\n",
    "        if not is_numeric_dtype(self.df):\n",
    "            raise TypeError(\"Must pass a column with numeric data type\")\n",
    "\n",
    "        df_ = sorted(self.df)\n",
    "        q1, q3 = np.percentile(self.df_, [25, 75])\n",
    "        iqr = q3 - q1\n",
    "\n",
    "        lower_bound = q1 - (1.5 * iqr)\n",
    "        upper_bound = q3 + (1.5 * iqr)\n",
    "        outliers = [x for x in df_ if x < lower_bound or x > upper_bound]\n",
    "\n",
    "        return outliers\n",
    "\n",
    "\n",
    "    def _remove_outliers(df: pd.DataFrame) -> pd.DataFrame:\n",
    "        return df.loc[(~df.isin(_compute_outlier(df)))]"
   ]
  },
  {
   "cell_type": "code",
   "execution_count": 27,
   "metadata": {},
   "outputs": [],
   "source": [
    "eda_ins = Lookdata(data)"
   ]
  },
  {
   "cell_type": "code",
   "execution_count": 29,
   "metadata": {},
   "outputs": [],
   "source": [
    "eda_ins_dtypes = eda_ins._dtypes()"
   ]
  },
  {
   "cell_type": "code",
   "execution_count": 30,
   "metadata": {},
   "outputs": [
    {
     "data": {
      "text/html": [
       "<div>\n",
       "<style scoped>\n",
       "    .dataframe tbody tr th:only-of-type {\n",
       "        vertical-align: middle;\n",
       "    }\n",
       "\n",
       "    .dataframe tbody tr th {\n",
       "        vertical-align: top;\n",
       "    }\n",
       "\n",
       "    .dataframe thead th {\n",
       "        text-align: right;\n",
       "    }\n",
       "</style>\n",
       "<table border=\"1\" class=\"dataframe\">\n",
       "  <thead>\n",
       "    <tr style=\"text-align: right;\">\n",
       "      <th></th>\n",
       "      <th>dtype</th>\n",
       "    </tr>\n",
       "  </thead>\n",
       "  <tbody>\n",
       "    <tr>\n",
       "      <th>species</th>\n",
       "      <td>object</td>\n",
       "    </tr>\n",
       "    <tr>\n",
       "      <th>island</th>\n",
       "      <td>object</td>\n",
       "    </tr>\n",
       "    <tr>\n",
       "      <th>bill_length_mm</th>\n",
       "      <td>float64</td>\n",
       "    </tr>\n",
       "    <tr>\n",
       "      <th>bill_depth_mm</th>\n",
       "      <td>float64</td>\n",
       "    </tr>\n",
       "    <tr>\n",
       "      <th>flipper_length_mm</th>\n",
       "      <td>float64</td>\n",
       "    </tr>\n",
       "    <tr>\n",
       "      <th>body_mass_g</th>\n",
       "      <td>float64</td>\n",
       "    </tr>\n",
       "    <tr>\n",
       "      <th>sex</th>\n",
       "      <td>object</td>\n",
       "    </tr>\n",
       "  </tbody>\n",
       "</table>\n",
       "</div>"
      ],
      "text/plain": [
       "                     dtype\n",
       "species             object\n",
       "island              object\n",
       "bill_length_mm     float64\n",
       "bill_depth_mm      float64\n",
       "flipper_length_mm  float64\n",
       "body_mass_g        float64\n",
       "sex                 object"
      ]
     },
     "execution_count": 30,
     "metadata": {},
     "output_type": "execute_result"
    }
   ],
   "source": [
    "eda_ins_dtypes"
   ]
  },
  {
   "cell_type": "code",
   "execution_count": 31,
   "metadata": {},
   "outputs": [
    {
     "name": "stdout",
     "output_type": "stream",
     "text": [
      "Shape:  (344, 7)\n",
      "species           object   0 (0%) NAs : Adelie, Adelie, Adelie, Adelie, Adelie, Adelie, Adelie, Adelie, Adelie\n",
      "island            object   0 (0%) NAs : Torgersen, Torgersen, Torgersen, Torgersen, Torgersen, Torgersen, Torg\n",
      "bill_length_mm    float64  2 (1%) NAs : 39.1, 39.5, 40.3, nan, 36.7, 39.3, 38.9, 39.2, 34.1, 42.0\n",
      "bill_depth_mm     float64  2 (1%) NAs : 18.7, 17.4, 18.0, nan, 19.3, 20.6, 17.8, 19.6, 18.1, 20.2\n",
      "flipper_length_mm float64  2 (1%) NAs : 181.0, 186.0, 195.0, nan, 193.0, 190.0, 181.0, 195.0, 193.0, 190.0\n",
      "body_mass_g       float64  2 (1%) NAs : 3750.0, 3800.0, 3250.0, nan, 3450.0, 3650.0, 3625.0, 4675.0, 3475.0, 4\n",
      "sex               object  11 (3%) NAs : Male, Female, Female, nan, Female, Male, Female, Male, nan, nan\n"
     ]
    }
   ],
   "source": [
    "eda_ins.glimpse()"
   ]
  },
  {
   "cell_type": "code",
   "execution_count": null,
   "metadata": {},
   "outputs": [],
   "source": []
  }
 ],
 "metadata": {
  "interpreter": {
   "hash": "af10c12910fe547a104a4e7054f6b738e5a585692cba659c6842421994a84dc5"
  },
  "kernelspec": {
   "display_name": "Python 3.8.12 64-bit ('datamind': conda)",
   "language": "python",
   "name": "python3"
  },
  "language_info": {
   "codemirror_mode": {
    "name": "ipython",
    "version": 3
   },
   "file_extension": ".py",
   "mimetype": "text/x-python",
   "name": "python",
   "nbconvert_exporter": "python",
   "pygments_lexer": "ipython3",
   "version": "3.8.12"
  },
  "orig_nbformat": 4
 },
 "nbformat": 4,
 "nbformat_minor": 2
}
