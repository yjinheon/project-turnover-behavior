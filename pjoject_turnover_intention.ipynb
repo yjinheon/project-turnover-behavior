{
  "nbformat": 4,
  "nbformat_minor": 0,
  "metadata": {
    "colab": {
      "name": "pjoject-turnover_intention.ipynb",
      "provenance": [],
      "collapsed_sections": [],
      "toc_visible": true
    },
    "kernelspec": {
      "display_name": "Python 3",
      "name": "python3"
    },
    "language_info": {
      "name": "python"
    }
  },
  "cells": [
    {
      "cell_type": "markdown",
      "metadata": {
        "id": "eRj_NC08ijS_"
      },
      "source": [
        "### 필요패키지 설치 및 로드\n",
        "\n",
        "\n"
      ]
    },
    {
      "cell_type": "code",
      "metadata": {
        "id": "1QEcuUlKi4P0"
      },
      "source": [
        "### Colab용 추가 패키지\n",
        "%%capture\n",
        "import sys\n",
        "\n",
        "if 'google.colab' in sys.modules:\n",
        "    # Install packages in Colab\n",
        "    !pip install category_encoders==2.*\n",
        "    !pip install eli5\n",
        "    !pip install pandas-profiling==2.*\n",
        "    !pip install pdpbox\n",
        "    !pip install shap\n",
        "    !pip install imblearn # oversampling\n",
        "    !pip install plotly==5.1.0 # 시각화 \n",
        "    !pip install catboost\n",
        "    !pip install ipywidgets\n",
        "    !pip install xgboost"
      ],
      "execution_count": null,
      "outputs": []
    },
    {
      "cell_type": "code",
      "metadata": {
        "id": "_WZsw2dKi4d6"
      },
      "source": [
        "# 사용 패키지 로드\n",
        "import pandas as pd\n",
        "import numpy as np\n",
        "import seaborn as sns\n",
        "from xgboost import XGBClassifier\n",
        "from sklearn.model_selection import train_test_split\n",
        "from sklearn.metrics import accuracy_score\n",
        "from sklearn.metrics import f1_score\n",
        "from sklearn.preprocessing import LabelEncoder # 인코딩용\n",
        "from imblearn.over_sampling import SMOTE # 오버샘플링\n",
        "from sklearn.model_selection import train_test_split\n",
        "from category_encoders import OneHotEncoder\n",
        "from sklearn.impute import SimpleImputer\n",
        "from sklearn.preprocessing import StandardScaler\n",
        "from sklearn.pipeline import make_pipeline\n",
        "from sklearn.tree import DecisionTreeClassifier\n",
        "from category_encoders import OrdinalEncoder\n",
        "from sklearn.ensemble import RandomForestClassifier\n",
        "from catboost import CatBoostClassifier\n",
        "from sklearn.model_selection import GridSearchCV"
      ],
      "execution_count": null,
      "outputs": []
    },
    {
      "cell_type": "code",
      "metadata": {
        "id": "QepWhNiN0dxb"
      },
      "source": [
        "import numpy as np\n",
        "import pandas as pd\n",
        "import matplotlib.pyplot as plt\n",
        "import seaborn as sns\n",
        "from sklearn.metrics import roc_curve, confusion_matrix, auc\n",
        "from sklearn import linear_model\n",
        "\n",
        "def evalBinaryClassifier(model,x, y, labels=['Positives','Negatives']):\n",
        "        '''\n",
        "        Visualize the performance of  a Logistic Regression Binary Classifier.\n",
        "\n",
        "        Displays a labelled Confusion Matrix, distributions of the predicted\n",
        "        probabilities for both classes, the ROC curve, and F1 score of a fitted\n",
        "        Binary Logistic Classifier. Author: gregcondit.com/articles/logr-charts\n",
        "\n",
        "        Parameters\n",
        "        ----------\n",
        "        model : fitted scikit-learn model with predict_proba & predict methods\n",
        "            and classes_ attribute. Typically LogisticRegression or \n",
        "            LogisticRegressionCV\n",
        "\n",
        "        x : {array-like, sparse matrix}, shape (n_samples, n_features)\n",
        "            Training vector, where n_samples is the number of samples\n",
        "            in the data to be tested, and n_features is the number of features\n",
        "\n",
        "        y : array-like, shape (n_samples,)\n",
        "            Target vector relative to x.\n",
        "\n",
        "        labels: list, optional\n",
        "            list of text labels for the two classes, with the positive label first\n",
        "\n",
        "        Displays\n",
        "        ----------\n",
        "        3 Subplots\n",
        "\n",
        "        Returns\n",
        "        ----------\n",
        "        F1: float\n",
        "        '''\n",
        "        #model predicts probabilities of positive class\n",
        "        p = model.predict_proba(x)\n",
        "        if len(model.classes_)!=2:\n",
        "            raise ValueError('A binary class problem is required')\n",
        "        if model.classes_[1] == 1:\n",
        "            pos_p = p[:,1]\n",
        "        elif model.classes_[0] == 1:\n",
        "            pos_p = p[:,0]\n",
        "\n",
        "        #FIGURE\n",
        "        plt.figure(figsize=[15,4])\n",
        "\n",
        "        #1 -- Confusion matrix\n",
        "        cm = confusion_matrix(y,model.predict(x))\n",
        "        plt.subplot(131)\n",
        "        ax = sns.heatmap(cm, annot=True, cmap='Blues', cbar=False, \n",
        "                    annot_kws={\"size\": 14}, fmt='g')\n",
        "        cmlabels = ['True Negatives', 'False Positives',\n",
        "                  'False Negatives', 'True Positives']\n",
        "        for i,t in enumerate(ax.texts):\n",
        "            t.set_text(t.get_text() + \"\\n\" + cmlabels[i])\n",
        "        plt.title('Confusion Matrix', size=15)\n",
        "        plt.xlabel('Predicted Values', size=13)\n",
        "        plt.ylabel('True Values', size=13)\n",
        "\n",
        "        #2 -- Distributions of Predicted Probabilities of both classes\n",
        "        df = pd.DataFrame({'probPos':pos_p, 'target': y})\n",
        "        plt.subplot(132)\n",
        "        plt.hist(df[df.target==1].probPos, density=True, \n",
        "                 alpha=.5, color='green',  label=labels[0])\n",
        "        plt.hist(df[df.target==0].probPos, density=True, \n",
        "                 alpha=.5, color='red', label=labels[1])\n",
        "        plt.axvline(.5, color='blue', linestyle='--', label='Boundary')\n",
        "        plt.xlim([0,1])\n",
        "        plt.title('Distributions of Predictions', size=15)\n",
        "        plt.xlabel('Positive Probability (predicted)', size=13)\n",
        "        plt.ylabel('Samples (normalized scale)', size=13)\n",
        "        plt.legend(loc=\"upper right\")\n",
        "\n",
        "        #3 -- ROC curve with annotated decision point\n",
        "        fp_rates, tp_rates, _ = roc_curve(y,p[:,1])\n",
        "        roc_auc = auc(fp_rates, tp_rates)\n",
        "        plt.subplot(133)\n",
        "        plt.plot(fp_rates, tp_rates, color='green',\n",
        "                 lw=1, label='ROC curve (area = %0.2f)' % roc_auc)\n",
        "        plt.plot([0, 1], [0, 1], lw=1, linestyle='--', color='grey')\n",
        "        #plot current decision point:\n",
        "        tn, fp, fn, tp = [i for i in cm.ravel()]\n",
        "        plt.plot(fp/(fp+tn), tp/(tp+fn), 'bo', markersize=8, label='Decision Point')\n",
        "        plt.xlim([0.0, 1.0])\n",
        "        plt.ylim([0.0, 1.05])\n",
        "        plt.xlabel('False Positive Rate', size=13)\n",
        "        plt.ylabel('True Positive Rate', size=13)\n",
        "        plt.title('ROC Curve', size=15)\n",
        "        plt.legend(loc=\"lower right\")\n",
        "        plt.subplots_adjust(wspace=.3)\n",
        "        plt.show()\n",
        "        #Print and Return the F1 score\n",
        "        tn, fp, fn, tp = [i for i in cm.ravel()]\n",
        "        precision = tp / (tp + fp)\n",
        "        recall = tp / (tp + fn)\n",
        "        F1 = 2*(precision * recall) / (precision + recall)\n",
        "        printout = (\n",
        "            f'Precision: {round(precision,2)} | '\n",
        "            f'Recall: {round(recall,2)} | '\n",
        "            f'F1 Score: {round(F1,2)} | '\n",
        "        )\n",
        "        print(printout)\n",
        "        return F1"
      ],
      "execution_count": null,
      "outputs": []
    },
    {
      "cell_type": "code",
      "metadata": {
        "id": "_JI9PS7x0m4L"
      },
      "source": [
        "def demo_report(model,X,y,title):\n",
        "    y_pred = mode델.predict(X)\n",
        "    inb = classification_report(y,y_pred)\n",
        "    repeat = \"-\" *50\n",
        "    print(repeat)      \n",
        "    print(f\"Classification Report: {title}\")\n",
        "    print(repeat)      \n",
        "    print(\"\\n\")\n",
        "    print(f\"{inb}\")\n",
        "    print(repeat)\n",
        "    print(repeat)      \n",
        "    print(f\"Confusion Matrix & Roc Curve\")\n",
        "    print(repeat)\n",
        "    F1 = evalBinaryClassifier(model,X,y)"
      ],
      "execution_count": null,
      "outputs": []
    },
    {
      "cell_type": "markdown",
      "metadata": {
        "id": "LiIuSicki4yq"
      },
      "source": [
        "## 문제정의\n",
        "\n",
        "### GOMS 조사개요\n",
        "최근 청년층 고용문제 특히, 대학 졸업자의 고용 악화가 큰 사회적 문제가 되고 있다. 대졸 청년층의 취업난은 개인과 가정을 힘들게 하고, 사회경제적 손실을 넘어 사회병리적인 문제로 심화되고 있다.\n",
        "\n",
        " \n",
        "이렇듯 장기간 지속되는 고학력 청년실업 문제를 풀려면, 대학 졸업 후 노동시장의 진입과 이행에 대한 다각적인 정책이 필요하다.  졸업시점의 경제상황에 따라 대졸자의 노동시장진입 및 노동시장 성과에 미치는 효과는 상당한 차이를 보이기에 이를 정확하게 파악하는 것이 우선이다. 2009년 이후 청년층 대졸자의 급감, 대학구조개편, 교육정보 공시제도 시행 등의 고등교육 정책이 가시화됨에 따라 대학교육서비스 시장은 상당한 변화가 있을 것으로 예상된다.\n",
        "\n",
        "이러한 변화에 부응하고 정책적 수요를 충족시키기 위한 대졸자들의 노동시장 진입과 정착 과정에 대한 실증적 자료가 요구됨에 따라  『대졸자직업이동경로조사』를 실시하게 되었다.\n",
        "\n",
        "###분석목적\n",
        "![초년생이직.png](data:image/png;base64,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)\n",
        "\n",
        "\n",
        "**본 연구는 19년 GOMS 조사결과를 바탕으로 머신러닝을 활용해 대학을 졸업한 임금노동자의 이직의도를 결정하는 주요 변수들을 도출하는 것을 그 목적으로 한다.**\n"
      ]
    },
    {
      "cell_type": "markdown",
      "metadata": {
        "id": "Yi2NB5PJ2Zuu"
      },
      "source": [
        "## 2. 가설, 평가지표, Baseline 선택"
      ]
    },
    {
      "cell_type": "code",
      "metadata": {
        "id": "7z6x8R51KTBL"
      },
      "source": [
        "# 원본데이터 불러오기\n",
        "df = pd.read_csv('data/GP18__2019_use.csv',encoding='cp949')\n",
        "df.columns = df.columns.str.lower()"
      ],
      "execution_count": null,
      "outputs": []
    },
    {
      "cell_type": "code",
      "metadata": {
        "colab": {
          "base_uri": "https://localhost:8080/",
          "height": 273
        },
        "id": "d2ZloMqpRtem",
        "outputId": "79525b12-ce2e-4735-c019-afe5dc7906ca"
      },
      "source": [
        "df.head()"
      ],
      "execution_count": null,
      "outputs": [
        {
          "output_type": "execute_result",
          "data": {
            "text/html": [
              "<div>\n",
              "<style scoped>\n",
              "    .dataframe tbody tr th:only-of-type {\n",
              "        vertical-align: middle;\n",
              "    }\n",
              "\n",
              "    .dataframe tbody tr th {\n",
              "        vertical-align: top;\n",
              "    }\n",
              "\n",
              "    .dataframe thead th {\n",
              "        text-align: right;\n",
              "    }\n",
              "</style>\n",
              "<table border=\"1\" class=\"dataframe\">\n",
              "  <thead>\n",
              "    <tr style=\"text-align: right;\">\n",
              "      <th></th>\n",
              "      <th>g181pid</th>\n",
              "      <th>g181branch</th>\n",
              "      <th>g181found</th>\n",
              "      <th>g181course</th>\n",
              "      <th>g181daynight</th>\n",
              "      <th>g181majorcat</th>\n",
              "      <th>g181dpmt</th>\n",
              "      <th>g181dpmt_n</th>\n",
              "      <th>g181major</th>\n",
              "      <th>g181major_n</th>\n",
              "      <th>g181school</th>\n",
              "      <th>g181province</th>\n",
              "      <th>g181area</th>\n",
              "      <th>g181sex</th>\n",
              "      <th>g181birthy</th>\n",
              "      <th>g181birthm</th>\n",
              "      <th>g181age</th>\n",
              "      <th>g181graduy</th>\n",
              "      <th>g181gradum</th>\n",
              "      <th>g181sq001</th>\n",
              "      <th>g181sq002</th>\n",
              "      <th>g181sq003</th>\n",
              "      <th>g181sq004</th>\n",
              "      <th>g181sq005</th>\n",
              "      <th>g181sq006</th>\n",
              "      <th>g181sq007</th>\n",
              "      <th>g181sq008</th>\n",
              "      <th>g181sq009</th>\n",
              "      <th>g181sq010</th>\n",
              "      <th>g181sq011</th>\n",
              "      <th>g181a001</th>\n",
              "      <th>g181a002</th>\n",
              "      <th>g181a003</th>\n",
              "      <th>g181a004_10</th>\n",
              "      <th>g181a005_10</th>\n",
              "      <th>g181a006_10</th>\n",
              "      <th>g181a007a_2018</th>\n",
              "      <th>g181a007_2018</th>\n",
              "      <th>g181a008_2018</th>\n",
              "      <th>g181a009_2018</th>\n",
              "      <th>...</th>\n",
              "      <th>g181q017</th>\n",
              "      <th>g181q018</th>\n",
              "      <th>g181q019</th>\n",
              "      <th>g181q020</th>\n",
              "      <th>g181q021</th>\n",
              "      <th>g181q022</th>\n",
              "      <th>g181q023</th>\n",
              "      <th>g181p001</th>\n",
              "      <th>g181p008</th>\n",
              "      <th>g181p014</th>\n",
              "      <th>g181p016</th>\n",
              "      <th>g181p017</th>\n",
              "      <th>g181p024</th>\n",
              "      <th>g181p025</th>\n",
              "      <th>g181p026</th>\n",
              "      <th>g181p027</th>\n",
              "      <th>g181p028z</th>\n",
              "      <th>g181p029</th>\n",
              "      <th>g181p030</th>\n",
              "      <th>g181p031z</th>\n",
              "      <th>g181p032</th>\n",
              "      <th>g181p033</th>\n",
              "      <th>g181p034</th>\n",
              "      <th>g181p035</th>\n",
              "      <th>g181p036</th>\n",
              "      <th>g181p046</th>\n",
              "      <th>g181p037</th>\n",
              "      <th>g181p038</th>\n",
              "      <th>g181p039</th>\n",
              "      <th>g181p040z</th>\n",
              "      <th>g181p041</th>\n",
              "      <th>g181r001</th>\n",
              "      <th>g181r002</th>\n",
              "      <th>g181r003</th>\n",
              "      <th>g181r023</th>\n",
              "      <th>g181r024</th>\n",
              "      <th>g181r025</th>\n",
              "      <th>g181r026</th>\n",
              "      <th>g181r027</th>\n",
              "      <th>g181wt</th>\n",
              "    </tr>\n",
              "  </thead>\n",
              "  <tbody>\n",
              "    <tr>\n",
              "      <th>0</th>\n",
              "      <td>100013</td>\n",
              "      <td>1</td>\n",
              "      <td>3</td>\n",
              "      <td>3</td>\n",
              "      <td>2</td>\n",
              "      <td>1</td>\n",
              "      <td>C010101</td>\n",
              "      <td>일본어</td>\n",
              "      <td>C01010100027</td>\n",
              "      <td>비즈니스일본어과</td>\n",
              "      <td>1</td>\n",
              "      <td>1</td>\n",
              "      <td>1</td>\n",
              "      <td>2</td>\n",
              "      <td>1996</td>\n",
              "      <td>3</td>\n",
              "      <td>23.500000</td>\n",
              "      <td>2018</td>\n",
              "      <td>2</td>\n",
              "      <td>1</td>\n",
              "      <td>NaN</td>\n",
              "      <td>NaN</td>\n",
              "      <td>1</td>\n",
              "      <td>NaN</td>\n",
              "      <td>1.0</td>\n",
              "      <td>NaN</td>\n",
              "      <td>NaN</td>\n",
              "      <td>NaN</td>\n",
              "      <td>NaN</td>\n",
              "      <td>NaN</td>\n",
              "      <td>2019.0</td>\n",
              "      <td>6.0</td>\n",
              "      <td>1.0</td>\n",
              "      <td>18.0</td>\n",
              "      <td>91.0</td>\n",
              "      <td>911.0</td>\n",
              "      <td>6.0</td>\n",
              "      <td>54.0</td>\n",
              "      <td>541.0</td>\n",
              "      <td>5419.0</td>\n",
              "      <td>...</td>\n",
              "      <td>3</td>\n",
              "      <td>5</td>\n",
              "      <td>5</td>\n",
              "      <td>6</td>\n",
              "      <td>6</td>\n",
              "      <td>6</td>\n",
              "      <td>6</td>\n",
              "      <td>1</td>\n",
              "      <td>2</td>\n",
              "      <td>1</td>\n",
              "      <td>3</td>\n",
              "      <td>4</td>\n",
              "      <td>1</td>\n",
              "      <td>111</td>\n",
              "      <td>4</td>\n",
              "      <td>1.0</td>\n",
              "      <td>3</td>\n",
              "      <td>4</td>\n",
              "      <td>1.0</td>\n",
              "      <td>3</td>\n",
              "      <td>7</td>\n",
              "      <td>7</td>\n",
              "      <td>5</td>\n",
              "      <td>5</td>\n",
              "      <td>3</td>\n",
              "      <td>1</td>\n",
              "      <td>1.0</td>\n",
              "      <td>2.0</td>\n",
              "      <td>0</td>\n",
              "      <td>NaN</td>\n",
              "      <td>2</td>\n",
              "      <td>2</td>\n",
              "      <td>NaN</td>\n",
              "      <td>2</td>\n",
              "      <td>100</td>\n",
              "      <td>0</td>\n",
              "      <td>0</td>\n",
              "      <td>0</td>\n",
              "      <td>1.0</td>\n",
              "      <td>33.641815</td>\n",
              "    </tr>\n",
              "    <tr>\n",
              "      <th>1</th>\n",
              "      <td>100018</td>\n",
              "      <td>1</td>\n",
              "      <td>3</td>\n",
              "      <td>3</td>\n",
              "      <td>1</td>\n",
              "      <td>1</td>\n",
              "      <td>C010101</td>\n",
              "      <td>일본어</td>\n",
              "      <td>C01010100013</td>\n",
              "      <td>일본어과</td>\n",
              "      <td>1</td>\n",
              "      <td>1</td>\n",
              "      <td>1</td>\n",
              "      <td>1</td>\n",
              "      <td>1997</td>\n",
              "      <td>12</td>\n",
              "      <td>21.750000</td>\n",
              "      <td>2018</td>\n",
              "      <td>2</td>\n",
              "      <td>12</td>\n",
              "      <td>2019.0</td>\n",
              "      <td>1.0</td>\n",
              "      <td>12</td>\n",
              "      <td>2.0</td>\n",
              "      <td>NaN</td>\n",
              "      <td>NaN</td>\n",
              "      <td>2.0</td>\n",
              "      <td>NaN</td>\n",
              "      <td>2.0</td>\n",
              "      <td>2.0</td>\n",
              "      <td>NaN</td>\n",
              "      <td>NaN</td>\n",
              "      <td>NaN</td>\n",
              "      <td>NaN</td>\n",
              "      <td>NaN</td>\n",
              "      <td>NaN</td>\n",
              "      <td>NaN</td>\n",
              "      <td>NaN</td>\n",
              "      <td>NaN</td>\n",
              "      <td>NaN</td>\n",
              "      <td>...</td>\n",
              "      <td>4</td>\n",
              "      <td>4</td>\n",
              "      <td>4</td>\n",
              "      <td>4</td>\n",
              "      <td>4</td>\n",
              "      <td>4</td>\n",
              "      <td>4</td>\n",
              "      <td>1</td>\n",
              "      <td>2</td>\n",
              "      <td>1</td>\n",
              "      <td>3</td>\n",
              "      <td>4</td>\n",
              "      <td>8</td>\n",
              "      <td>825</td>\n",
              "      <td>4</td>\n",
              "      <td>1.0</td>\n",
              "      <td>3</td>\n",
              "      <td>4</td>\n",
              "      <td>1.0</td>\n",
              "      <td>3</td>\n",
              "      <td>7</td>\n",
              "      <td>7</td>\n",
              "      <td>4</td>\n",
              "      <td>4</td>\n",
              "      <td>3</td>\n",
              "      <td>1</td>\n",
              "      <td>1.0</td>\n",
              "      <td>3.0</td>\n",
              "      <td>0</td>\n",
              "      <td>NaN</td>\n",
              "      <td>2</td>\n",
              "      <td>2</td>\n",
              "      <td>NaN</td>\n",
              "      <td>2</td>\n",
              "      <td>10</td>\n",
              "      <td>0</td>\n",
              "      <td>0</td>\n",
              "      <td>20</td>\n",
              "      <td>NaN</td>\n",
              "      <td>21.997140</td>\n",
              "    </tr>\n",
              "    <tr>\n",
              "      <th>2</th>\n",
              "      <td>100019</td>\n",
              "      <td>1</td>\n",
              "      <td>3</td>\n",
              "      <td>3</td>\n",
              "      <td>1</td>\n",
              "      <td>1</td>\n",
              "      <td>C010101</td>\n",
              "      <td>일본어</td>\n",
              "      <td>C01010100013</td>\n",
              "      <td>일본어과</td>\n",
              "      <td>1</td>\n",
              "      <td>1</td>\n",
              "      <td>1</td>\n",
              "      <td>1</td>\n",
              "      <td>1997</td>\n",
              "      <td>10</td>\n",
              "      <td>21.916667</td>\n",
              "      <td>2018</td>\n",
              "      <td>2</td>\n",
              "      <td>1</td>\n",
              "      <td>NaN</td>\n",
              "      <td>NaN</td>\n",
              "      <td>1</td>\n",
              "      <td>NaN</td>\n",
              "      <td>2.0</td>\n",
              "      <td>NaN</td>\n",
              "      <td>NaN</td>\n",
              "      <td>NaN</td>\n",
              "      <td>NaN</td>\n",
              "      <td>NaN</td>\n",
              "      <td>2019.0</td>\n",
              "      <td>7.0</td>\n",
              "      <td>1.0</td>\n",
              "      <td>16.0</td>\n",
              "      <td>85.0</td>\n",
              "      <td>856.0</td>\n",
              "      <td>3.0</td>\n",
              "      <td>21.0</td>\n",
              "      <td>214.0</td>\n",
              "      <td>2141.0</td>\n",
              "      <td>...</td>\n",
              "      <td>6</td>\n",
              "      <td>5</td>\n",
              "      <td>4</td>\n",
              "      <td>3</td>\n",
              "      <td>5</td>\n",
              "      <td>7</td>\n",
              "      <td>7</td>\n",
              "      <td>1</td>\n",
              "      <td>2</td>\n",
              "      <td>1</td>\n",
              "      <td>3</td>\n",
              "      <td>4</td>\n",
              "      <td>5</td>\n",
              "      <td>508</td>\n",
              "      <td>6</td>\n",
              "      <td>3.0</td>\n",
              "      <td>3</td>\n",
              "      <td>6</td>\n",
              "      <td>3.0</td>\n",
              "      <td>3</td>\n",
              "      <td>1</td>\n",
              "      <td>1</td>\n",
              "      <td>6</td>\n",
              "      <td>6</td>\n",
              "      <td>5</td>\n",
              "      <td>1</td>\n",
              "      <td>1.0</td>\n",
              "      <td>2.0</td>\n",
              "      <td>0</td>\n",
              "      <td>NaN</td>\n",
              "      <td>1</td>\n",
              "      <td>2</td>\n",
              "      <td>NaN</td>\n",
              "      <td>2</td>\n",
              "      <td>40</td>\n",
              "      <td>0</td>\n",
              "      <td>0</td>\n",
              "      <td>38</td>\n",
              "      <td>3.0</td>\n",
              "      <td>21.997140</td>\n",
              "    </tr>\n",
              "    <tr>\n",
              "      <th>3</th>\n",
              "      <td>100034</td>\n",
              "      <td>1</td>\n",
              "      <td>3</td>\n",
              "      <td>3</td>\n",
              "      <td>1</td>\n",
              "      <td>1</td>\n",
              "      <td>C010101</td>\n",
              "      <td>일본어</td>\n",
              "      <td>C01010100005</td>\n",
              "      <td>관광일어과</td>\n",
              "      <td>1</td>\n",
              "      <td>2</td>\n",
              "      <td>8</td>\n",
              "      <td>2</td>\n",
              "      <td>1994</td>\n",
              "      <td>2</td>\n",
              "      <td>25.583333</td>\n",
              "      <td>2018</td>\n",
              "      <td>2</td>\n",
              "      <td>1</td>\n",
              "      <td>NaN</td>\n",
              "      <td>NaN</td>\n",
              "      <td>1</td>\n",
              "      <td>NaN</td>\n",
              "      <td>1.0</td>\n",
              "      <td>NaN</td>\n",
              "      <td>NaN</td>\n",
              "      <td>NaN</td>\n",
              "      <td>NaN</td>\n",
              "      <td>NaN</td>\n",
              "      <td>2018.0</td>\n",
              "      <td>12.0</td>\n",
              "      <td>1.0</td>\n",
              "      <td>8.0</td>\n",
              "      <td>51.0</td>\n",
              "      <td>511.0</td>\n",
              "      <td>6.0</td>\n",
              "      <td>52.0</td>\n",
              "      <td>522.0</td>\n",
              "      <td>5221.0</td>\n",
              "      <td>...</td>\n",
              "      <td>7</td>\n",
              "      <td>5</td>\n",
              "      <td>6</td>\n",
              "      <td>5</td>\n",
              "      <td>2</td>\n",
              "      <td>5</td>\n",
              "      <td>1</td>\n",
              "      <td>1</td>\n",
              "      <td>2</td>\n",
              "      <td>1</td>\n",
              "      <td>3</td>\n",
              "      <td>3</td>\n",
              "      <td>8</td>\n",
              "      <td>813</td>\n",
              "      <td>6</td>\n",
              "      <td>1.0</td>\n",
              "      <td>5</td>\n",
              "      <td>6</td>\n",
              "      <td>1.0</td>\n",
              "      <td>5</td>\n",
              "      <td>2</td>\n",
              "      <td>5</td>\n",
              "      <td>6</td>\n",
              "      <td>6</td>\n",
              "      <td>5</td>\n",
              "      <td>1</td>\n",
              "      <td>1.0</td>\n",
              "      <td>2.0</td>\n",
              "      <td>300</td>\n",
              "      <td>NaN</td>\n",
              "      <td>2</td>\n",
              "      <td>1</td>\n",
              "      <td>300.0</td>\n",
              "      <td>2</td>\n",
              "      <td>100</td>\n",
              "      <td>10</td>\n",
              "      <td>0</td>\n",
              "      <td>30</td>\n",
              "      <td>1.0</td>\n",
              "      <td>35.853258</td>\n",
              "    </tr>\n",
              "    <tr>\n",
              "      <th>4</th>\n",
              "      <td>100036</td>\n",
              "      <td>1</td>\n",
              "      <td>3</td>\n",
              "      <td>3</td>\n",
              "      <td>1</td>\n",
              "      <td>1</td>\n",
              "      <td>C010101</td>\n",
              "      <td>일본어</td>\n",
              "      <td>C01010100005</td>\n",
              "      <td>관광일어과</td>\n",
              "      <td>1</td>\n",
              "      <td>2</td>\n",
              "      <td>8</td>\n",
              "      <td>1</td>\n",
              "      <td>1997</td>\n",
              "      <td>12</td>\n",
              "      <td>21.750000</td>\n",
              "      <td>2018</td>\n",
              "      <td>2</td>\n",
              "      <td>1</td>\n",
              "      <td>NaN</td>\n",
              "      <td>NaN</td>\n",
              "      <td>1</td>\n",
              "      <td>NaN</td>\n",
              "      <td>1.0</td>\n",
              "      <td>NaN</td>\n",
              "      <td>NaN</td>\n",
              "      <td>NaN</td>\n",
              "      <td>NaN</td>\n",
              "      <td>NaN</td>\n",
              "      <td>2018.0</td>\n",
              "      <td>4.0</td>\n",
              "      <td>2.0</td>\n",
              "      <td>7.0</td>\n",
              "      <td>47.0</td>\n",
              "      <td>471.0</td>\n",
              "      <td>7.0</td>\n",
              "      <td>61.0</td>\n",
              "      <td>615.0</td>\n",
              "      <td>6151.0</td>\n",
              "      <td>...</td>\n",
              "      <td>6</td>\n",
              "      <td>6</td>\n",
              "      <td>6</td>\n",
              "      <td>4</td>\n",
              "      <td>4</td>\n",
              "      <td>3</td>\n",
              "      <td>4</td>\n",
              "      <td>1</td>\n",
              "      <td>2</td>\n",
              "      <td>1</td>\n",
              "      <td>3</td>\n",
              "      <td>4</td>\n",
              "      <td>8</td>\n",
              "      <td>815</td>\n",
              "      <td>4</td>\n",
              "      <td>1.0</td>\n",
              "      <td>3</td>\n",
              "      <td>4</td>\n",
              "      <td>1.0</td>\n",
              "      <td>3</td>\n",
              "      <td>1</td>\n",
              "      <td>11</td>\n",
              "      <td>6</td>\n",
              "      <td>6</td>\n",
              "      <td>4</td>\n",
              "      <td>1</td>\n",
              "      <td>1.0</td>\n",
              "      <td>3.0</td>\n",
              "      <td>1008</td>\n",
              "      <td>NaN</td>\n",
              "      <td>2</td>\n",
              "      <td>1</td>\n",
              "      <td>1008.0</td>\n",
              "      <td>2</td>\n",
              "      <td>30</td>\n",
              "      <td>0</td>\n",
              "      <td>0</td>\n",
              "      <td>0</td>\n",
              "      <td>1.0</td>\n",
              "      <td>20.945343</td>\n",
              "    </tr>\n",
              "  </tbody>\n",
              "</table>\n",
              "<p>5 rows × 290 columns</p>\n",
              "</div>"
            ],
            "text/plain": [
              "   g181pid  g181branch  g181found  ...  g181r026  g181r027     g181wt\n",
              "0   100013           1          3  ...         0       1.0  33.641815\n",
              "1   100018           1          3  ...        20       NaN  21.997140\n",
              "2   100019           1          3  ...        38       3.0  21.997140\n",
              "3   100034           1          3  ...        30       1.0  35.853258\n",
              "4   100036           1          3  ...         0       1.0  20.945343\n",
              "\n",
              "[5 rows x 290 columns]"
            ]
          },
          "metadata": {
            "tags": []
          },
          "execution_count": 267
        }
      ]
    },
    {
      "cell_type": "code",
      "metadata": {
        "colab": {
          "base_uri": "https://localhost:8080/"
        },
        "id": "OoVZROJuGIkA",
        "outputId": "f3453c71-46b1-4c6f-d833-d1a453a71fb9"
      },
      "source": [
        "df.shape"
      ],
      "execution_count": null,
      "outputs": [
        {
          "output_type": "execute_result",
          "data": {
            "text/plain": [
              "(18163, 290)"
            ]
          },
          "metadata": {
            "tags": []
          },
          "execution_count": 290
        }
      ]
    },
    {
      "cell_type": "markdown",
      "metadata": {
        "id": "JwEMRbaTZoPS"
      },
      "source": [
        "### 가설\n",
        "\n",
        "- 비정규직이 이직준비가능성이 높을 것이다.\n",
        "- 출근에 걸리는 시간이 이직준비 여부에 영향을 미칠 것이다.\n",
        "\n"
      ]
    },
    {
      "cell_type": "markdown",
      "metadata": {
        "id": "bKTjIy5disye"
      },
      "source": [
        "## 3. Data Preprocessing"
      ]
    },
    {
      "cell_type": "code",
      "metadata": {
        "colab": {
          "base_uri": "https://localhost:8080/"
        },
        "id": "6s5gTYgDSCqL",
        "outputId": "121a8e5f-2dc3-4c47-d869-fc3052476643"
      },
      "source": [
        "# 지난 4주간 주로 한 일\n",
        "df.g181sq001.value_counts()"
      ],
      "execution_count": null,
      "outputs": [
        {
          "output_type": "execute_result",
          "data": {
            "text/plain": [
              "1     12281\n",
              "9      1961\n",
              "7      1656\n",
              "3       667\n",
              "8       589\n",
              "14      557\n",
              "4       134\n",
              "2       109\n",
              "10       93\n",
              "5        39\n",
              "6        33\n",
              "11       16\n",
              "12       13\n",
              "15        9\n",
              "13        6\n",
              "Name: g181sq001, dtype: int64"
            ]
          },
          "metadata": {
            "tags": []
          },
          "execution_count": 268
        }
      ]
    },
    {
      "cell_type": "code",
      "metadata": {
        "colab": {
          "base_uri": "https://localhost:8080/"
        },
        "id": "uSy6ZbJuWD_0",
        "outputId": "b9c583f8-2a0b-4d77-d935-b675a29da789"
      },
      "source": [
        "# 컬럼g 수 확인\n",
        "len(df.columns)"
      ],
      "execution_count": null,
      "outputs": [
        {
          "output_type": "execute_result",
          "data": {
            "text/plain": [
              "290"
            ]
          },
          "metadata": {
            "tags": []
          },
          "execution_count": 269
        }
      ]
    },
    {
      "cell_type": "code",
      "metadata": {
        "colab": {
          "base_uri": "https://localhost:8080/"
        },
        "id": "8XrCihxNx2cD",
        "outputId": "1671f589-4a32-463f-ea36-3705f643d0a4"
      },
      "source": [
        "df.columns[:10]"
      ],
      "execution_count": null,
      "outputs": [
        {
          "output_type": "execute_result",
          "data": {
            "text/plain": [
              "Index(['g181pid', 'g181branch', 'g181found', 'g181course', 'g181daynight',\n",
              "       'g181majorcat', 'g181dpmt', 'g181dpmt_n', 'g181major', 'g181major_n'],\n",
              "      dtype='object')"
            ]
          },
          "metadata": {
            "tags": []
          },
          "execution_count": 291
        }
      ]
    },
    {
      "cell_type": "markdown",
      "metadata": {
        "id": "G_yTLsPLx_ZI"
      },
      "source": [
        "### 데이터 확인용 전처리\n"
      ]
    },
    {
      "cell_type": "code",
      "metadata": {
        "colab": {
          "base_uri": "https://localhost:8080/"
        },
        "id": "fAT4Sp5nyzy8",
        "outputId": "b2cb6986-3e1a-402e-a17f-d239d9a72703"
      },
      "source": [
        "\"\"\"\n",
        "임금,비임금, 무급종사자\n",
        "기본적으로 임금종사자만 분석대상으로 함\n",
        "\"\"\"\n",
        "\n",
        "df.g181sq006.value_counts()"
      ],
      "execution_count": null,
      "outputs": [
        {
          "output_type": "execute_result",
          "data": {
            "text/plain": [
              "1.0    12647\n",
              "2.0      563\n",
              "3.0      103\n",
              "Name: g181sq006, dtype: int64"
            ]
          },
          "metadata": {
            "tags": []
          },
          "execution_count": 292
        }
      ]
    },
    {
      "cell_type": "code",
      "metadata": {
        "colab": {
          "base_uri": "https://localhost:8080/"
        },
        "id": "DQllTGQEzgdv",
        "outputId": "e4fcaad7-8d65-4744-cae4-bd30c7e231c3"
      },
      "source": [
        "## SQ4. 임금,비임금, 무급종사자\n",
        "f1_df=df[df['g181sq006'].notnull()]\n",
        "f1_df.g181sq006.unique()"
      ],
      "execution_count": null,
      "outputs": [
        {
          "output_type": "execute_result",
          "data": {
            "text/plain": [
              "array([1., 2., 3.])"
            ]
          },
          "metadata": {
            "tags": []
          },
          "execution_count": 293
        }
      ]
    },
    {
      "cell_type": "code",
      "metadata": {
        "colab": {
          "base_uri": "https://localhost:8080/"
        },
        "id": "woIrehUSyQk2",
        "outputId": "b18cb9ba-608c-47a0-fff2-19d55b021139"
      },
      "source": [
        "# 임금종사자 여부\n",
        "conditions = [\n",
        "    (f1_df['g181sq006'] == 1),\n",
        "    (f1_df['g181sq006'] == 2),\n",
        "    (f1_df['g181sq006'] == 3)]\n",
        "choices = ['emoloyed', 'self_employed', 'non_paid']\n",
        "f1_df['emp_status'] = np.select(conditions, choices, default='nan')\n",
        "print(f1_df.head())"
      ],
      "execution_count": null,
      "outputs": [
        {
          "output_type": "stream",
          "text": [
            "   g181pid  g181branch  g181found  ...  g181r027     g181wt     emp_status\n",
            "0   100013           1          3  ...       1.0  33.641815       emoloyed\n",
            "2   100019           1          3  ...       3.0  21.997140  self_employed\n",
            "3   100034           1          3  ...       1.0  35.853258       emoloyed\n",
            "4   100036           1          3  ...       1.0  20.945343       emoloyed\n",
            "5   100047           1          3  ...       1.0  19.420393       emoloyed\n",
            "\n",
            "[5 rows x 291 columns]\n"
          ],
          "name": "stdout"
        }
      ]
    },
    {
      "cell_type": "code",
      "metadata": {
        "colab": {
          "base_uri": "https://localhost:8080/"
        },
        "id": "ho9BwY9P0tp6",
        "outputId": "26d308ef-d48a-4bc8-c6a5-ffc7cdd11506"
      },
      "source": [
        "f1_df.shape"
      ],
      "execution_count": null,
      "outputs": [
        {
          "output_type": "execute_result",
          "data": {
            "text/plain": [
              "(13313, 291)"
            ]
          },
          "metadata": {
            "tags": []
          },
          "execution_count": 295
        }
      ]
    },
    {
      "cell_type": "code",
      "metadata": {
        "colab": {
          "base_uri": "https://localhost:8080/"
        },
        "id": "6TXp5bTJmTO7",
        "outputId": "65520fec-7d78-4bc1-e5a7-7d5d4bc28e40"
      },
      "source": [
        "f1_df.emp_status.value_counts()"
      ],
      "execution_count": null,
      "outputs": [
        {
          "output_type": "execute_result",
          "data": {
            "text/plain": [
              "emoloyed         12647\n",
              "self_employed      563\n",
              "non_paid           103\n",
              "Name: emp_status, dtype: int64"
            ]
          },
          "metadata": {
            "tags": []
          },
          "execution_count": 296
        }
      ]
    },
    {
      "cell_type": "code",
      "metadata": {
        "id": "MwjWLnS0mVNn"
      },
      "source": [
        "f1_df = pd.get_dummies(f1_df,columns = ['emp_status'])"
      ],
      "execution_count": null,
      "outputs": []
    },
    {
      "cell_type": "code",
      "metadata": {
        "id": "q1vg3DTymv4Y"
      },
      "source": [
        "employed_ck=f1_df[f1_df['emp_status_emoloyed']==1]"
      ],
      "execution_count": null,
      "outputs": []
    },
    {
      "cell_type": "code",
      "metadata": {
        "colab": {
          "base_uri": "https://localhost:8080/"
        },
        "id": "2rxXKSmz4TJ5",
        "outputId": "36dcc764-d8d4-4aa8-b52e-459faef4eed1"
      },
      "source": [
        "# 임금근로자\n",
        "employed_ck.g181a297.value_counts()"
      ],
      "execution_count": null,
      "outputs": [
        {
          "output_type": "execute_result",
          "data": {
            "text/plain": [
              "2.0    9493\n",
              "1.0    3154\n",
              "Name: g181a297, dtype: int64"
            ]
          },
          "metadata": {
            "tags": []
          },
          "execution_count": 278
        }
      ]
    },
    {
      "cell_type": "code",
      "metadata": {
        "colab": {
          "base_uri": "https://localhost:8080/"
        },
        "id": "1nU__Gdrf4UM",
        "outputId": "07e83202-e8d8-461a-f867-c4b7059cdf65"
      },
      "source": [
        "# 임금근로자 종사상 지위\n",
        "# 상용근로자만 분석대상으로 \n",
        "employed_ck[\"g181a021\"].value_counts()"
      ],
      "execution_count": null,
      "outputs": [
        {
          "output_type": "execute_result",
          "data": {
            "text/plain": [
              "1.0    10525\n",
              "2.0     1957\n",
              "3.0      165\n",
              "Name: g181a021, dtype: int64"
            ]
          },
          "metadata": {
            "tags": []
          },
          "execution_count": 299
        }
      ]
    },
    {
      "cell_type": "code",
      "metadata": {
        "id": "7rmFIgxjgz_z"
      },
      "source": [
        "fin_emp = employed_ck[employed_ck.g181a021==1]"
      ],
      "execution_count": null,
      "outputs": []
    },
    {
      "cell_type": "code",
      "metadata": {
        "id": "jGBgT9az6MNj"
      },
      "source": [
        "# 타겟 변수 \n",
        "target = 'g181a297'"
      ],
      "execution_count": null,
      "outputs": []
    },
    {
      "cell_type": "code",
      "metadata": {
        "colab": {
          "base_uri": "https://localhost:8080/"
        },
        "id": "LXsaDbhrgXLC",
        "outputId": "2ff2dfbd-1667-4016-afad-83ed52e929d4"
      },
      "source": [
        "# 상용근로자의 타겟변수 비율\n",
        "fin_emp[target].value_counts(normalize=True)"
      ],
      "execution_count": null,
      "outputs": [
        {
          "output_type": "execute_result",
          "data": {
            "text/plain": [
              "2.0    0.784988\n",
              "1.0    0.215012\n",
              "Name: g181a297, dtype: float64"
            ]
          },
          "metadata": {
            "tags": []
          },
          "execution_count": 300
        }
      ]
    },
    {
      "cell_type": "markdown",
      "metadata": {
        "id": "HOfclNN91NaY"
      },
      "source": [
        "fin_emp를 분석데이터로 사용"
      ]
    },
    {
      "cell_type": "code",
      "metadata": {
        "colab": {
          "base_uri": "https://localhost:8080/"
        },
        "id": "CkbC8WEZ97Hz",
        "outputId": "5de4d680-4be7-443d-c2c8-72e28b5099af"
      },
      "source": [
        "# 상용 근로자 기준으로 변수 선택\n",
        "fin_emp.shape"
      ],
      "execution_count": null,
      "outputs": [
        {
          "output_type": "execute_result",
          "data": {
            "text/plain": [
              "(10525, 295)"
            ]
          },
          "metadata": {
            "tags": []
          },
          "execution_count": 301
        }
      ]
    },
    {
      "cell_type": "code",
      "metadata": {
        "colab": {
          "base_uri": "https://localhost:8080/"
        },
        "id": "YgXKm7Kc2CP_",
        "outputId": "7849ce8c-8d9b-4ceb-dec7-3fde570dece1"
      },
      "source": [
        "# E1. 현재 일자리와 첫 일자리를 제외하고 다른 일자리를 다닌 경험 유무\n",
        "# 1인 경우 twice\n",
        "fin_emp[\"g181e001\"].value_counts()"
      ],
      "execution_count": null,
      "outputs": [
        {
          "output_type": "execute_result",
          "data": {
            "text/plain": [
              "2.0    10039\n",
              "1.0      486\n",
              "Name: g181e001, dtype: int64"
            ]
          },
          "metadata": {
            "tags": []
          },
          "execution_count": 302
        }
      ]
    },
    {
      "cell_type": "code",
      "metadata": {
        "colab": {
          "base_uri": "https://localhost:8080/"
        },
        "id": "_vCwo-1W7UlU",
        "outputId": "ae41c92a-3203-4614-9b07-2c18194c86b0"
      },
      "source": [
        "fin_emp[\"g181d001\"].value_counts()"
      ],
      "execution_count": null,
      "outputs": [
        {
          "output_type": "execute_result",
          "data": {
            "text/plain": [
              "1.0    2172\n",
              "Name: g181d001, dtype: int64"
            ]
          },
          "metadata": {
            "tags": []
          },
          "execution_count": 303
        }
      ]
    },
    {
      "cell_type": "code",
      "metadata": {
        "colab": {
          "base_uri": "https://localhost:8080/"
        },
        "id": "UpeG7H032wSf",
        "outputId": "ef4b7a81-04ba-448f-896e-647ec45b51df"
      },
      "source": [
        "fin_emp.g181d006.unique()"
      ],
      "execution_count": null,
      "outputs": [
        {
          "output_type": "execute_result",
          "data": {
            "text/plain": [
              "array([nan,  2.,  1.])"
            ]
          },
          "metadata": {
            "tags": []
          },
          "execution_count": 304
        }
      ]
    },
    {
      "cell_type": "code",
      "metadata": {
        "id": "nJGEIWx-3c6b"
      },
      "source": [
        "# 현직장이 첫직장이 아닌경우 나타내는 변수 추가\n",
        "# df['color'] = np.where(df['Set']=='Z', 'green', 'red')\n",
        "\n",
        "#cond_turnover = (fin_emp['g181d006']==2) \n",
        "\n",
        "fin_emp['turnover_once'] = np.where(fin_emp['g181d001'].isnull()==True, 0, fin_emp['g181d001'])"
      ],
      "execution_count": null,
      "outputs": []
    },
    {
      "cell_type": "code",
      "metadata": {
        "colab": {
          "base_uri": "https://localhost:8080/"
        },
        "id": "P40_F3sV2bpV",
        "outputId": "0c099acf-c8aa-4e8b-df92-6c5c94f85eca"
      },
      "source": [
        "# 현 직장이 두번째 직장인 경우\n",
        "fin_emp[\"turnover_once\"].value_counts()"
      ],
      "execution_count": null,
      "outputs": [
        {
          "output_type": "execute_result",
          "data": {
            "text/plain": [
              "0.0    8353\n",
              "1.0    2172\n",
              "Name: turnover_once, dtype: int64"
            ]
          },
          "metadata": {
            "tags": []
          },
          "execution_count": 306
        }
      ]
    },
    {
      "cell_type": "code",
      "metadata": {
        "colab": {
          "base_uri": "https://localhost:8080/"
        },
        "id": "jyxbGZNZ91M6",
        "outputId": "546c0ddd-08e1-43cb-b4d1-943c2aadeb3c"
      },
      "source": [
        "# 이직 경험 빈도를 나타내는 변수 추가\n",
        "\"\"\"\n",
        "0 : 첫직장 전 취업 한적 없음\n",
        "1 : 알바 경험만 있음\n",
        "2 : 1번 이직함\n",
        "3 : 2번 이상 이직함\n",
        "\"\"\"\n",
        "\n",
        "#fin_emp['turnover_once'] = np.where(fin_emp['g181d001'].isnull()==True, 0, fin_emp['g181d001'])\n",
        "\n",
        "conditions = [\n",
        "    (fin_emp['g181d001'].isnull()==True ), # 이전 직장\n",
        "    (fin_emp['g181d001']==1) & (fin_emp['g181d006']==1), # 알바 경험 있음\n",
        "    (fin_emp['g181d001']==1) & (fin_emp['g181d006']==2) & (fin_emp['g181e001']==2), # 전직장 있음, 1번이직\n",
        "    (fin_emp['g181e001'] == 1)] # 전직장 2개 이상 있음\n",
        "choices = [0, 1, 2, 3]\n",
        "fin_emp['turnover_ex'] = np.select(conditions, choices,default=3)\n",
        "\n",
        "fin_emp['turnover_ex'].value_counts()"
      ],
      "execution_count": null,
      "outputs": [
        {
          "output_type": "execute_result",
          "data": {
            "text/plain": [
              "0    8353\n",
              "2    1596\n",
              "1     333\n",
              "3     243\n",
              "Name: turnover_ex, dtype: int64"
            ]
          },
          "metadata": {
            "tags": []
          },
          "execution_count": 307
        }
      ]
    },
    {
      "cell_type": "code",
      "metadata": {
        "id": "YTzfCh7SF4lE"
      },
      "source": [
        "# 알바제외 근로경험\n",
        "fin_emp['turnover'] = np.where(fin_emp['turnover_ex'].isin([0,1]),0,1)"
      ],
      "execution_count": null,
      "outputs": []
    },
    {
      "cell_type": "code",
      "metadata": {
        "colab": {
          "base_uri": "https://localhost:8080/"
        },
        "id": "FLZvb0OJIZXd",
        "outputId": "f259228f-391f-4337-f25d-d7dabea24e27"
      },
      "source": [
        "# 알바제외 근로경험 변수\n",
        "fin_emp.turnover.value_counts()"
      ],
      "execution_count": null,
      "outputs": [
        {
          "output_type": "execute_result",
          "data": {
            "text/plain": [
              "0    8686\n",
              "1    1839\n",
              "Name: turnover, dtype: int64"
            ]
          },
          "metadata": {
            "tags": []
          },
          "execution_count": 309
        }
      ]
    },
    {
      "cell_type": "markdown",
      "metadata": {
        "id": "85PjLYHS4LBJ"
      },
      "source": [
        "#### 변수리스트 확인"
      ]
    },
    {
      "cell_type": "code",
      "metadata": {
        "id": "tBDsgd1wTkni"
      },
      "source": [
        "col_list = [\n",
        "       'g181pid', # id \n",
        "       'turnover_ex', # 이직경험 빈도\n",
        "       'turnover', # 알바제외 근로경험\n",
        "       'g181majorcat', # 전공계련\n",
        "       'g181sex', # 성별  능\n",
        "       'g181birthy', # 출생년\n",
        "       'g181age', # 연력\n",
        "       'g181graduy', # 졸업년\n",
        "### 사업체 관련 // 현일자리 시작 연월 사용 불가능    \n",
        "        'g181a001',  # 현일자리 시작년\n",
        "        'g181a002', # 현일자리  시작월\n",
        "        'g181a004_10', # 일자리 산업 대분류\n",
        "        'g181a010', # 기업체 종사자 수\n",
        "        'g181a011', # 사업체 종사자 수\n",
        "        'g181a018', # 출근시간_시간\n",
        "        'g181a019', # 출근시간_분\n",
        "        'g181a116', # 주당 정규 근로일\n",
        "        'g181a117', # 주당정규 근로시간\n",
        "        'g181a118', # 주당초과 근로시간\n",
        "        'g181a119', # 월평균 후일근로\n",
        "        'g181a020', # 사업체형태\n",
        "       'g181a022',     # 정규직 비정규직 여부\n",
        "### 혜택관련\n",
        "        'g181a390',     # 일자리 형태 자발, 비자발 여부\n",
        "        'g181a035' ,    # 교대제 여부\n",
        "        'g181a038',     # 퇴직금 제공 여부\n",
        "        'g181a039',     # 제공여부 2- 유급휴가\n",
        "        'g181a043',     #  6- 육아휴직\n",
        "        'g181a045',     # 8- 시간 외 수당\n",
        "        'g181a046',     # 9- 상여금\n",
        "        'g181a048',     # 11- 유급주휴\n",
        "        'g181a392',     # 12- 산전후휴가\n",
        "        'g181a120',     # 급여 형태 구분\n",
        "        'g181a122',     # 월 평균 근로소득\n",
        "        'g181a126',     # 만족도-임금\n",
        "        'g181a127',     # 만족도-고용안정성\n",
        "        'g181a128',     # 만족도-직무내용\n",
        "        'g181a129',     # 만족도-근무환경\n",
        "        'g181a130',     # 만족도-노동시간\n",
        "        'g181a131',     # 만족도-발전가능성\n",
        "        'g181a132',     # 만족도-인간관계\n",
        "        'g181a133',     # 만족도-복리후생\n",
        "        'g181a134',     # 만족도-인사체계\n",
        "        'g181a135',     # 만족도-사회적평판-일\n",
        "        'g181a136',     # 만족도-자율성 및 권한\n",
        "        'g181a137',     # 만족도-일자리-사회적 평판\n",
        "        'g181a138',     # 만족도-적성흥미일치도\n",
        "        'g181a139',     # 만족도-직무관련 교육\n",
        "        'g181a140',     # 만족도-일자리_전반적만족도\n",
        "        'g181a141',     # 만족도-업무_전반적만족도\n",
        "        'g181a142',     # 교육수준-일수준일치정도\n",
        "        'g181a143',     # 일기술수준-본인기술수준일치정도\n",
        "        'g181a144',     # 주전공일치정도\n",
        "        'g181a146',     # 전공지식업무도움정도\n",
        "        'g181a158',     # 보험-국민연금\n",
        "        'g181a159',     # 보험-특수직역연금\n",
        "        'g181a160',     # 보험-건강보험\n",
        "        'g181a161',     # 보험-고용보험\n",
        "        'g181a162',     # 보험-산재보험\n",
        "        'g181a189',     # 구직활동경험기간-개월\n",
        "        'g181a283',     # 다른일자리제의여부\n",
        "        'g181a285',     # 적응시어려움여부\n",
        "        'g181a297',     # 이직준비 여부: target\n",
        "        'g181g001',     # 대학원 경험유무\n",
        "        'g181l001',     # 취업훈련경험유무\n",
        "        'g181q001',     # 현재 견강상태\n",
        "        'g181q004',     # 흡연여부\n",
        "        'g181q006',     # 음주빈도\n",
        "        'g181q015',     # 삶의만족도-개인적 측면\n",
        "        'g181q016',     # 삶의만족도-관계적 측면\n",
        "        'g181q017',     # 삶의만족도-소속집단\n",
        "        'g181q018',     # 감정빈도-즐거운\n",
        "        'g181q019',     # 감정빈도-행복한\n",
        "        'g181q020',     # 감정빈도-편안한\n",
        "        'g181q021',     # 감정빈도-짜증나는\n",
        "        'g181q022',     # 감정빈도-부정적인\n",
        "        'g181q023',     # 감정빈도-무기력한\n",
        "        'g181p001',     # 혼인여부\n",
        "        'g181p008',     # 부양자녀 유무\n",
        "        'g181p036',     # 부모님 자산규모\n",
        "        'g181p046',     # 거주형태\n",
        "        'g181p041'      # 경제적 지원여부\n",
        "]"
      ],
      "execution_count": null,
      "outputs": []
    },
    {
      "cell_type": "code",
      "metadata": {
        "colab": {
          "base_uri": "https://localhost:8080/"
        },
        "id": "X9psP26mYH3Y",
        "outputId": "c6cee427-6850-47f2-adac-d361f3e95048"
      },
      "source": [
        "len(col_list)"
      ],
      "execution_count": null,
      "outputs": [
        {
          "output_type": "execute_result",
          "data": {
            "text/plain": [
              "80"
            ]
          },
          "metadata": {
            "tags": []
          },
          "execution_count": 311
        }
      ]
    },
    {
      "cell_type": "code",
      "metadata": {
        "colab": {
          "base_uri": "https://localhost:8080/"
        },
        "id": "VUxDw6amzcvl",
        "outputId": "5346b863-7e5a-46cf-ccd6-d2b9426493c5"
      },
      "source": [
        "# 필요컬럼 선택\n",
        "fin_df = fin_emp[col_list]\n",
        "fin_df.shape"
      ],
      "execution_count": null,
      "outputs": [
        {
          "output_type": "execute_result",
          "data": {
            "text/plain": [
              "(10525, 80)"
            ]
          },
          "metadata": {
            "tags": []
          },
          "execution_count": 312
        }
      ]
    },
    {
      "cell_type": "code",
      "metadata": {
        "colab": {
          "base_uri": "https://localhost:8080/"
        },
        "id": "TdT83K3xRXZ2",
        "outputId": "eecd3d53-ede5-43c3-cca8-700f6be3fc5c"
      },
      "source": [
        "fin_df.columns.duplicated() # 중복컬럼 확인"
      ],
      "execution_count": null,
      "outputs": [
        {
          "output_type": "execute_result",
          "data": {
            "text/plain": [
              "array([False, False, False, False, False, False, False, False, False,\n",
              "       False, False, False, False, False, False, False, False, False,\n",
              "       False, False, False, False, False, False, False, False, False,\n",
              "       False, False, False, False, False, False, False, False, False,\n",
              "       False, False, False, False, False, False, False, False, False,\n",
              "       False, False, False, False, False, False, False, False, False,\n",
              "       False, False, False, False, False, False, False, False, False,\n",
              "       False, False, False, False, False, False, False, False, False,\n",
              "       False, False, False, False, False, False, False, False])"
            ]
          },
          "metadata": {
            "tags": []
          },
          "execution_count": 313
        }
      ]
    },
    {
      "cell_type": "code",
      "metadata": {
        "colab": {
          "base_uri": "https://localhost:8080/"
        },
        "id": "9cMLzYPQ1-L3",
        "outputId": "853c2390-7b14-456f-ab7b-34ed1b06aa45"
      },
      "source": [
        "# 결측치 확인\n",
        "with pd.option_context('display.max_rows', None, 'display.max_columns', None):  # more options can be specified also\n",
        "    print(fin_df.isna().sum())"
      ],
      "execution_count": null,
      "outputs": [
        {
          "output_type": "stream",
          "text": [
            "g181pid            0\n",
            "turnover_ex        0\n",
            "turnover           0\n",
            "g181majorcat       0\n",
            "g181sex            0\n",
            "g181birthy         0\n",
            "g181age            0\n",
            "g181graduy         0\n",
            "g181a001           0\n",
            "g181a002           0\n",
            "g181a004_10        0\n",
            "g181a010           0\n",
            "g181a011           0\n",
            "g181a018           0\n",
            "g181a019           0\n",
            "g181a116           0\n",
            "g181a117           0\n",
            "g181a118           0\n",
            "g181a119           0\n",
            "g181a020           0\n",
            "g181a022           0\n",
            "g181a390           0\n",
            "g181a035           0\n",
            "g181a038           0\n",
            "g181a039           0\n",
            "g181a043           0\n",
            "g181a045           0\n",
            "g181a046           0\n",
            "g181a048           0\n",
            "g181a392           0\n",
            "g181a120           0\n",
            "g181a122           0\n",
            "g181a126           0\n",
            "g181a127           0\n",
            "g181a128           0\n",
            "g181a129           0\n",
            "g181a130           0\n",
            "g181a131           0\n",
            "g181a132           0\n",
            "g181a133           0\n",
            "g181a134           0\n",
            "g181a135           0\n",
            "g181a136           0\n",
            "g181a137           0\n",
            "g181a138           0\n",
            "g181a139           0\n",
            "g181a140           0\n",
            "g181a141           0\n",
            "g181a142           0\n",
            "g181a143           0\n",
            "g181a144           0\n",
            "g181a146           0\n",
            "g181a158           0\n",
            "g181a159           0\n",
            "g181a160           0\n",
            "g181a161           0\n",
            "g181a162           0\n",
            "g181a189        4246\n",
            "g181a283           0\n",
            "g181a285           0\n",
            "g181a297           0\n",
            "g181g001           0\n",
            "g181l001           0\n",
            "g181q001           0\n",
            "g181q004           0\n",
            "g181q006           0\n",
            "g181q015           0\n",
            "g181q016           0\n",
            "g181q017           0\n",
            "g181q018           0\n",
            "g181q019           0\n",
            "g181q020           0\n",
            "g181q021           0\n",
            "g181q022           0\n",
            "g181q023           0\n",
            "g181p001           0\n",
            "g181p008           0\n",
            "g181p036           0\n",
            "g181p046           0\n",
            "g181p041           0\n",
            "dtype: int64\n"
          ],
          "name": "stdout"
        }
      ]
    },
    {
      "cell_type": "code",
      "metadata": {
        "id": "teIQlBxk3osi"
      },
      "source": [
        "# 결측값 0으로 채움 (구직활동기간이 0이기 때문에)\n",
        "fin_df.g181a189 =fin_df.g181a189.fillna(0)"
      ],
      "execution_count": null,
      "outputs": []
    },
    {
      "cell_type": "code",
      "metadata": {
        "colab": {
          "base_uri": "https://localhost:8080/"
        },
        "id": "hw6mxttZ8g2P",
        "outputId": "d7a4e67a-dc07-43e5-e06b-230c27ec7c3c"
      },
      "source": [
        "fin_df.g181a189.unique()"
      ],
      "execution_count": null,
      "outputs": [
        {
          "output_type": "execute_result",
          "data": {
            "text/plain": [
              "array([ 3.,  0.,  7.,  1.,  6., 12.,  2., 10.,  4., 18.,  8.,  9.,  5.,\n",
              "       19., 15., 60., 14., 13., 24., 11., 36., 16., 17., 28., 30., 48.,\n",
              "       20., 22., 32., 21., 23., 34., 40., 50.])"
            ]
          },
          "metadata": {
            "tags": []
          },
          "execution_count": 316
        }
      ]
    },
    {
      "cell_type": "code",
      "metadata": {
        "colab": {
          "base_uri": "https://localhost:8080/"
        },
        "id": "RlmyaizmCO6-",
        "outputId": "0818d945-ee08-43e6-bb67-5b7cc92be9d3"
      },
      "source": [
        "# 카디널리티 확인\n",
        "with pd.option_context('display.max_rows', None, 'display.max_columns', None):  # more options can be specified also\n",
        "    print(fin_df.nunique())"
      ],
      "execution_count": null,
      "outputs": [
        {
          "output_type": "stream",
          "text": [
            "g181pid         10525\n",
            "turnover_ex         4\n",
            "turnover            2\n",
            "g181majorcat        7\n",
            "g181sex             2\n",
            "g181birthy         48\n",
            "g181age           333\n",
            "g181graduy          2\n",
            "g181a001           34\n",
            "g181a002           12\n",
            "g181a004_10        21\n",
            "g181a010           10\n",
            "g181a011           10\n",
            "g181a018            3\n",
            "g181a019           38\n",
            "g181a116           10\n",
            "g181a117           68\n",
            "g181a118           38\n",
            "g181a119           10\n",
            "g181a020            8\n",
            "g181a022            2\n",
            "g181a390            2\n",
            "g181a035            2\n",
            "g181a038            3\n",
            "g181a039            3\n",
            "g181a043            3\n",
            "g181a045            3\n",
            "g181a046            3\n",
            "g181a048            3\n",
            "g181a392            3\n",
            "g181a120            6\n",
            "g181a122          314\n",
            "g181a126            5\n",
            "g181a127            5\n",
            "g181a128            5\n",
            "g181a129            5\n",
            "g181a130            5\n",
            "g181a131            5\n",
            "g181a132            5\n",
            "g181a133            5\n",
            "g181a134            5\n",
            "g181a135            5\n",
            "g181a136            5\n",
            "g181a137            5\n",
            "g181a138            5\n",
            "g181a139            5\n",
            "g181a140            5\n",
            "g181a141            5\n",
            "g181a142            5\n",
            "g181a143            5\n",
            "g181a144            5\n",
            "g181a146            5\n",
            "g181a158            3\n",
            "g181a159            3\n",
            "g181a160            3\n",
            "g181a161            3\n",
            "g181a162            3\n",
            "g181a189           34\n",
            "g181a283            2\n",
            "g181a285            2\n",
            "g181a297            2\n",
            "g181g001            2\n",
            "g181l001            2\n",
            "g181q001            5\n",
            "g181q004            2\n",
            "g181q006            6\n",
            "g181q015            7\n",
            "g181q016            7\n",
            "g181q017            7\n",
            "g181q018            7\n",
            "g181q019            7\n",
            "g181q020            7\n",
            "g181q021            7\n",
            "g181q022            7\n",
            "g181q023            7\n",
            "g181p001            4\n",
            "g181p008            3\n",
            "g181p036            8\n",
            "g181p046            6\n",
            "g181p041            3\n",
            "dtype: int64\n"
          ],
          "name": "stdout"
        }
      ]
    },
    {
      "cell_type": "markdown",
      "metadata": {
        "id": "sPlYREwWYR3o"
      },
      "source": [
        "### 분석에 사용할 변수만 선택"
      ]
    },
    {
      "cell_type": "markdown",
      "metadata": {
        "id": "MdpirgywFwde"
      },
      "source": [
        "\n",
        "- id\n",
        "- 대학원 졸 유무\n",
        "- 정규직 비정규직 유무\n",
        "- 첫 직장 유무\n",
        "- 성별\n",
        "- 나이\n",
        "- 근속연수\n",
        "- 부양가족 여부\n",
        "- 결혼 여부\n",
        "- 지원\n",
        "- 연봉\n",
        "- 학과\n"
      ]
    },
    {
      "cell_type": "code",
      "metadata": {
        "colab": {
          "base_uri": "https://localhost:8080/"
        },
        "id": "-ZFMPUscK-DY",
        "outputId": "1eee07bc-4701-4dfa-eedf-419b1e3512a3"
      },
      "source": [
        "\n",
        "# 칼럼 rename용 dictionalry 만들기\n",
        "# numeric , cat , one hot , date  구분 매핑\n",
        "# \n",
        "\n",
        "col_dic =  {\n",
        "      'g181pid':'id', # id \n",
        "       'turnover_ex':'turnover_num', # 이직경험 빈도\n",
        "       'turnover':'turnover_cat', # 알바제외 근로경기\n",
        "       'g181majorcat':'majorcat_cat', # 전공계열\n",
        "       'g181sex':'sex_cat', # 성별   \n",
        "       'g181birthy':'birth_date', # 출생년\n",
        "       'g181age':'age_num', # 연령\n",
        "       'g181graduy':'graduy_date', #졸업년\n",
        "### 사업체 관련       \n",
        "        'g181a001':'year_start_date', # 현일자리 시작년\n",
        "        'g181a002':'month_start_date', # 현일자리 시작월\n",
        "        'g181a004_10':'ind_cat', # 일자리 산업 대분류\n",
        "        'g181a010':'corp_worker_num', # 기업체 종사자 수\n",
        "        'g181a011':'biz_worker_cat', # 사업체 종사자 수\n",
        "        'g181a018':'tw_hour', # 출근시간_시간\n",
        "        'g181a019':'tw_min', # 출근시간_분\n",
        "        'g181a116':'workday_num', # 주당 정규 근로일\n",
        "        'g181a117':'worktime_num', # 주당정규 근로시간\n",
        "        'g181a118':'worktime_ex_num', # 주당초과 근로시간\n",
        "        'g181a119': 'holy_work_num', # 월평균 휴일근로\n",
        "        'g181a020': 'biztype_cat', # 사업체형태\n",
        "       'g181a022':'regular_cat',     # 정규직 비정규직 여부\n",
        "### 혜택관련\n",
        "        'g181a390':'voluntary_cat',     # 일자리 형태 자발, 비자발 여부\n",
        "        'g181a035':'shift_cat' ,    # 교대제 여부\n",
        "        'g181a038':'pension_cat',     # 퇴직금 제공 여부\n",
        "        'g181a039':'payed_vc_cat',     # 제공여부 2- 유급휴가\n",
        "        'g181a043':'maternitylv_cat',     #  6- 육아휴직\n",
        "        'g181a045':'overtime_pay_cat',     # 8- 시간 외 수당\n",
        "        'g181a046':'bonus_cat',     # 9- 상여금\n",
        "        'g181a048':'weely_hl_cat',     # 11- 유급주휴\n",
        "        'g181a392':'baby_vc_cat',     # 12- 산전후휴가\n",
        "        'g181a120':'wage_type_cat',     # 급여 형태 구분\n",
        "        'g181a122':'month_wage_num',     # 월 평균 근로소득\n",
        "        'g181a126':'sat_wage_num',     # 만족도-임금\n",
        "        'g181a127':'sat_stable_num',     # 만족도-고용안정성\n",
        "        'g181a128':'sat_work_num',     # 만족도-직무내용\n",
        "        'g181a129':'sat_envi_num',     # 만족도-근무환경\n",
        "        'g181a130':'sat_wt_num',     # 만족도-노동시간\n",
        "        'g181a131':'sat_potential_num',     # 만족도-발전가능성\n",
        "        'g181a132':'sat_relation_num',     # 만족도-인간관계\n",
        "        'g181a133':'sat_welfare_num',     # 만족도-복리후생\n",
        "        'g181a134':'sat_hr_num',     # 만족도-인사체계\n",
        "        'g181a135':'sat_rep1_num',     # 만족도-사회적평판-일\n",
        "        'g181a136':'sat_auto_num',     # 만족도-자율성 및 권한\n",
        "        'g181a137':'sat_rep2_num',     # 만족도-일자리-사회적 평판\n",
        "        'g181a138':'sat_fit_num',     # 만족도-적성흥미일치도\n",
        "        'g181a139':'sat_edu_num',     # 만족도-직무관련 교육\n",
        "        'g181a140':'sat_general_num',     # 만족도-일자리_전반적만족도\n",
        "        'g181a141':'sat_work-general_num',     # 만족도-업무_전반적만족도\n",
        "        'g181a142':'edu-fit_num',     # 교육수준-일수준일치정도\n",
        "        'g181a143':'skill-fit_num',     # 일기술수준-본인기술수준일치정도\n",
        "        'g181a144':'major-fit_num',     # 주전공일치정도\n",
        "        'g181a146':'major_help_num',     # 전공지식업무도움정도\n",
        "        'g181a158':'ins_1_num',     # 보험-국민연금\n",
        "        'g181a159':'ins_2_num',     # 보험-특수직역연금\n",
        "        'g181a160':'ins_3_num',     # 보험-건강보험\n",
        "        'g181a161':'ins_4_num',     # 보험-고용보험\n",
        "        'g181a162':'ins_5_num',     # 보험-산재보험\n",
        "        'g181a189':'seeking_time_num',     # 구직활동경험기간-개월\n",
        "        'g181a283':'adjust_difficulty_cat',     # 다른일자리제의여부\n",
        "        'g181a285':'job_offer_cat',     # 적응시어려움여부\n",
        "        'g181a297':'turnover_intention',     # 이직준비 여부: target\n",
        "        'g181g001':'graduate_cat',     # 대학원 경험유무\n",
        "        'g181l001':'train_cat',     # 취업훈련경험유무\n",
        "        'g181q001':'health_num',     # 현재 견강상태\n",
        "        'g181q004':'smoke_cat',     # 흡연여부\n",
        "        'g181q006':'drink_num,',     # 음주빈도\n",
        "        'g181q015':'lifesat_personal',     # 삶의만족도-개인적 측면\n",
        "        'g181q016':'lifesat_relational',     # 삶의만족도-관계적 측면\n",
        "        'g181q017':'lifesat_group',     # 삶의만족도-소속집단\n",
        "        'g181q018':'emg_joy_num',     # 감정빈도-즐거운\n",
        "        'g181q019':'emg_happy_num',     # 감정빈도-행복한\n",
        "        'g181q020':'emg_comfort_num',     # 감정빈도-편안한\n",
        "        'g181q021':'emb_irr_num',     # 감정빈도-짜증나는\n",
        "        'g181q022':'emb_negative_num',     # 감정빈도-부정적인\n",
        "        'g181q023':'emb_spiritless',     # 감정빈도-무기력한\n",
        "        'g181p001':'marriage_cat',     # 혼인여부\n",
        "        'g181p008':'child_cat',     # 부양자녀 유무\n",
        "        'g181p036':'parent_asset_cat',     # 부모님 자산규모\n",
        "        'g181p046':'livetype_cat',     # 거주형태\n",
        "        'g181p041':'support_cat'      # 경제적 지원여부\n",
        "}\n",
        "\n",
        "\n",
        "len(col_dic)"
      ],
      "execution_count": null,
      "outputs": [
        {
          "output_type": "execute_result",
          "data": {
            "text/plain": [
              "80"
            ]
          },
          "metadata": {
            "tags": []
          },
          "execution_count": 318
        }
      ]
    },
    {
      "cell_type": "code",
      "metadata": {
        "id": "asyGJqgnUkqY"
      },
      "source": [
        "fin_df.columns = fin_df.columns.map(col_dic)"
      ],
      "execution_count": null,
      "outputs": []
    },
    {
      "cell_type": "code",
      "metadata": {
        "colab": {
          "base_uri": "https://localhost:8080/"
        },
        "id": "mryQ8i1RWX3U",
        "outputId": "da97aa0a-e9d2-4227-ffc8-2f0bd9373766"
      },
      "source": [
        "fin_df.corp_worker_num.value_counts()"
      ],
      "execution_count": null,
      "outputs": [
        {
          "output_type": "execute_result",
          "data": {
            "text/plain": [
              " 9.0    2736\n",
              " 3.0    1422\n",
              "-1.0    1409\n",
              " 6.0    1161\n",
              " 5.0     926\n",
              " 2.0     725\n",
              " 4.0     623\n",
              " 8.0     566\n",
              " 7.0     511\n",
              " 1.0     446\n",
              "Name: corp_worker_num, dtype: int64"
            ]
          },
          "metadata": {
            "tags": []
          },
          "execution_count": 320
        }
      ]
    },
    {
      "cell_type": "code",
      "metadata": {
        "colab": {
          "base_uri": "https://localhost:8080/"
        },
        "id": "U7whtuSpXF7p",
        "outputId": "4d94adc8-50f0-4576-9e6f-6a954fed3d66"
      },
      "source": [
        "fin_df.tw_hour.value_counts()"
      ],
      "execution_count": null,
      "outputs": [
        {
          "output_type": "execute_result",
          "data": {
            "text/plain": [
              "0.0    8339\n",
              "1.0    2091\n",
              "2.0      95\n",
              "Name: tw_hour, dtype: int64"
            ]
          },
          "metadata": {
            "tags": []
          },
          "execution_count": 321
        }
      ]
    },
    {
      "cell_type": "code",
      "metadata": {
        "id": "gwwolQLKXc4y"
      },
      "source": [
        "# 모름 응답이 있는 컬럼 탐색\n",
        "deal_col=fin_df.columns[fin_df.isin([-1]).any()].tolist()  # df.isin([response])"
      ],
      "execution_count": null,
      "outputs": []
    },
    {
      "cell_type": "code",
      "metadata": {
        "colab": {
          "base_uri": "https://localhost:8080/"
        },
        "id": "t24piX1lYr70",
        "outputId": "7f23860a-bdfc-4167-f14e-b24d3fb311fe"
      },
      "source": [
        "deal_col"
      ],
      "execution_count": null,
      "outputs": [
        {
          "output_type": "execute_result",
          "data": {
            "text/plain": [
              "['ind_cat',\n",
              " 'corp_worker_num',\n",
              " 'biz_worker_cat',\n",
              " 'wage_type_cat',\n",
              " 'month_wage_num',\n",
              " 'child_cat',\n",
              " 'parent_asset_cat',\n",
              " 'support_cat']"
            ]
          },
          "metadata": {
            "tags": []
          },
          "execution_count": 323
        }
      ]
    },
    {
      "cell_type": "code",
      "metadata": {
        "colab": {
          "base_uri": "https://localhost:8080/"
        },
        "id": "mS_S6EixX8tn",
        "outputId": "e9ca7fca-6081-47e2-c7bf-f082cdc59ebc"
      },
      "source": [
        "for col in deal_col:\n",
        "    print(fin_df[col].value_counts())"
      ],
      "execution_count": null,
      "outputs": [
        {
          "output_type": "stream",
          "text": [
            " 3.0     2092\n",
            " 16.0    1351\n",
            " 13.0    1194\n",
            " 17.0    1030\n",
            " 10.0     945\n",
            " 7.0      775\n",
            " 15.0     721\n",
            " 11.0     435\n",
            " 6.0      397\n",
            " 14.0     321\n",
            " 8.0      309\n",
            " 9.0      280\n",
            " 19.0     218\n",
            " 18.0     167\n",
            " 4.0      118\n",
            " 12.0      79\n",
            " 5.0       54\n",
            " 1.0       27\n",
            "-1.0        8\n",
            " 21.0       3\n",
            " 2.0        1\n",
            "Name: ind_cat, dtype: int64\n",
            " 9.0    2736\n",
            " 3.0    1422\n",
            "-1.0    1409\n",
            " 6.0    1161\n",
            " 5.0     926\n",
            " 2.0     725\n",
            " 4.0     623\n",
            " 8.0     566\n",
            " 7.0     511\n",
            " 1.0     446\n",
            "Name: corp_worker_num, dtype: int64\n",
            " 3.0    2086\n",
            " 6.0    1509\n",
            " 9.0    1308\n",
            " 5.0    1257\n",
            " 2.0    1024\n",
            " 4.0     891\n",
            "-1.0     641\n",
            " 7.0     637\n",
            " 1.0     615\n",
            " 8.0     557\n",
            "Name: biz_worker_cat, dtype: int64\n",
            " 2.0    6613\n",
            " 1.0    3828\n",
            " 5.0      63\n",
            " 4.0       9\n",
            "-1.0       7\n",
            " 3.0       5\n",
            "Name: wage_type_cat, dtype: int64\n",
            "200.0    1217\n",
            "250.0     879\n",
            "300.0     663\n",
            "230.0     556\n",
            "180.0     497\n",
            "         ... \n",
            "415.0       1\n",
            "27.0        1\n",
            "303.0       1\n",
            "311.0       1\n",
            "112.0       1\n",
            "Name: month_wage_num, Length: 314, dtype: int64\n",
            " 2    10260\n",
            " 1      260\n",
            "-1        5\n",
            "Name: child_cat, dtype: int64\n",
            " 3    2666\n",
            " 4    2360\n",
            " 2    1768\n",
            " 5    1421\n",
            " 1    1284\n",
            " 6     765\n",
            "-1     201\n",
            " 7      60\n",
            "Name: parent_asset_cat, dtype: int64\n",
            " 2    9778\n",
            " 1     531\n",
            "-1     216\n",
            "Name: support_cat, dtype: int64\n"
          ],
          "name": "stdout"
        }
      ]
    },
    {
      "cell_type": "code",
      "metadata": {
        "id": "pPNjSqL0aIpK"
      },
      "source": [
        "# parent asset , biz_worker_num  catecorical ordinal 처리 "
      ],
      "execution_count": null,
      "outputs": []
    },
    {
      "cell_type": "code",
      "metadata": {
        "id": "cDfGt7k-bgsf"
      },
      "source": [
        "# 제거\n",
        "fin_df.drop(columns='corp_worker_num',axis=1,inplace=True)"
      ],
      "execution_count": null,
      "outputs": []
    },
    {
      "cell_type": "code",
      "metadata": {
        "id": "C_wTHENDZKe6"
      },
      "source": [
        "# 월급 모르는 애들 제거\n",
        "#fin_df[fin_df.month_wage_num==-1]\n",
        "\n",
        "fin_df = fin_df.drop(fin_df[fin_df.month_wage_num==-1].index)"
      ],
      "execution_count": null,
      "outputs": []
    },
    {
      "cell_type": "code",
      "metadata": {
        "colab": {
          "base_uri": "https://localhost:8080/"
        },
        "id": "h5tmzJQ6YxKf",
        "outputId": "520165cc-e1f2-4bc4-b201-0d7fb1dac90d"
      },
      "source": [
        "# 샘플 수\n",
        "fin_df.shape"
      ],
      "execution_count": null,
      "outputs": [
        {
          "output_type": "execute_result",
          "data": {
            "text/plain": [
              "(10518, 79)"
            ]
          },
          "metadata": {
            "tags": []
          },
          "execution_count": 327
        }
      ]
    },
    {
      "cell_type": "markdown",
      "metadata": {
        "id": "mHaxN3tvLhJn"
      },
      "source": [
        "### 파생변수 생성\n",
        "\n",
        "- ~근무기간~ \n",
        "- ~변수 네이밍 필요~ \n",
        "- ~혜택제공여부~\n",
        "- ~만족도~\n",
        "- ~보험~\n",
        "- ~삶의 만족도~\n",
        "- ~출근시간~\n",
        "- ~부정적 감정~\n",
        "- ~긍정적 감정~"
      ]
    },
    {
      "cell_type": "code",
      "metadata": {
        "colab": {
          "base_uri": "https://localhost:8080/"
        },
        "id": "owmr477Zgqtk",
        "outputId": "8a217a5a-3168-4f93-fcf0-872abf609ea1"
      },
      "source": [
        "# 근무기간(년) 변수 생성\n",
        "fin_df['work_year'] = 2019-fin_df['year_start_date']\n",
        "fin_df['work_year'][:10]"
      ],
      "execution_count": null,
      "outputs": [
        {
          "output_type": "execute_result",
          "data": {
            "text/plain": [
              "3     1.0\n",
              "4     1.0\n",
              "5     1.0\n",
              "6     1.0\n",
              "7     1.0\n",
              "9     1.0\n",
              "10    2.0\n",
              "11    1.0\n",
              "12    1.0\n",
              "14    0.0\n",
              "Name: work_year, dtype: float64"
            ]
          },
          "metadata": {
            "tags": []
          },
          "execution_count": 328
        }
      ]
    },
    {
      "cell_type": "code",
      "metadata": {
        "colab": {
          "base_uri": "https://localhost:8080/"
        },
        "id": "UlBJSISYoNbX",
        "outputId": "e9d7e6f5-f3c0-4851-aba1-d0e1aac29550"
      },
      "source": [
        "# 출근시간 분단위 변수 생성\n",
        "fin_df['work_time_num'] = fin_df['tw_min'] + 60 * fin_df['tw_hour']\n",
        "fin_df['work_time_num'][:10]"
      ],
      "execution_count": null,
      "outputs": [
        {
          "output_type": "execute_result",
          "data": {
            "text/plain": [
              "3     60.0\n",
              "4     20.0\n",
              "5     90.0\n",
              "6     90.0\n",
              "7     15.0\n",
              "9     40.0\n",
              "10    10.0\n",
              "11    40.0\n",
              "12    40.0\n",
              "14    30.0\n",
              "Name: work_time_num, dtype: float64"
            ]
          },
          "metadata": {
            "tags": []
          },
          "execution_count": 329
        }
      ]
    },
    {
      "cell_type": "code",
      "metadata": {
        "colab": {
          "base_uri": "https://localhost:8080/"
        },
        "id": "KIirRALToRON",
        "outputId": "bd7a62e8-662f-4e2d-9393-1e4d7569722f"
      },
      "source": [
        "# 보험 수 sum\n",
        "insurances_col = [col for col in fin_df if col.startswith('ins') ] \n",
        "fin_df['insurances_num'] = 0\n",
        "\n",
        "for cols in insurances_col:\n",
        "    fin_df['temp'] = np.where(fin_df[cols]==1, 1, 0)\n",
        "    fin_df['insurances_num'] += fin_df['temp']\n",
        "\n",
        "print(fin_df['insurances_num'].unique())"
      ],
      "execution_count": null,
      "outputs": [
        {
          "output_type": "stream",
          "text": [
            "[4 0 3 2 1]\n"
          ],
          "name": "stdout"
        }
      ]
    },
    {
      "cell_type": "code",
      "metadata": {
        "id": "0JMULX_eoXSS"
      },
      "source": [
        "# 회사 전반적만족도\n",
        "biz_sat_col = [col for col in fin_df if col.startswith('sat') ] \n",
        "fin_df['biz_sat'] = fin_df[biz_sat_col].sum(axis=1)"
      ],
      "execution_count": null,
      "outputs": []
    },
    {
      "cell_type": "code",
      "metadata": {
        "id": "70t6SrEBooJn"
      },
      "source": [
        "# 긍정적 감정\n",
        "pos_col = [col for col in fin_df if col.startswith('emg') ] \n",
        "fin_df['pos'] = fin_df[pos_col].sum(axis=1)\n"
      ],
      "execution_count": null,
      "outputs": []
    },
    {
      "cell_type": "code",
      "metadata": {
        "id": "ylgvsKCioqG8"
      },
      "source": [
        "# 부정적 감정\n",
        "neg_col = [col for col in fin_df if col.startswith('emb') ] \n",
        "fin_df['neg'] = fin_df[neg_col].sum(axis=1)"
      ],
      "execution_count": null,
      "outputs": []
    },
    {
      "cell_type": "code",
      "metadata": {
        "id": "inL_XNKkoeUm"
      },
      "source": [
        "# 삶의 만족도 sum\n",
        "life_sat_col = [col for col in fin_df if col.startswith('lifesat') ] \n",
        "fin_df['life_sat'] = fin_df[life_sat_col].sum(axis=1)"
      ],
      "execution_count": null,
      "outputs": []
    },
    {
      "cell_type": "code",
      "metadata": {
        "id": "bLRlbtt5z2Xl"
      },
      "source": [
        "# 혜택제공 변수 num\n",
        "benefit_col  =['pension_cat',     # 퇴직금 제공 여부\n",
        "        'payed_vc_cat',     # 제공여부 2- 유급휴가\n",
        "        'maternitylv_cat',     #  6- 육아휴직\n",
        "        'overtime_pay_cat',     # 8- 시간 외 수당\n",
        "        'bonus_cat',     # 9- 상여금\n",
        "        'weely_hl_cat',     # 11- 유급주휴\n",
        "        'baby_vc_cat'] # 출산휴가\n",
        "\n",
        "fin_df['benefit_num'] = 0\n",
        "\n",
        "for cols in benefit_col:\n",
        "    fin_df['temp'] = np.where(fin_df[cols]==1, 1, 0)\n",
        "    fin_df['benefit_num'] += fin_df['temp']"
      ],
      "execution_count": null,
      "outputs": []
    },
    {
      "cell_type": "code",
      "metadata": {
        "colab": {
          "base_uri": "https://localhost:8080/"
        },
        "id": "g-aXwh4w4IaI",
        "outputId": "951c098f-b0ff-4553-e287-a85d518009f1"
      },
      "source": [
        "fin_df['benefit_num'].unique()"
      ],
      "execution_count": null,
      "outputs": [
        {
          "output_type": "execute_result",
          "data": {
            "text/plain": [
              "array([7, 5, 0, 4, 6, 2, 3, 1])"
            ]
          },
          "metadata": {
            "tags": []
          },
          "execution_count": 336
        }
      ]
    },
    {
      "cell_type": "markdown",
      "metadata": {
        "id": "cERJBGBbHnQA"
      },
      "source": [
        "## Data Visualization"
      ]
    },
    {
      "cell_type": "markdown",
      "metadata": {
        "id": "mexMj_u1s6Af"
      },
      "source": [
        "이직의도 비율"
      ]
    },
    {
      "cell_type": "code",
      "metadata": {
        "colab": {
          "base_uri": "https://localhost:8080/"
        },
        "id": "Txm2b8eI95pN",
        "outputId": "b5778dac-b00f-4860-c5c8-8faf9db055f7"
      },
      "source": [
        "fin_df['turnover_intention'] = np.where(fin_df['turnover_intention']==1,1,0)\n",
        "target = 'turnover_intention'\n",
        "fin_df[target].value_counts(normalize = True)"
      ],
      "execution_count": null,
      "outputs": [
        {
          "output_type": "execute_result",
          "data": {
            "text/plain": [
              "0    0.784845\n",
              "1    0.215155\n",
              "Name: turnover_intention, dtype: float64"
            ]
          },
          "metadata": {
            "tags": []
          },
          "execution_count": 338
        }
      ]
    },
    {
      "cell_type": "code",
      "metadata": {
        "id": "C4oQLutpKSmp"
      },
      "source": [
        "draw_df = fin_df"
      ],
      "execution_count": null,
      "outputs": []
    },
    {
      "cell_type": "code",
      "metadata": {
        "id": "5D6nmBfsKw2c"
      },
      "source": [
        "gender_code = {1:'male', 2:'female'}\n",
        "major_code = {1:'Human', 2:'Social', 3:'Edu', 4:'Engineer', 5:'Science',6:'Medinal',7:'Art'}\n",
        "regular_code = {1:'비정규', 2:'정규'}\n",
        "bizsize_code = {1:'1~4명', 2:'5~9명',3:'10~29명',\n",
        "                4:'30~49명',5:'50~99명',6:'100~299명',\n",
        "                7:'300~499명',8:'500~999명',9:'1000명이상',-1:'모름'}\n",
        "\n",
        "draw_df = draw_df.replace({'sex_cat' : gender_code, 'majorcat_cat': major_code,'regular_cat':regular_code ,'biz_worker_cat':bizsize_code})"
      ],
      "execution_count": null,
      "outputs": []
    },
    {
      "cell_type": "code",
      "metadata": {
        "id": "xxnMnbloImRQ"
      },
      "source": [
        "fin_df['turnover_intention'] = fin_df['turnover_intention'].astype('category')"
      ],
      "execution_count": null,
      "outputs": []
    },
    {
      "cell_type": "markdown",
      "metadata": {
        "id": "oY-W8JO6tHXQ"
      },
      "source": [
        "#### 전공계열에 따른 이직의도 차이"
      ]
    },
    {
      "cell_type": "markdown",
      "metadata": {
        "id": "kszFqMXJtB69"
      },
      "source": [
        ""
      ]
    },
    {
      "cell_type": "code",
      "metadata": {
        "colab": {
          "base_uri": "https://localhost:8080/",
          "height": 298
        },
        "id": "OJZaeG4iH95u",
        "outputId": "9e78fb7a-e66f-4570-aa1c-51b681111641"
      },
      "source": [
        "\n",
        "sns.countplot(x='majorcat_cat', hue='turnover_intention',edgecolor=\"black\", alpha=0.7, data=draw_df)"
      ],
      "execution_count": null,
      "outputs": [
        {
          "output_type": "execute_result",
          "data": {
            "text/plain": [
              "<matplotlib.axes._subplots.AxesSubplot at 0x7f48c8fac450>"
            ]
          },
          "metadata": {
            "tags": []
          },
          "execution_count": 372
        },
        {
          "output_type": "display_data",
          "data": {
            "image/png": "[encoded data removed]",
            "text/plain": [
              "<Figure size 432x288 with 1 Axes>"
            ]
          },
          "metadata": {
            "tags": [],
            "needs_background": "light"
          }
        }
      ]
    },
    {
      "cell_type": "code",
      "metadata": {
        "colab": {
          "base_uri": "https://localhost:8080/",
          "height": 519
        },
        "id": "Rt1pGL94Q139",
        "outputId": "1c72a653-6d9f-4bfd-aa64-26ab6fbedd52"
      },
      "source": [
        "pd.DataFrame(r)"
      ],
      "execution_count": null,
      "outputs": [
        {
          "output_type": "execute_result",
          "data": {
            "text/html": [
              "<div>\n",
              "<style scoped>\n",
              "    .dataframe tbody tr th:only-of-type {\n",
              "        vertical-align: middle;\n",
              "    }\n",
              "\n",
              "    .dataframe tbody tr th {\n",
              "        vertical-align: top;\n",
              "    }\n",
              "\n",
              "    .dataframe thead th {\n",
              "        text-align: right;\n",
              "    }\n",
              "</style>\n",
              "<table border=\"1\" class=\"dataframe\">\n",
              "  <thead>\n",
              "    <tr style=\"text-align: right;\">\n",
              "      <th></th>\n",
              "      <th></th>\n",
              "      <th>turnover_intention</th>\n",
              "    </tr>\n",
              "    <tr>\n",
              "      <th>majorcat_cat</th>\n",
              "      <th>turnover_intention</th>\n",
              "      <th></th>\n",
              "    </tr>\n",
              "  </thead>\n",
              "  <tbody>\n",
              "    <tr>\n",
              "      <th rowspan=\"2\" valign=\"top\">공학</th>\n",
              "      <th>0</th>\n",
              "      <td>0.794954</td>\n",
              "    </tr>\n",
              "    <tr>\n",
              "      <th>1</th>\n",
              "      <td>0.205046</td>\n",
              "    </tr>\n",
              "    <tr>\n",
              "      <th rowspan=\"2\" valign=\"top\">교육</th>\n",
              "      <th>0</th>\n",
              "      <td>0.867733</td>\n",
              "    </tr>\n",
              "    <tr>\n",
              "      <th>1</th>\n",
              "      <td>0.132267</td>\n",
              "    </tr>\n",
              "    <tr>\n",
              "      <th rowspan=\"2\" valign=\"top\">사회</th>\n",
              "      <th>0</th>\n",
              "      <td>0.762353</td>\n",
              "    </tr>\n",
              "    <tr>\n",
              "      <th>1</th>\n",
              "      <td>0.237647</td>\n",
              "    </tr>\n",
              "    <tr>\n",
              "      <th rowspan=\"2\" valign=\"top\">예체능</th>\n",
              "      <th>0</th>\n",
              "      <td>0.757250</td>\n",
              "    </tr>\n",
              "    <tr>\n",
              "      <th>1</th>\n",
              "      <td>0.242750</td>\n",
              "    </tr>\n",
              "    <tr>\n",
              "      <th rowspan=\"2\" valign=\"top\">의약</th>\n",
              "      <th>0</th>\n",
              "      <td>0.809917</td>\n",
              "    </tr>\n",
              "    <tr>\n",
              "      <th>1</th>\n",
              "      <td>0.190083</td>\n",
              "    </tr>\n",
              "    <tr>\n",
              "      <th rowspan=\"2\" valign=\"top\">인문</th>\n",
              "      <th>0</th>\n",
              "      <td>0.746946</td>\n",
              "    </tr>\n",
              "    <tr>\n",
              "      <th>1</th>\n",
              "      <td>0.253054</td>\n",
              "    </tr>\n",
              "    <tr>\n",
              "      <th rowspan=\"2\" valign=\"top\">자연</th>\n",
              "      <th>0</th>\n",
              "      <td>0.787697</td>\n",
              "    </tr>\n",
              "    <tr>\n",
              "      <th>1</th>\n",
              "      <td>0.212303</td>\n",
              "    </tr>\n",
              "  </tbody>\n",
              "</table>\n",
              "</div>"
            ],
            "text/plain": [
              "                                 turnover_intention\n",
              "majorcat_cat turnover_intention                    \n",
              "공학           0                             0.794954\n",
              "             1                             0.205046\n",
              "교육           0                             0.867733\n",
              "             1                             0.132267\n",
              "사회           0                             0.762353\n",
              "             1                             0.237647\n",
              "예체능          0                             0.757250\n",
              "             1                             0.242750\n",
              "의약           0                             0.809917\n",
              "             1                             0.190083\n",
              "인문           0                             0.746946\n",
              "             1                             0.253054\n",
              "자연           0                             0.787697\n",
              "             1                             0.212303"
            ]
          },
          "metadata": {
            "tags": []
          },
          "execution_count": 371
        }
      ]
    },
    {
      "cell_type": "markdown",
      "metadata": {
        "id": "zaltMyI-tP3N"
      },
      "source": [
        "#### 성별에 따른 이직의도 차이"
      ]
    },
    {
      "cell_type": "code",
      "metadata": {
        "colab": {
          "base_uri": "https://localhost:8080/",
          "height": 298
        },
        "id": "hXHb6_mZPJbW",
        "outputId": "8518148b-bc94-46f5-b7d8-396b27b63796"
      },
      "source": [
        "sns.countplot(x='sex_cat', hue='turnover_intention',edgecolor=\"black\", alpha=0.7, data=draw_df)"
      ],
      "execution_count": null,
      "outputs": [
        {
          "output_type": "execute_result",
          "data": {
            "text/plain": [
              "<matplotlib.axes._subplots.AxesSubplot at 0x7f48c76f88d0>"
            ]
          },
          "metadata": {
            "tags": []
          },
          "execution_count": 361
        },
        {
          "output_type": "display_data",
          "data": {
            "image/png": "[encoded data removed]",
            "text/plain": [
              "<Figure size 432x288 with 1 Axes>"
            ]
          },
          "metadata": {
            "tags": [],
            "needs_background": "light"
          }
        }
      ]
    },
    {
      "cell_type": "code",
      "metadata": {
        "id": "UO1e2GG4JdK0"
      },
      "source": [
        "sns.countplot(x='sex_cat', hue='turnover_intention',edgecolor=\"black\", alpha=0.7, data=fin_df)"
      ],
      "execution_count": null,
      "outputs": []
    },
    {
      "cell_type": "code",
      "metadata": {
        "id": "Iqy9B9kqHqe7"
      },
      "source": [
        "r=draw_df.groupby(['majorcat_cat'])['turnover_intention'].value_counts(normalize=True)"
      ],
      "execution_count": null,
      "outputs": []
    },
    {
      "cell_type": "markdown",
      "metadata": {
        "id": "G2hG2YM_rpoP"
      },
      "source": [
        "## Modeling"
      ]
    },
    {
      "cell_type": "code",
      "metadata": {
        "colab": {
          "base_uri": "https://localhost:8080/"
        },
        "id": "IGY9N_ad9smg",
        "outputId": "be4ab8d7-87d7-46f6-8251-1bbfbbab4b20"
      },
      "source": [
        "# 임시변수 삭제\n",
        "fin_df.drop(columns='temp',axis=1,inplace=True)\n",
        "fin_df.shape"
      ],
      "execution_count": null,
      "outputs": [
        {
          "output_type": "execute_result",
          "data": {
            "text/plain": [
              "(10518, 87)"
            ]
          },
          "metadata": {
            "tags": []
          },
          "execution_count": 337
        }
      ]
    },
    {
      "cell_type": "code",
      "metadata": {
        "colab": {
          "base_uri": "https://localhost:8080/",
          "height": 353
        },
        "id": "XAnd1m3y_HrY",
        "outputId": "86dc180e-a065-431f-ccb4-12d2300ebbd7"
      },
      "source": [
        "# 클래스 불균형\n",
        "%matplotlib inline\n",
        "sns.countplot(fin_df[target])"
      ],
      "execution_count": null,
      "outputs": [
        {
          "output_type": "stream",
          "text": [
            "/usr/local/lib/python3.7/dist-packages/seaborn/_decorators.py:43: FutureWarning: Pass the following variable as a keyword arg: x. From version 0.12, the only valid positional argument will be `data`, and passing other arguments without an explicit keyword will result in an error or misinterpretation.\n",
            "  FutureWarning\n"
          ],
          "name": "stderr"
        },
        {
          "output_type": "execute_result",
          "data": {
            "text/plain": [
              "<matplotlib.axes._subplots.AxesSubplot at 0x7f4904af51d0>"
            ]
          },
          "metadata": {
            "tags": []
          },
          "execution_count": 128
        },
        {
          "output_type": "display_data",
          "data": {
            "image/png": "[encoded data removed]",
            "text/plain": [
              "<Figure size 432x288 with 1 Axes>"
            ]
          },
          "metadata": {
            "tags": []
          }
        }
      ]
    },
    {
      "cell_type": "markdown",
      "metadata": {
        "id": "OFlIjMB0B4y8"
      },
      "source": [
        "### 데이터 분할"
      ]
    },
    {
      "cell_type": "code",
      "metadata": {
        "id": "x7wGzeZ3C7la"
      },
      "source": [
        "train, test = train_test_split(fin_df,test_size=0.2,random_state=2)"
      ],
      "execution_count": null,
      "outputs": []
    },
    {
      "cell_type": "code",
      "metadata": {
        "id": "bGYS3Z_o4ahT"
      },
      "source": [
        "train, val = train_test_split(train,test_size=0.2,random_state=2)"
      ],
      "execution_count": null,
      "outputs": []
    },
    {
      "cell_type": "code",
      "metadata": {
        "colab": {
          "base_uri": "https://localhost:8080/"
        },
        "id": "JXLzYDhmDqxc",
        "outputId": "83864ee1-167d-48b7-c7b5-91f60f682201"
      },
      "source": [
        "taget = 'turnover_intention'\n",
        "features = train.drop(columns=[target]).columns\n",
        "\n",
        "test_t = test[target]\n",
        "test.drop(columns=target,axis=1,inplace=True)\n",
        "\n",
        "print(train.shape)\n",
        "print(val.shape)\n",
        "print(test.shape)"
      ],
      "execution_count": null,
      "outputs": [
        {
          "output_type": "stream",
          "text": [
            "(6731, 87)\n",
            "(1683, 87)\n",
            "(2104, 86)\n"
          ],
          "name": "stdout"
        },
        {
          "output_type": "stream",
          "text": [
            "/usr/local/lib/python3.7/dist-packages/pandas/core/frame.py:4174: SettingWithCopyWarning: \n",
            "A value is trying to be set on a copy of a slice from a DataFrame\n",
            "\n",
            "See the caveats in the documentation: https://pandas.pydata.org/pandas-docs/stable/user_guide/indexing.html#returning-a-view-versus-a-copy\n",
            "  errors=errors,\n"
          ],
          "name": "stderr"
        }
      ]
    },
    {
      "cell_type": "code",
      "metadata": {
        "id": "4Wl2FwLn5xsO"
      },
      "source": [
        "X_train = train[features] \n",
        "y_train = train[target]\n",
        "X_val = val[features]\n",
        "y_val = val[target]"
      ],
      "execution_count": null,
      "outputs": []
    },
    {
      "cell_type": "markdown",
      "metadata": {
        "id": "qn1hIVDU8PNJ"
      },
      "source": [
        "### Baseline\n",
        "\n",
        "\n"
      ]
    },
    {
      "cell_type": "code",
      "metadata": {
        "id": "x_hcZfNp-ELo"
      },
      "source": [
        "from sklearn.metrics import accuracy_score\n",
        "#Mode\n",
        "baseline =  y_train.mode()[0]\n",
        "\n",
        "# \n",
        "y_pred_baseline = [baseline] * len(train[target]) #\n",
        "\n",
        "print('Baseline model 정확도(Accuracy) :', int(accuracy_score(train[target], y_pred).round(2) * 100),'%')"
      ],
      "execution_count": null,
      "outputs": []
    },
    {
      "cell_type": "code",
      "metadata": {
        "id": "hCjvAZOs-UOv"
      },
      "source": [
        "y_pred_bs = [0] * len(X_val)"
      ],
      "execution_count": null,
      "outputs": []
    },
    {
      "cell_type": "code",
      "metadata": {
        "colab": {
          "base_uri": "https://localhost:8080/",
          "height": 652
        },
        "id": "x8PmyktX-ia5",
        "outputId": "c2c48747-08d1-4f36-f17a-39c646955215"
      },
      "source": [
        "# 기준모델\n",
        "baseline_report(X_val,y_val,\"Baseline Model Report\")"
      ],
      "execution_count": null,
      "outputs": [
        {
          "output_type": "stream",
          "text": [
            "/usr/local/lib/python3.7/dist-packages/sklearn/metrics/_classification.py:1272: UndefinedMetricWarning: Precision and F-score are ill-defined and being set to 0.0 in labels with no predicted samples. Use `zero_division` parameter to control this behavior.\n",
            "  _warn_prf(average, modifier, msg_start, len(result))\n"
          ],
          "name": "stderr"
        },
        {
          "output_type": "stream",
          "text": [
            "--------------------------------------------------\n",
            "Classification Report: Baseline Model Report\n",
            "--------------------------------------------------\n",
            "\n",
            "\n",
            "              precision    recall  f1-score   support\n",
            "\n",
            "           0       0.78      1.00      0.88      1318\n",
            "           1       0.00      0.00      0.00       365\n",
            "\n",
            "    accuracy                           0.78      1683\n",
            "   macro avg       0.39      0.50      0.44      1683\n",
            "weighted avg       0.61      0.78      0.69      1683\n",
            "\n",
            "--------------------------------------------------\n",
            "--------------------------------------------------\n",
            "Confusion Matrix & Roc Curve\n",
            "--------------------------------------------------\n"
          ],
          "name": "stdout"
        },
        {
          "output_type": "display_data",
          "data": {
            "image/png": "[encoded data removed]",
            "text/plain": [
              "<Figure size 432x288 with 2 Axes>"
            ]
          },
          "metadata": {
            "tags": []
          }
        }
      ]
    },
    {
      "cell_type": "code",
      "metadata": {
        "id": "Pi511b7_ACpE"
      },
      "source": [
        "# confustion matrix plot function \n",
        "def plot_confusion_matrix(y_real, y_pred):\n",
        "    cm = confusion_matrix(y_real, y_pred)\n",
        "\n",
        "    ax= plt.subplot()\n",
        "    sns.heatmap(cm, annot=True, ax = ax, fmt='g')\n",
        "\n",
        "    ax.set_xlabel('Predicted labels')\n",
        "    ax.set_ylabel('True labels')"
      ],
      "execution_count": null,
      "outputs": []
    },
    {
      "cell_type": "code",
      "metadata": {
        "id": "FlwQpuh5_bhe"
      },
      "source": [
        "def baseline_report(X,y,title):\n",
        "    y_pred = [0] * len(X)\n",
        "    inb = classification_report(y,y_pred)\n",
        "    repeat = \"-\" *50\n",
        "    print(repeat)      \n",
        "    print(f\"Classification Report: {title}\")\n",
        "    print(repeat)      \n",
        "    print(\"\\n\")\n",
        "    print(f\"{inb}\")\n",
        "    print(repeat)\n",
        "    print(repeat)      \n",
        "    print(f\"Confusion Matrix & Roc Curve\")\n",
        "    print(repeat)\n",
        "    plot_confusion_matrix(y, y_pred)"
      ],
      "execution_count": null,
      "outputs": []
    },
    {
      "cell_type": "markdown",
      "metadata": {
        "id": "d1maSu_C5pl2"
      },
      "source": [
        "### RandomForest"
      ]
    },
    {
      "cell_type": "code",
      "metadata": {
        "id": "1-GucFJN5nEi"
      },
      "source": [
        "# 범주형 처리할 피쳐 설정\n",
        "# ordinal 할 피처\n",
        "ordinal = ['biz_worker_cat','parent_asset_cat']\n",
        "\n",
        "# onehot 할 피처\n",
        "onehot = [col for col in fin_df if col.endswith('cat') ] \n",
        "\n",
        "onehot = [col for col in onehot if col not in ordinal ]\n"
      ],
      "execution_count": null,
      "outputs": []
    },
    {
      "cell_type": "code",
      "metadata": {
        "id": "AJeazBLWDGSo"
      },
      "source": [
        "# Classweight  계산 \n",
        "from sklearn.utils.class_weight import compute_class_weight\n",
        "classes = np.unique(y_train)\n",
        "weights = compute_class_weight(class_weight='balanced', classes=classes, y=y_train)\n",
        "class_weights = dict(zip(classes, weights))"
      ],
      "execution_count": null,
      "outputs": []
    },
    {
      "cell_type": "code",
      "metadata": {
        "id": "f6VBodJvIkxJ"
      },
      "source": [
        "pipe = make_pipeline(\n",
        "    OneHotEncoder(use_cat_names=True,cols=onehot),\n",
        "    OrdinalEncoder(cols=ordinal) ,\n",
        "    SimpleImputer(), \n",
        "    StandardScaler(), \n",
        "    RandomForestClassifier(class_weight=class_weights))"
      ],
      "execution_count": null,
      "outputs": []
    },
    {
      "cell_type": "code",
      "metadata": {
        "id": "FG8ZwoI9aZYp"
      },
      "source": [
        "pipe = Pipeline([\n",
        "    ('preprocessing', make_pipeline(OrdinalEncoder(cols=ordinal_new))),\n",
        "    ('rf', RandomForestClassifier(class_weight=class_weights)) \n",
        "])"
      ],
      "execution_count": null,
      "outputs": []
    },
    {
      "cell_type": "code",
      "metadata": {
        "id": "qXs-OAWwcvI5"
      },
      "source": [
        "param_dists ={\n",
        "    'rf__criterion' : [ 'entropy'],\n",
        "    'rf__n_estimators' : [110, 130],\n",
        "    'rf__max_depth':  [10],\n",
        "    'rf__min_samples_leaf' : [1,2,4]\n",
        "}\n",
        "grcv = GridSearchCV(\n",
        "    pipe, \n",
        "    param_grid=param_dists, \n",
        "    cv=5, \n",
        "    scoring='f1',  \n",
        "    verbose=1,\n",
        "    n_jobs=-1\n",
        ")"
      ],
      "execution_count": null,
      "outputs": []
    },
    {
      "cell_type": "code",
      "metadata": {
        "colab": {
          "base_uri": "https://localhost:8080/"
        },
        "id": "7aTxqjNuc6ww",
        "outputId": "c562b6f7-1b4e-4f2d-ca11-fdbf3f8513b0"
      },
      "source": [
        "grcv.fit(X_train, y_train);"
      ],
      "execution_count": null,
      "outputs": [
        {
          "output_type": "stream",
          "text": [
            "Fitting 5 folds for each of 6 candidates, totalling 30 fits\n"
          ],
          "name": "stdout"
        },
        {
          "output_type": "stream",
          "text": [
            "[Parallel(n_jobs=-1)]: Using backend LokyBackend with 2 concurrent workers.\n",
            "[Parallel(n_jobs=-1)]: Done  30 out of  30 | elapsed:   33.7s finished\n"
          ],
          "name": "stderr"
        }
      ]
    },
    {
      "cell_type": "code",
      "metadata": {
        "colab": {
          "base_uri": "https://localhost:8080/"
        },
        "id": "cxcgkAWGfueJ",
        "outputId": "31c8b52f-704e-4352-a646-6bab66471492"
      },
      "source": [
        "## rand\n",
        "print('best param: ', grcv.best_params_)\n",
        "print('f1: ', grcv.best_score_)"
      ],
      "execution_count": null,
      "outputs": [
        {
          "output_type": "stream",
          "text": [
            "best param:  {'rf__criterion': 'entropy', 'rf__max_depth': 10, 'rf__min_samples_leaf': 4, 'rf__n_estimators': 130}\n",
            "f1:  0.5367298399269846\n"
          ],
          "name": "stdout"
        }
      ]
    },
    {
      "cell_type": "code",
      "metadata": {
        "colab": {
          "base_uri": "https://localhost:8080/"
        },
        "id": "GpwzwFu1f-Yd",
        "outputId": "c8127d46-d55e-433e-f4b1-9d03995000d4"
      },
      "source": [
        "from sklearn.metrics import classification_report\n",
        "gr_rfc = grcv.best_estimator_\n",
        "y_pred_rfc = gr_rfc.predict(X_val)\n",
        "y_pred_proba_rfc = gr_rfc.predict_proba(X_val)[:,1]\n",
        "print(classification_report(y_val, y_pred_rfc))"
      ],
      "execution_count": null,
      "outputs": [
        {
          "output_type": "stream",
          "text": [
            "              precision    recall  f1-score   support\n",
            "\n",
            "           0       0.88      0.83      0.85      1318\n",
            "           1       0.48      0.57      0.53       365\n",
            "\n",
            "    accuracy                           0.78      1683\n",
            "   macro avg       0.68      0.70      0.69      1683\n",
            "weighted avg       0.79      0.78      0.78      1683\n",
            "\n"
          ],
          "name": "stdout"
        }
      ]
    },
    {
      "cell_type": "code",
      "metadata": {
        "colab": {
          "base_uri": "https://localhost:8080/",
          "height": 635
        },
        "id": "8K1IlT7F8lkh",
        "outputId": "942d1b0a-6424-41cf-f045-11d648ff2c8c"
      },
      "source": [
        "demo_report(gr_rfc,X_val,y_val,'Validation Set Confusion Matrix')"
      ],
      "execution_count": null,
      "outputs": [
        {
          "output_type": "stream",
          "text": [
            "--------------------------------------------------\n",
            "Classification Report: Validation Set Confusion Matrix\n",
            "--------------------------------------------------\n",
            "\n",
            "\n",
            "              precision    recall  f1-score   support\n",
            "\n",
            "           0       0.88      0.83      0.85      1318\n",
            "           1       0.48      0.57      0.53       365\n",
            "\n",
            "    accuracy                           0.78      1683\n",
            "   macro avg       0.68      0.70      0.69      1683\n",
            "weighted avg       0.79      0.78      0.78      1683\n",
            "\n",
            "--------------------------------------------------\n",
            "--------------------------------------------------\n",
            "Confusion Matrix & Roc Curve\n",
            "--------------------------------------------------\n"
          ],
          "name": "stdout"
        },
        {
          "output_type": "display_data",
          "data": {
            "image/png": "[encoded data removed]",
            "text/plain": [
              "<Figure size 1080x288 with 3 Axes>"
            ]
          },
          "metadata": {
            "tags": []
          }
        },
        {
          "output_type": "stream",
          "text": [
            "Precision: 0.48 | Recall: 0.57 | F1 Score: 0.53 | \n"
          ],
          "name": "stdout"
        }
      ]
    },
    {
      "cell_type": "markdown",
      "metadata": {
        "id": "I3FVQbtzjvHi"
      },
      "source": [
        "### XGBoost"
      ]
    },
    {
      "cell_type": "code",
      "metadata": {
        "id": "IfXKBmEHA2BO"
      },
      "source": [
        "from sklearn.pipeline import Pipeline\n",
        "import xgboost as xgb\n",
        "\n",
        "pipe2 = Pipeline(steps=[\n",
        "    ('ordinal',OrdinalEncoder(cols=ordinal_new) ),\n",
        "    ('imputing',SimpleImputer()), \n",
        "    ('scalar',StandardScaler()),\n",
        "    ('xgboost',xgb.XGBClassifier(class_weight=class_weights))\n",
        "])"
      ],
      "execution_count": null,
      "outputs": []
    },
    {
      "cell_type": "code",
      "metadata": {
        "id": "Y-F-7QFgCH4X"
      },
      "source": [
        "#create the grid\n",
        "#CatBoostClassifier(class_weights=class_weights)\n",
        "#model = xgb.XGBClassifier()\n",
        "\n",
        "params = {\n",
        "    'xgboost__max_depth': [2, 3, 5, 7, 10],\n",
        "    'xgboost__n_estimators': [10, 50],\n",
        "    'xgboost__learning_rate' : [0.1,0.2] \n",
        "}\n",
        "\n",
        "\n",
        "#Instantiate GridSearchCV\n",
        "xgcv = GridSearchCV (pipe2, \n",
        "                     param_grid =params,\n",
        "                     scoring ='f1', cv= 3,\n",
        "                     verbose=1,\n",
        "                     n_jobs=-1)\n"
      ],
      "execution_count": null,
      "outputs": []
    },
    {
      "cell_type": "code",
      "metadata": {
        "colab": {
          "base_uri": "https://localhost:8080/"
        },
        "id": "7OGx2nTODfPG",
        "outputId": "df917218-afe2-4510-977f-c5170eb9212e"
      },
      "source": [
        "#fit the model\n",
        "xgcv.fit(X_train,y_train)\n",
        "\n",
        "#returns the estimator with the best performance\n",
        "print(xgcv.best_estimator_)\n",
        "\n",
        "#returns the best score\n",
        "print(xgcv.best_score_)\n",
        "\n",
        "#returns the best parameters\n",
        "print(xgcv.best_params_)"
      ],
      "execution_count": null,
      "outputs": [
        {
          "output_type": "stream",
          "text": [
            "Fitting 3 folds for each of 20 candidates, totalling 60 fits\n"
          ],
          "name": "stdout"
        },
        {
          "output_type": "stream",
          "text": [
            "[Parallel(n_jobs=-1)]: Using backend LokyBackend with 2 concurrent workers.\n",
            "[Parallel(n_jobs=-1)]: Done  46 tasks      | elapsed:   23.7s\n",
            "[Parallel(n_jobs=-1)]: Done  60 out of  60 | elapsed:   34.8s finished\n"
          ],
          "name": "stderr"
        },
        {
          "output_type": "stream",
          "text": [
            "Pipeline(memory=None,\n",
            "         steps=[('ordinal',\n",
            "                 OrdinalEncoder(cols=['turnover_cat', 'majorcat_cat', 'sex_cat',\n",
            "                                      'ind_cat', 'biz_worker_cat',\n",
            "                                      'biztype_cat', 'regular_cat',\n",
            "                                      'voluntary_cat', 'shift_cat',\n",
            "                                      'pension_cat', 'payed_vc_cat',\n",
            "                                      'maternitylv_cat', 'overtime_pay_cat',\n",
            "                                      'bonus_cat', 'weely_hl_cat',\n",
            "                                      'baby_vc_cat', 'wage_type_cat',\n",
            "                                      'adjust_difficulty_cat', 'job_offer_cat',\n",
            "                                      'gra...\n",
            "                                             1: 2.316242257398486},\n",
            "                               colsample_bylevel=1, colsample_bynode=1,\n",
            "                               colsample_bytree=1, gamma=0, learning_rate=0.2,\n",
            "                               max_delta_step=0, max_depth=5,\n",
            "                               min_child_weight=1, missing=None,\n",
            "                               n_estimators=50, n_jobs=1, nthread=None,\n",
            "                               objective='binary:logistic', random_state=0,\n",
            "                               reg_alpha=0, reg_lambda=1, scale_pos_weight=1,\n",
            "                               seed=None, silent=None, subsample=1,\n",
            "                               verbosity=1))],\n",
            "         verbose=False)\n",
            "0.4203242024288141\n",
            "{'xgboost__learning_rate': 0.2, 'xgboost__max_depth': 5, 'xgboost__n_estimators': 50}\n"
          ],
          "name": "stdout"
        }
      ]
    },
    {
      "cell_type": "code",
      "metadata": {
        "colab": {
          "base_uri": "https://localhost:8080/"
        },
        "id": "ZthBz_MFBRWe",
        "outputId": "a50ef504-5920-4502-f2fe-12496e93892f"
      },
      "source": [
        "from sklearn.metrics import classification_report\n",
        "gr_xgb = xgcv.best_estimator_\n",
        "y_pred_xgb = gr_xgb.predict(X_val)\n",
        "y_pred_proba_xgb= gr_xgb.predict_proba(X_val)[:,1]\n",
        "print(classification_report(y_val, y_pred_xgb))"
      ],
      "execution_count": null,
      "outputs": [
        {
          "output_type": "stream",
          "text": [
            "              precision    recall  f1-score   support\n",
            "\n",
            "           0       0.84      0.93      0.88      1318\n",
            "           1       0.58      0.35      0.44       365\n",
            "\n",
            "    accuracy                           0.80      1683\n",
            "   macro avg       0.71      0.64      0.66      1683\n",
            "weighted avg       0.78      0.80      0.78      1683\n",
            "\n"
          ],
          "name": "stdout"
        }
      ]
    },
    {
      "cell_type": "code",
      "metadata": {
        "colab": {
          "base_uri": "https://localhost:8080/",
          "height": 635
        },
        "id": "ifBKvRi1BqNd",
        "outputId": "9d982919-b0f3-418c-f346-47675de0aecb"
      },
      "source": [
        "demo_report(gr_xgb,X_val,y_val,'Validation Set Confusion Matrix')"
      ],
      "execution_count": null,
      "outputs": [
        {
          "output_type": "stream",
          "text": [
            "--------------------------------------------------\n",
            "Classification Report: Validation Set Confusion Matrix\n",
            "--------------------------------------------------\n",
            "\n",
            "\n",
            "              precision    recall  f1-score   support\n",
            "\n",
            "           0       0.84      0.93      0.88      1318\n",
            "           1       0.58      0.35      0.44       365\n",
            "\n",
            "    accuracy                           0.80      1683\n",
            "   macro avg       0.71      0.64      0.66      1683\n",
            "weighted avg       0.78      0.80      0.78      1683\n",
            "\n",
            "--------------------------------------------------\n",
            "--------------------------------------------------\n",
            "Confusion Matrix & Roc Curve\n",
            "--------------------------------------------------\n"
          ],
          "name": "stdout"
        },
        {
          "output_type": "display_data",
          "data": {
            "image/png": "[encoded data removed]",
            "text/plain": [
              "<Figure size 1080x288 with 3 Axes>"
            ]
          },
          "metadata": {
            "tags": []
          }
        },
        {
          "output_type": "stream",
          "text": [
            "Precision: 0.58 | Recall: 0.35 | F1 Score: 0.44 | \n"
          ],
          "name": "stdout"
        }
      ]
    },
    {
      "cell_type": "code",
      "metadata": {
        "id": "aagJBQnu7zee"
      },
      "source": [
        "#from sklearn.model_selection import cross_validate\n",
        "#cv_scores = cross_validate(pipe2, X_train, y_train, \n",
        " #                          cv=5,\n",
        " #                           scoring=['accuracy', 'roc_auc','f1'],\n",
        " #                           return_train_score=True)"
      ],
      "execution_count": null,
      "outputs": []
    },
    {
      "cell_type": "code",
      "metadata": {
        "colab": {
          "base_uri": "https://localhost:8080/"
        },
        "id": "tugebO0a9Gsj",
        "outputId": "8cf597e7-4c17-45ec-9580-3f60b48de358"
      },
      "source": [
        "cv_scores_df=pd.DataFrame(cv_scores)\n",
        "\n",
        "print(\"Cross-validation 훈련_정확도: %f\" % cv_scores_df.train_accuracy.mean())\n",
        "print(\"Cross-validation 훈련_AUC: %f\" % cv_scores_df.train_roc_auc.mean())\n",
        "print(\"Cross-validation val_accuracy: %f\" % cv_scores_df.test_accuracy.mean())\n",
        "print(\"Cross-validation val_auc: %f\" % cv_scores_df.test_roc_auc.mean())"
      ],
      "execution_count": null,
      "outputs": [
        {
          "output_type": "stream",
          "text": [
            "Cross-validation 훈련_정확도: 0.942431\n",
            "Cross-validation 훈련_AUC: 0.990828\n",
            "Cross-validation val_accuracy: 0.784873\n",
            "Cross-validation val_auc: 0.806567\n"
          ],
          "name": "stdout"
        }
      ]
    },
    {
      "cell_type": "code",
      "metadata": {
        "id": "-QuCfysdI_jo"
      },
      "source": [
        "# 범주형 처리할 피쳐 설정\n",
        "# ordinal 할 피처\n",
        "ordinal = ['biz_worker_cat','parent_asset_cat']\n",
        "\n",
        "# onehot 할 피처\n",
        "onehot = [col for col in fin_df if col.endswith('cat') ] \n",
        "\n",
        "onehot = [col for col in onehot if col not in ordinal ]\n",
        "\n",
        "# new_ordinal\n",
        "ordinal_new = [col for col in fin_df if col.endswith('cat') ] "
      ],
      "execution_count": null,
      "outputs": []
    },
    {
      "cell_type": "code",
      "metadata": {
        "id": "f-rT2j6J2z1m"
      },
      "source": [
        "# pipe_processing\n",
        "pipe4 = Pipeline(steps=[\n",
        "    ('onehot',OneHotEncoder(use_cat_names=True,cols=onehot)),\n",
        "    ('ordinal',OrdinalEncoder(cols=ordinal) \n",
        "])"
      ],
      "execution_count": null,
      "outputs": []
    },
    {
      "cell_type": "code",
      "metadata": {
        "id": "aFOjWi833FDa"
      },
      "source": [
        "X_val_new = pipe4.fit_transform(X_val)"
      ],
      "execution_count": null,
      "outputs": []
    },
    {
      "cell_type": "code",
      "metadata": {
        "colab": {
          "background_save": true,
          "base_uri": "https://localhost:8080/",
          "height": 830
        },
        "id": "RFoNQ9V5if83",
        "outputId": "ad085574-5a82-49d9-981e-005739084ab6"
      },
      "source": [
        "from sklearn.metrics import roc_curve\n",
        "y_pred_proba = grcv.predict_proba(X_val)[:, 1]\n",
        "# roc_curve(타겟값, prob of 1)\n",
        "fpr, tpr, thresholds = roc_curve(y_val, y_pred_proba)\n",
        "\n",
        "roc = pd.DataFrame({\n",
        "    'FPR(Fall-out)': fpr, \n",
        "    'TPRate(Recall)': tpr, \n",
        "    'Threshold': thresholds\n",
        "})\n",
        "roc"
      ],
      "execution_count": null,
      "outputs": [
        {
          "output_type": "execute_result",
          "data": {
            "text/html": [
              "<div>\n",
              "<style scoped>\n",
              "    .dataframe tbody tr th:only-of-type {\n",
              "        vertical-align: middle;\n",
              "    }\n",
              "\n",
              "    .dataframe tbody tr th {\n",
              "        vertical-align: top;\n",
              "    }\n",
              "\n",
              "    .dataframe thead th {\n",
              "        text-align: right;\n",
              "    }\n",
              "</style>\n",
              "<table border=\"1\" class=\"dataframe\">\n",
              "  <thead>\n",
              "    <tr style=\"text-align: right;\">\n",
              "      <th></th>\n",
              "      <th>FPR(Fall-out)</th>\n",
              "      <th>TPRate(Recall)</th>\n",
              "      <th>Threshold</th>\n",
              "    </tr>\n",
              "  </thead>\n",
              "  <tbody>\n",
              "    <tr>\n",
              "      <th>0</th>\n",
              "      <td>0.000000</td>\n",
              "      <td>0.000000</td>\n",
              "      <td>1.915011</td>\n",
              "    </tr>\n",
              "    <tr>\n",
              "      <th>1</th>\n",
              "      <td>0.000000</td>\n",
              "      <td>0.002740</td>\n",
              "      <td>0.915011</td>\n",
              "    </tr>\n",
              "    <tr>\n",
              "      <th>2</th>\n",
              "      <td>0.000000</td>\n",
              "      <td>0.030137</td>\n",
              "      <td>0.850495</td>\n",
              "    </tr>\n",
              "    <tr>\n",
              "      <th>3</th>\n",
              "      <td>0.000759</td>\n",
              "      <td>0.030137</td>\n",
              "      <td>0.845168</td>\n",
              "    </tr>\n",
              "    <tr>\n",
              "      <th>4</th>\n",
              "      <td>0.000759</td>\n",
              "      <td>0.054795</td>\n",
              "      <td>0.823617</td>\n",
              "    </tr>\n",
              "    <tr>\n",
              "      <th>...</th>\n",
              "      <td>...</td>\n",
              "      <td>...</td>\n",
              "      <td>...</td>\n",
              "    </tr>\n",
              "    <tr>\n",
              "      <th>459</th>\n",
              "      <td>0.891502</td>\n",
              "      <td>0.994521</td>\n",
              "      <td>0.119475</td>\n",
              "    </tr>\n",
              "    <tr>\n",
              "      <th>460</th>\n",
              "      <td>0.891502</td>\n",
              "      <td>0.997260</td>\n",
              "      <td>0.119096</td>\n",
              "    </tr>\n",
              "    <tr>\n",
              "      <th>461</th>\n",
              "      <td>0.975721</td>\n",
              "      <td>0.997260</td>\n",
              "      <td>0.083587</td>\n",
              "    </tr>\n",
              "    <tr>\n",
              "      <th>462</th>\n",
              "      <td>0.975721</td>\n",
              "      <td>1.000000</td>\n",
              "      <td>0.082160</td>\n",
              "    </tr>\n",
              "    <tr>\n",
              "      <th>463</th>\n",
              "      <td>1.000000</td>\n",
              "      <td>1.000000</td>\n",
              "      <td>0.043789</td>\n",
              "    </tr>\n",
              "  </tbody>\n",
              "</table>\n",
              "<p>464 rows × 3 columns</p>\n",
              "</div>"
            ],
            "text/plain": [
              "     FPR(Fall-out)  TPRate(Recall)  Threshold\n",
              "0         0.000000        0.000000   1.915011\n",
              "1         0.000000        0.002740   0.915011\n",
              "2         0.000000        0.030137   0.850495\n",
              "3         0.000759        0.030137   0.845168\n",
              "4         0.000759        0.054795   0.823617\n",
              "..             ...             ...        ...\n",
              "459       0.891502        0.994521   0.119475\n",
              "460       0.891502        0.997260   0.119096\n",
              "461       0.975721        0.997260   0.083587\n",
              "462       0.975721        1.000000   0.082160\n",
              "463       1.000000        1.000000   0.043789\n",
              "\n",
              "[464 rows x 3 columns]"
            ]
          },
          "metadata": {
            "tags": []
          },
          "execution_count": 0
        }
      ]
    },
    {
      "cell_type": "code",
      "metadata": {
        "colab": {
          "base_uri": "https://localhost:8080/",
          "height": 295
        },
        "id": "WmjxTCMqirhZ",
        "outputId": "94efa4bd-3fbc-4ba4-bbd1-78b3a2eac41d"
      },
      "source": [
        "from sklearn.metrics import plot_confusion_matrix\n",
        "import matplotlib.pyplot as plt\n",
        "\n",
        "plt.scatter(fpr, tpr)\n",
        "plt.title('ROC curve')\n",
        "plt.xlabel('FPR(Fall-out)')\n",
        "plt.ylabel('TPR(Recall)');"
      ],
      "execution_count": null,
      "outputs": [
        {
          "output_type": "display_data",
          "data": {
            "image/png": "[encoded data removed]",
            "text/plain": [
              "<Figure size 432x288 with 1 Axes>"
            ]
          },
          "metadata": {
            "tags": []
          }
        }
      ]
    },
    {
      "cell_type": "code",
      "metadata": {
        "colab": {
          "base_uri": "https://localhost:8080/"
        },
        "id": "8ulKDS_Okmay",
        "outputId": "74b1b6e6-c11e-44c6-a355-4b009bab0ec6"
      },
      "source": [
        "# threshold 최대값의 인덱스, np.argmax()\n",
        "optimal_idx = np.argmax(tpr - fpr)\n",
        "optimal_threshold = thresholds[optimal_idx]\n",
        "\n",
        "print('idx:', optimal_idx, ', threshold:', optimal_threshold)"
      ],
      "execution_count": null,
      "outputs": [
        {
          "output_type": "stream",
          "text": [
            "idx: 306 , threshold: 0.20429780943789086\n"
          ],
          "name": "stdout"
        }
      ]
    },
    {
      "cell_type": "code",
      "metadata": {
        "colab": {
          "base_uri": "https://localhost:8080/"
        },
        "id": "sbb4Jnejk7yJ",
        "outputId": "330405db-c986-41fc-98b2-c21713b7c615"
      },
      "source": [
        "from sklearn.metrics import classification_report\n",
        "y_pred_optimal = y_pred_proba >= optimal_threshold\n",
        "print(classification_report(y_val, y_pred_optimal))"
      ],
      "execution_count": null,
      "outputs": [
        {
          "output_type": "stream",
          "text": [
            "              precision    recall  f1-score   support\n",
            "\n",
            "           0       0.92      0.70      0.80      1314\n",
            "           1       0.42      0.77      0.54       369\n",
            "\n",
            "    accuracy                           0.72      1683\n",
            "   macro avg       0.67      0.74      0.67      1683\n",
            "weighted avg       0.81      0.72      0.74      1683\n",
            "\n"
          ],
          "name": "stdout"
        }
      ]
    },
    {
      "cell_type": "code",
      "metadata": {
        "colab": {
          "base_uri": "https://localhost:8080/",
          "height": 369
        },
        "id": "D6JIkIuear-G",
        "outputId": "f79e441d-0779-4586-86d7-50a9a23b3806"
      },
      "source": [
        "y_pred_proba = pipe.predict_proba(X_val)[:, 1]\n",
        "y_pred_proba\n",
        "\n",
        "sns.displot(y_pred_proba);"
      ],
      "execution_count": null,
      "outputs": [
        {
          "output_type": "display_data",
          "data": {
            "image/png": "[encoded data removed]",
            "text/plain": [
              "<Figure size 360x360 with 1 Axes>"
            ]
          },
          "metadata": {
            "tags": []
          }
        }
      ]
    },
    {
      "cell_type": "code",
      "metadata": {
        "colab": {
          "base_uri": "https://localhost:8080/"
        },
        "id": "yoiJvfD8dcqk",
        "outputId": "a7eeca01-9fa1-4e43-fe43-21f4fd83590d"
      },
      "source": [
        "from sklearn.metrics import roc_auc_score\n",
        "auc_score = roc_auc_score(y_val, y_pred_proba)\n",
        "auc_score"
      ],
      "execution_count": null,
      "outputs": [
        {
          "output_type": "execute_result",
          "data": {
            "text/plain": [
              "0.7958351973503488"
            ]
          },
          "metadata": {
            "tags": []
          },
          "execution_count": 76
        }
      ]
    },
    {
      "cell_type": "markdown",
      "metadata": {
        "id": "8RNHhdl7DIpI"
      },
      "source": [
        "### 테스트스코어 점수 확인\n",
        "\n",
        "RandomForest가 상대적으로 높게 나온다."
      ]
    },
    {
      "cell_type": "code",
      "metadata": {
        "colab": {
          "base_uri": "https://localhost:8080/"
        },
        "id": "qvbEFV5rUsfI",
        "outputId": "390a4e66-a3b4-4206-c1ab-5decd4b83c0c"
      },
      "source": [
        "# 이 곳에 답안을 작성하십시오\n",
        "X_test = test\n",
        "y_pred_gr_xgb = gr_xgb.predict(X_test)\n",
        "y_pred_gr_rfc= gr_rfc.predict(X_test)\n",
        "\n",
        "print('테스트세트 f1_score', f1_score(test_t,y_pred_gr_xgb))\n",
        "print('테스트세트 f1_score', f1_score(test_t,y_pred_gr_rfc))\n"
      ],
      "execution_count": null,
      "outputs": [
        {
          "output_type": "stream",
          "text": [
            "테스트세트 f1_score 0.3532846715328467\n",
            "테스트세트 f1_score 0.4942408376963351\n"
          ],
          "name": "stdout"
        }
      ]
    },
    {
      "cell_type": "code",
      "metadata": {
        "colab": {
          "base_uri": "https://localhost:8080/"
        },
        "id": "eu8r6nlDZ054",
        "outputId": "7c0d1321-323d-4261-f39e-dfd6ee64c52a"
      },
      "source": [
        "gr_rfc.named_steps"
      ],
      "execution_count": null,
      "outputs": [
        {
          "output_type": "execute_result",
          "data": {
            "text/plain": [
              "{'preprocessing': Pipeline(memory=None,\n",
              "          steps=[('onehotencoder',\n",
              "                  OneHotEncoder(cols=['turnover_cat', 'majorcat_cat', 'sex_cat',\n",
              "                                      'ind_cat', 'biztype_cat', 'regular_cat',\n",
              "                                      'voluntary_cat', 'shift_cat',\n",
              "                                      'pension_cat', 'payed_vc_cat',\n",
              "                                      'maternitylv_cat', 'overtime_pay_cat',\n",
              "                                      'bonus_cat', 'weely_hl_cat', 'baby_vc_cat',\n",
              "                                      'wage_type_cat', 'adjust_difficulty_cat',\n",
              "                                      'job_offer_cat', 'graduate_cat',\n",
              "                                      '...\n",
              "                                          {'col': 'parent_asset_cat',\n",
              "                                           'data_type': dtype('int64'),\n",
              "                                           'mapping':  1.0    1\n",
              "  3.0    2\n",
              "  2.0    3\n",
              "  4.0    4\n",
              "  5.0    5\n",
              "  6.0    6\n",
              " -1.0    7\n",
              "  7.0    8\n",
              "  NaN   -2\n",
              " dtype: int64}],\n",
              "                                 return_df=True, verbose=0)),\n",
              "                 ('simpleimputer',\n",
              "                  SimpleImputer(add_indicator=False, copy=True, fill_value=None,\n",
              "                                missing_values=nan, strategy='mean',\n",
              "                                verbose=0)),\n",
              "                 ('standardscaler',\n",
              "                  StandardScaler(copy=True, with_mean=True, with_std=True))],\n",
              "          verbose=False),\n",
              " 'rf': RandomForestClassifier(bootstrap=True, ccp_alpha=0.0,\n",
              "                        class_weight={0: 0.637646835922698,\n",
              "                                      1: 2.316242257398486},\n",
              "                        criterion='entropy', max_depth=10, max_features='auto',\n",
              "                        max_leaf_nodes=None, max_samples=None,\n",
              "                        min_impurity_decrease=0.0, min_impurity_split=None,\n",
              "                        min_samples_leaf=4, min_samples_split=2,\n",
              "                        min_weight_fraction_leaf=0.0, n_estimators=130,\n",
              "                        n_jobs=None, oob_score=False, random_state=None,\n",
              "                        verbose=0, warm_start=False)}"
            ]
          },
          "metadata": {
            "tags": []
          },
          "execution_count": 179
        }
      ]
    },
    {
      "cell_type": "code",
      "metadata": {
        "id": "1aaG4wiMZXud"
      },
      "source": [
        "#"
      ],
      "execution_count": null,
      "outputs": []
    },
    {
      "cell_type": "markdown",
      "metadata": {
        "id": "zo0_J4bkZYwL"
      },
      "source": [
        "### 피쳐 중요도 확인"
      ]
    },
    {
      "cell_type": "code",
      "metadata": {
        "id": "kmYUz8i_ZhPF"
      },
      "source": [
        "# Permutation importance 계산\n",
        "\n",
        "import warnings\n",
        "warnings.simplefilter(action='ignore', category=FutureWarning)\n",
        "\n",
        "import eli5\n",
        "from eli5.sklearn import PermutationImportance\n",
        "\n",
        "# permuter 정의\n",
        "permuter = PermutationImportance(\n",
        "    gr_rfc.named_steps['rf'], # model\n",
        "    scoring='f1', #\n",
        "    n_iter=5, # \n",
        "    random_state=42\n",
        ")\n",
        "\n",
        "X_val_transformed = gr_rfc.named_steps['preprocessing'].transform(X_val)\n",
        "\n",
        "\n",
        "permuter.fit(X_val_transformed, y_val);"
      ],
      "execution_count": null,
      "outputs": []
    },
    {
      "cell_type": "code",
      "metadata": {
        "id": "JNNuXu9A1Phr"
      },
      "source": [
        "# print feature importance\n",
        "X_names = X_val_transformed.columns.tolist()\n"
      ],
      "execution_count": null,
      "outputs": []
    },
    {
      "cell_type": "code",
      "metadata": {
        "id": "4PbEuLmg6kwc"
      },
      "source": [
        "X_val_transformed = gr_rfc.named_steps['preprocessing'].transform(X_val)\n",
        "X_train_transformed = gr_rfc.named_steps['preprocessing'].transform(X_train)\n"
      ],
      "execution_count": null,
      "outputs": []
    },
    {
      "cell_type": "code",
      "metadata": {
        "colab": {
          "base_uri": "https://localhost:8080/"
        },
        "id": "liWdyqVqyuo0",
        "outputId": "e0bb41d1-86e1-4181-bcc8-47ea81944922"
      },
      "source": [
        "#feature_names = X_val.columns.tolist()\n",
        "pd.Series(permuter.feature_importances_, X_names).sort_values()"
      ],
      "execution_count": null,
      "outputs": [
        {
          "output_type": "execute_result",
          "data": {
            "text/plain": [
              "weely_hl_cat_3.0       -0.003022\n",
              "baby_vc_cat_3.0        -0.001454\n",
              "weely_hl_cat_1.0       -0.001187\n",
              "overtime_pay_cat_1.0   -0.001103\n",
              "sat_stable_num         -0.001014\n",
              "                          ...   \n",
              "work_time_num           0.011895\n",
              "job_offer_cat_2.0       0.017714\n",
              "biz_sat                 0.018837\n",
              "job_offer_cat_1.0       0.025529\n",
              "sat_general_num         0.030952\n",
              "Length: 158, dtype: float64"
            ]
          },
          "metadata": {
            "tags": []
          },
          "execution_count": 210
        }
      ]
    },
    {
      "cell_type": "code",
      "metadata": {
        "id": "Y6rVsIOO0WYv"
      },
      "source": [
        "dd=eli5.show_weights(\n",
        "    permuter, \n",
        "    top=30, # top n 지정 가능, None 일 경우 모든 특성 s\n",
        "    feature_names=X_names\n",
        ")"
      ],
      "execution_count": null,
      "outputs": []
    },
    {
      "cell_type": "code",
      "metadata": {
        "colab": {
          "base_uri": "https://localhost:8080/",
          "height": 573
        },
        "id": "pnssS3wuSvhp",
        "outputId": "e5b8b283-b2b3-4587-83cd-09978a39cf12"
      },
      "source": [
        "dd"
      ],
      "execution_count": null,
      "outputs": [
        {
          "output_type": "execute_result",
          "data": {
            "text/html": [
              "\n",
              "    <style>\n",
              "    table.eli5-weights tr:hover {\n",
              "        filter: brightness(85%);\n",
              "    }\n",
              "</style>\n",
              "\n",
              "\n",
              "\n",
              "    \n",
              "\n",
              "    \n",
              "\n",
              "    \n",
              "\n",
              "    \n",
              "\n",
              "    \n",
              "\n",
              "    \n",
              "\n",
              "\n",
              "    \n",
              "\n",
              "    \n",
              "\n",
              "    \n",
              "\n",
              "    \n",
              "\n",
              "    \n",
              "\n",
              "    \n",
              "\n",
              "\n",
              "    \n",
              "\n",
              "    \n",
              "\n",
              "    \n",
              "\n",
              "    \n",
              "\n",
              "    \n",
              "        <table class=\"eli5-weights eli5-feature-importances\" style=\"border-collapse: collapse; border: none; margin-top: 0em; table-layout: auto;\">\n",
              "    <thead>\n",
              "    <tr style=\"border: none;\">\n",
              "        <th style=\"padding: 0 1em 0 0.5em; text-align: right; border: none;\">Weight</th>\n",
              "        <th style=\"padding: 0 0.5em 0 0.5em; text-align: left; border: none;\">Feature</th>\n",
              "    </tr>\n",
              "    </thead>\n",
              "    <tbody>\n",
              "    \n",
              "        <tr style=\"background-color: hsl(120, 100.00%, 80.00%); border: none;\">\n",
              "            <td style=\"padding: 0 1em 0 0.5em; text-align: right; border: none;\">\n",
              "                0.0310\n",
              "                \n",
              "                    &plusmn; 0.0098\n",
              "                \n",
              "            </td>\n",
              "            <td style=\"padding: 0 0.5em 0 0.5em; text-align: left; border: none;\">\n",
              "                sat_general_num\n",
              "            </td>\n",
              "        </tr>\n",
              "    \n",
              "        <tr style=\"background-color: hsl(120, 100.00%, 82.52%); border: none;\">\n",
              "            <td style=\"padding: 0 1em 0 0.5em; text-align: right; border: none;\">\n",
              "                0.0255\n",
              "                \n",
              "                    &plusmn; 0.0135\n",
              "                \n",
              "            </td>\n",
              "            <td style=\"padding: 0 0.5em 0 0.5em; text-align: left; border: none;\">\n",
              "                job_offer_cat_1.0\n",
              "            </td>\n",
              "        </tr>\n",
              "    \n",
              "        <tr style=\"background-color: hsl(120, 100.00%, 85.87%); border: none;\">\n",
              "            <td style=\"padding: 0 1em 0 0.5em; text-align: right; border: none;\">\n",
              "                0.0188\n",
              "                \n",
              "                    &plusmn; 0.0150\n",
              "                \n",
              "            </td>\n",
              "            <td style=\"padding: 0 0.5em 0 0.5em; text-align: left; border: none;\">\n",
              "                biz_sat\n",
              "            </td>\n",
              "        </tr>\n",
              "    \n",
              "        <tr style=\"background-color: hsl(120, 100.00%, 86.47%); border: none;\">\n",
              "            <td style=\"padding: 0 1em 0 0.5em; text-align: right; border: none;\">\n",
              "                0.0177\n",
              "                \n",
              "                    &plusmn; 0.0080\n",
              "                \n",
              "            </td>\n",
              "            <td style=\"padding: 0 0.5em 0 0.5em; text-align: left; border: none;\">\n",
              "                job_offer_cat_2.0\n",
              "            </td>\n",
              "        </tr>\n",
              "    \n",
              "        <tr style=\"background-color: hsl(120, 100.00%, 89.76%); border: none;\">\n",
              "            <td style=\"padding: 0 1em 0 0.5em; text-align: right; border: none;\">\n",
              "                0.0119\n",
              "                \n",
              "                    &plusmn; 0.0085\n",
              "                \n",
              "            </td>\n",
              "            <td style=\"padding: 0 0.5em 0 0.5em; text-align: left; border: none;\">\n",
              "                work_time_num\n",
              "            </td>\n",
              "        </tr>\n",
              "    \n",
              "        <tr style=\"background-color: hsl(120, 100.00%, 90.24%); border: none;\">\n",
              "            <td style=\"padding: 0 1em 0 0.5em; text-align: right; border: none;\">\n",
              "                0.0111\n",
              "                \n",
              "                    &plusmn; 0.0077\n",
              "                \n",
              "            </td>\n",
              "            <td style=\"padding: 0 0.5em 0 0.5em; text-align: left; border: none;\">\n",
              "                sat_wage_num\n",
              "            </td>\n",
              "        </tr>\n",
              "    \n",
              "        <tr style=\"background-color: hsl(120, 100.00%, 90.45%); border: none;\">\n",
              "            <td style=\"padding: 0 1em 0 0.5em; text-align: right; border: none;\">\n",
              "                0.0108\n",
              "                \n",
              "                    &plusmn; 0.0071\n",
              "                \n",
              "            </td>\n",
              "            <td style=\"padding: 0 0.5em 0 0.5em; text-align: left; border: none;\">\n",
              "                skill-fit_num\n",
              "            </td>\n",
              "        </tr>\n",
              "    \n",
              "        <tr style=\"background-color: hsl(120, 100.00%, 91.38%); border: none;\">\n",
              "            <td style=\"padding: 0 1em 0 0.5em; text-align: right; border: none;\">\n",
              "                0.0093\n",
              "                \n",
              "                    &plusmn; 0.0056\n",
              "                \n",
              "            </td>\n",
              "            <td style=\"padding: 0 0.5em 0 0.5em; text-align: left; border: none;\">\n",
              "                sat_fit_num\n",
              "            </td>\n",
              "        </tr>\n",
              "    \n",
              "        <tr style=\"background-color: hsl(120, 100.00%, 91.64%); border: none;\">\n",
              "            <td style=\"padding: 0 1em 0 0.5em; text-align: right; border: none;\">\n",
              "                0.0089\n",
              "                \n",
              "                    &plusmn; 0.0044\n",
              "                \n",
              "            </td>\n",
              "            <td style=\"padding: 0 0.5em 0 0.5em; text-align: left; border: none;\">\n",
              "                sat_rep2_num\n",
              "            </td>\n",
              "        </tr>\n",
              "    \n",
              "        <tr style=\"background-color: hsl(120, 100.00%, 91.68%); border: none;\">\n",
              "            <td style=\"padding: 0 1em 0 0.5em; text-align: right; border: none;\">\n",
              "                0.0088\n",
              "                \n",
              "                    &plusmn; 0.0038\n",
              "                \n",
              "            </td>\n",
              "            <td style=\"padding: 0 0.5em 0 0.5em; text-align: left; border: none;\">\n",
              "                lifesat_group\n",
              "            </td>\n",
              "        </tr>\n",
              "    \n",
              "        <tr style=\"background-color: hsl(120, 100.00%, 91.71%); border: none;\">\n",
              "            <td style=\"padding: 0 1em 0 0.5em; text-align: right; border: none;\">\n",
              "                0.0088\n",
              "                \n",
              "                    &plusmn; 0.0073\n",
              "                \n",
              "            </td>\n",
              "            <td style=\"padding: 0 0.5em 0 0.5em; text-align: left; border: none;\">\n",
              "                month_wage_num\n",
              "            </td>\n",
              "        </tr>\n",
              "    \n",
              "        <tr style=\"background-color: hsl(120, 100.00%, 91.89%); border: none;\">\n",
              "            <td style=\"padding: 0 1em 0 0.5em; text-align: right; border: none;\">\n",
              "                0.0085\n",
              "                \n",
              "                    &plusmn; 0.0072\n",
              "                \n",
              "            </td>\n",
              "            <td style=\"padding: 0 0.5em 0 0.5em; text-align: left; border: none;\">\n",
              "                sat_work-general_num\n",
              "            </td>\n",
              "        </tr>\n",
              "    \n",
              "        <tr style=\"background-color: hsl(120, 100.00%, 92.09%); border: none;\">\n",
              "            <td style=\"padding: 0 1em 0 0.5em; text-align: right; border: none;\">\n",
              "                0.0082\n",
              "                \n",
              "                    &plusmn; 0.0036\n",
              "                \n",
              "            </td>\n",
              "            <td style=\"padding: 0 0.5em 0 0.5em; text-align: left; border: none;\">\n",
              "                sat_potential_num\n",
              "            </td>\n",
              "        </tr>\n",
              "    \n",
              "        <tr style=\"background-color: hsl(120, 100.00%, 92.55%); border: none;\">\n",
              "            <td style=\"padding: 0 1em 0 0.5em; text-align: right; border: none;\">\n",
              "                0.0076\n",
              "                \n",
              "                    &plusmn; 0.0021\n",
              "                \n",
              "            </td>\n",
              "            <td style=\"padding: 0 0.5em 0 0.5em; text-align: left; border: none;\">\n",
              "                adjust_difficulty_cat_1.0\n",
              "            </td>\n",
              "        </tr>\n",
              "    \n",
              "        <tr style=\"background-color: hsl(120, 100.00%, 92.70%); border: none;\">\n",
              "            <td style=\"padding: 0 1em 0 0.5em; text-align: right; border: none;\">\n",
              "                0.0073\n",
              "                \n",
              "                    &plusmn; 0.0072\n",
              "                \n",
              "            </td>\n",
              "            <td style=\"padding: 0 0.5em 0 0.5em; text-align: left; border: none;\">\n",
              "                emb_irr_num\n",
              "            </td>\n",
              "        </tr>\n",
              "    \n",
              "        <tr style=\"background-color: hsl(120, 100.00%, 92.83%); border: none;\">\n",
              "            <td style=\"padding: 0 1em 0 0.5em; text-align: right; border: none;\">\n",
              "                0.0071\n",
              "                \n",
              "                    &plusmn; 0.0085\n",
              "                \n",
              "            </td>\n",
              "            <td style=\"padding: 0 0.5em 0 0.5em; text-align: left; border: none;\">\n",
              "                neg\n",
              "            </td>\n",
              "        </tr>\n",
              "    \n",
              "        <tr style=\"background-color: hsl(120, 100.00%, 92.99%); border: none;\">\n",
              "            <td style=\"padding: 0 1em 0 0.5em; text-align: right; border: none;\">\n",
              "                0.0069\n",
              "                \n",
              "                    &plusmn; 0.0053\n",
              "                \n",
              "            </td>\n",
              "            <td style=\"padding: 0 0.5em 0 0.5em; text-align: left; border: none;\">\n",
              "                pos\n",
              "            </td>\n",
              "        </tr>\n",
              "    \n",
              "        <tr style=\"background-color: hsl(120, 100.00%, 93.22%); border: none;\">\n",
              "            <td style=\"padding: 0 1em 0 0.5em; text-align: right; border: none;\">\n",
              "                0.0066\n",
              "                \n",
              "                    &plusmn; 0.0028\n",
              "                \n",
              "            </td>\n",
              "            <td style=\"padding: 0 0.5em 0 0.5em; text-align: left; border: none;\">\n",
              "                seeking_time_num\n",
              "            </td>\n",
              "        </tr>\n",
              "    \n",
              "        <tr style=\"background-color: hsl(120, 100.00%, 93.37%); border: none;\">\n",
              "            <td style=\"padding: 0 1em 0 0.5em; text-align: right; border: none;\">\n",
              "                0.0064\n",
              "                \n",
              "                    &plusmn; 0.0059\n",
              "                \n",
              "            </td>\n",
              "            <td style=\"padding: 0 0.5em 0 0.5em; text-align: left; border: none;\">\n",
              "                major_help_num\n",
              "            </td>\n",
              "        </tr>\n",
              "    \n",
              "        <tr style=\"background-color: hsl(120, 100.00%, 93.40%); border: none;\">\n",
              "            <td style=\"padding: 0 1em 0 0.5em; text-align: right; border: none;\">\n",
              "                0.0064\n",
              "                \n",
              "                    &plusmn; 0.0079\n",
              "                \n",
              "            </td>\n",
              "            <td style=\"padding: 0 0.5em 0 0.5em; text-align: left; border: none;\">\n",
              "                emb_negative_num\n",
              "            </td>\n",
              "        </tr>\n",
              "    \n",
              "        <tr style=\"background-color: hsl(120, 100.00%, 93.63%); border: none;\">\n",
              "            <td style=\"padding: 0 1em 0 0.5em; text-align: right; border: none;\">\n",
              "                0.0060\n",
              "                \n",
              "                    &plusmn; 0.0048\n",
              "                \n",
              "            </td>\n",
              "            <td style=\"padding: 0 0.5em 0 0.5em; text-align: left; border: none;\">\n",
              "                parent_asset_cat\n",
              "            </td>\n",
              "        </tr>\n",
              "    \n",
              "        <tr style=\"background-color: hsl(120, 100.00%, 93.63%); border: none;\">\n",
              "            <td style=\"padding: 0 1em 0 0.5em; text-align: right; border: none;\">\n",
              "                0.0060\n",
              "                \n",
              "                    &plusmn; 0.0045\n",
              "                \n",
              "            </td>\n",
              "            <td style=\"padding: 0 0.5em 0 0.5em; text-align: left; border: none;\">\n",
              "                birth_date\n",
              "            </td>\n",
              "        </tr>\n",
              "    \n",
              "        <tr style=\"background-color: hsl(120, 100.00%, 93.92%); border: none;\">\n",
              "            <td style=\"padding: 0 1em 0 0.5em; text-align: right; border: none;\">\n",
              "                0.0056\n",
              "                \n",
              "                    &plusmn; 0.0093\n",
              "                \n",
              "            </td>\n",
              "            <td style=\"padding: 0 0.5em 0 0.5em; text-align: left; border: none;\">\n",
              "                id\n",
              "            </td>\n",
              "        </tr>\n",
              "    \n",
              "        <tr style=\"background-color: hsl(120, 100.00%, 94.09%); border: none;\">\n",
              "            <td style=\"padding: 0 1em 0 0.5em; text-align: right; border: none;\">\n",
              "                0.0054\n",
              "                \n",
              "                    &plusmn; 0.0038\n",
              "                \n",
              "            </td>\n",
              "            <td style=\"padding: 0 0.5em 0 0.5em; text-align: left; border: none;\">\n",
              "                drink_num,\n",
              "            </td>\n",
              "        </tr>\n",
              "    \n",
              "        <tr style=\"background-color: hsl(120, 100.00%, 94.33%); border: none;\">\n",
              "            <td style=\"padding: 0 1em 0 0.5em; text-align: right; border: none;\">\n",
              "                0.0051\n",
              "                \n",
              "                    &plusmn; 0.0078\n",
              "                \n",
              "            </td>\n",
              "            <td style=\"padding: 0 0.5em 0 0.5em; text-align: left; border: none;\">\n",
              "                age_num\n",
              "            </td>\n",
              "        </tr>\n",
              "    \n",
              "        <tr style=\"background-color: hsl(120, 100.00%, 94.40%); border: none;\">\n",
              "            <td style=\"padding: 0 1em 0 0.5em; text-align: right; border: none;\">\n",
              "                0.0050\n",
              "                \n",
              "                    &plusmn; 0.0032\n",
              "                \n",
              "            </td>\n",
              "            <td style=\"padding: 0 0.5em 0 0.5em; text-align: left; border: none;\">\n",
              "                sat_hr_num\n",
              "            </td>\n",
              "        </tr>\n",
              "    \n",
              "        <tr style=\"background-color: hsl(120, 100.00%, 94.54%); border: none;\">\n",
              "            <td style=\"padding: 0 1em 0 0.5em; text-align: right; border: none;\">\n",
              "                0.0048\n",
              "                \n",
              "                    &plusmn; 0.0032\n",
              "                \n",
              "            </td>\n",
              "            <td style=\"padding: 0 0.5em 0 0.5em; text-align: left; border: none;\">\n",
              "                emg_happy_num\n",
              "            </td>\n",
              "        </tr>\n",
              "    \n",
              "        <tr style=\"background-color: hsl(120, 100.00%, 94.57%); border: none;\">\n",
              "            <td style=\"padding: 0 1em 0 0.5em; text-align: right; border: none;\">\n",
              "                0.0048\n",
              "                \n",
              "                    &plusmn; 0.0032\n",
              "                \n",
              "            </td>\n",
              "            <td style=\"padding: 0 0.5em 0 0.5em; text-align: left; border: none;\">\n",
              "                life_sat\n",
              "            </td>\n",
              "        </tr>\n",
              "    \n",
              "        <tr style=\"background-color: hsl(120, 100.00%, 94.72%); border: none;\">\n",
              "            <td style=\"padding: 0 1em 0 0.5em; text-align: right; border: none;\">\n",
              "                0.0046\n",
              "                \n",
              "                    &plusmn; 0.0067\n",
              "                \n",
              "            </td>\n",
              "            <td style=\"padding: 0 0.5em 0 0.5em; text-align: left; border: none;\">\n",
              "                emb_spiritless\n",
              "            </td>\n",
              "        </tr>\n",
              "    \n",
              "        <tr style=\"background-color: hsl(120, 100.00%, 94.89%); border: none;\">\n",
              "            <td style=\"padding: 0 1em 0 0.5em; text-align: right; border: none;\">\n",
              "                0.0044\n",
              "                \n",
              "                    &plusmn; 0.0063\n",
              "                \n",
              "            </td>\n",
              "            <td style=\"padding: 0 0.5em 0 0.5em; text-align: left; border: none;\">\n",
              "                sat_rep1_num\n",
              "            </td>\n",
              "        </tr>\n",
              "    \n",
              "    \n",
              "        \n",
              "            <tr style=\"background-color: hsl(120, 100.00%, 94.89%); border: none;\">\n",
              "                <td colspan=\"2\" style=\"padding: 0 0.5em 0 0.5em; text-align: center; border: none; white-space: nowrap;\">\n",
              "                    <i>&hellip; 128 more &hellip;</i>\n",
              "                </td>\n",
              "            </tr>\n",
              "        \n",
              "    \n",
              "    </tbody>\n",
              "</table>\n",
              "    \n",
              "\n",
              "    \n",
              "\n",
              "\n",
              "    \n",
              "\n",
              "    \n",
              "\n",
              "    \n",
              "\n",
              "    \n",
              "\n",
              "    \n",
              "\n",
              "    \n",
              "\n",
              "\n",
              "\n"
            ],
            "text/plain": [
              "<IPython.core.display.HTML object>"
            ]
          },
          "metadata": {
            "tags": []
          },
          "execution_count": 375
        }
      ]
    },
    {
      "cell_type": "code",
      "metadata": {
        "id": "z1sokwsc57fh"
      },
      "source": [
        "# 중요하지 않은 특성 삭제\n",
        "minimum_importance = 0.001\n",
        "mask = permuter.feature_importances_ > minimum_importance\n",
        "features_new = X_train_transformed.columns[mask]\n",
        "X_train_selected = X_train_transformed[features_new]\n",
        "X_val_selected = X_val_transformed[features_new]"
      ],
      "execution_count": null,
      "outputs": []
    },
    {
      "cell_type": "code",
      "metadata": {
        "colab": {
          "base_uri": "https://localhost:8080/"
        },
        "id": "umBEilQI6cCI",
        "outputId": "384e8811-ab4d-4ff8-d1e7-11fcf34e7720"
      },
      "source": [
        "print('특성 삭제 전:', X_train_transformed.shape, X_val_transformed.shape)"
      ],
      "execution_count": null,
      "outputs": [
        {
          "output_type": "stream",
          "text": [
            "특성 삭제 전: (6731, 158) (1683, 158)\n"
          ],
          "name": "stdout"
        }
      ]
    },
    {
      "cell_type": "code",
      "metadata": {
        "colab": {
          "base_uri": "https://localhost:8080/"
        },
        "id": "CmMemMU_7EkH",
        "outputId": "f1d58bd8-2bbe-492f-d06d-8c9c2a0782c1"
      },
      "source": [
        "print('특성 삭제 후:', X_train_selected.shape, X_val_selected.shape)"
      ],
      "execution_count": null,
      "outputs": [
        {
          "output_type": "stream",
          "text": [
            "특성 삭제 후: (6731, 77) (1683, 77)\n"
          ],
          "name": "stdout"
        }
      ]
    },
    {
      "cell_type": "code",
      "metadata": {
        "id": "gZ7J8Gd477oQ"
      },
      "source": [
        "pipe_fin = Pipeline([\n",
        "    ('rf', RandomForestClassifier(class_weight=class_weights)) \n",
        "])"
      ],
      "execution_count": null,
      "outputs": []
    },
    {
      "cell_type": "code",
      "metadata": {
        "id": "E1sFWAZc8Bld"
      },
      "source": [
        "grcv_fin = GridSearchCV(\n",
        "    pipe_fin, \n",
        "    param_grid=param_dists, \n",
        "    cv=5, \n",
        "    scoring='f1',  \n",
        "    verbose=1,\n",
        "    n_jobs=-1\n",
        ")"
      ],
      "execution_count": null,
      "outputs": []
    },
    {
      "cell_type": "code",
      "metadata": {
        "colab": {
          "base_uri": "https://localhost:8080/"
        },
        "id": "wW-7c-0D7W-C",
        "outputId": "8896fceb-abcb-47cc-9418-2f8918948f19"
      },
      "source": [
        "# 다시 피팅\n",
        "grcv_fin.fit(X_train_selected ,y_train)"
      ],
      "execution_count": null,
      "outputs": [
        {
          "output_type": "stream",
          "text": [
            "Fitting 5 folds for each of 6 candidates, totalling 30 fits\n"
          ],
          "name": "stdout"
        },
        {
          "output_type": "stream",
          "text": [
            "[Parallel(n_jobs=-1)]: Using backend LokyBackend with 2 concurrent workers.\n",
            "[Parallel(n_jobs=-1)]: Done  30 out of  30 | elapsed:   26.0s finished\n"
          ],
          "name": "stderr"
        },
        {
          "output_type": "execute_result",
          "data": {
            "text/plain": [
              "GridSearchCV(cv=5, error_score=nan,\n",
              "             estimator=Pipeline(memory=None,\n",
              "                                steps=[('rf',\n",
              "                                        RandomForestClassifier(bootstrap=True,\n",
              "                                                               ccp_alpha=0.0,\n",
              "                                                               class_weight={0: 0.637646835922698,\n",
              "                                                                             1: 2.316242257398486},\n",
              "                                                               criterion='gini',\n",
              "                                                               max_depth=None,\n",
              "                                                               max_features='auto',\n",
              "                                                               max_leaf_nodes=None,\n",
              "                                                               max_samples=None,\n",
              "                                                               min_impurity_decrease=0.0,\n",
              "                                                               min_impurity_split=None,\n",
              "                                                               min_samples_leaf=1,\n",
              "                                                               min_sam...\n",
              "                                                               min_weight_fraction_leaf=0.0,\n",
              "                                                               n_estimators=100,\n",
              "                                                               n_jobs=None,\n",
              "                                                               oob_score=False,\n",
              "                                                               random_state=None,\n",
              "                                                               verbose=0,\n",
              "                                                               warm_start=False))],\n",
              "                                verbose=False),\n",
              "             iid='deprecated', n_jobs=-1,\n",
              "             param_grid={'rf__criterion': ['entropy'], 'rf__max_depth': [10],\n",
              "                         'rf__min_samples_leaf': [1, 2, 4],\n",
              "                         'rf__n_estimators': [110, 130]},\n",
              "             pre_dispatch='2*n_jobs', refit=True, return_train_score=False,\n",
              "             scoring='f1', verbose=1)"
            ]
          },
          "metadata": {
            "tags": []
          },
          "execution_count": 234
        }
      ]
    },
    {
      "cell_type": "code",
      "metadata": {
        "colab": {
          "base_uri": "https://localhost:8080/"
        },
        "id": "UUOSJWAI89Rg",
        "outputId": "8e7f7d89-590c-48b9-bacd-a9b615edc3ec"
      },
      "source": [
        "# 최종 모델\n",
        "from sklearn.metrics import classification_report\n",
        "gr_rfc_fin = grcv_fin.best_estimator_\n",
        "y_pred_rfc_fin = gr_rfc.predict(X_val)\n",
        "y_pred_proba_rfc_fin = gr_rfc.predict_proba(X_val)[:,1]\n",
        "print(classification_report(y_val, y_pred_rfc_fin))"
      ],
      "execution_count": null,
      "outputs": [
        {
          "output_type": "stream",
          "text": [
            "              precision    recall  f1-score   support\n",
            "\n",
            "           0       0.89      0.82      0.85      1318\n",
            "           1       0.49      0.62      0.55       365\n",
            "\n",
            "    accuracy                           0.78      1683\n",
            "   macro avg       0.69      0.72      0.70      1683\n",
            "weighted avg       0.80      0.78      0.79      1683\n",
            "\n"
          ],
          "name": "stdout"
        }
      ]
    },
    {
      "cell_type": "markdown",
      "metadata": {
        "id": "3EXDG6uC-mk7"
      },
      "source": [
        "### 특정 피처가 타겟 변수에 미치는 영향"
      ]
    },
    {
      "cell_type": "markdown",
      "metadata": {
        "id": "9Czl77z_sI5G"
      },
      "source": [
        "#### 질문 : 출퇴근에 걸리는 시간의 길이는 이직준비여부에 어떤 영향을 미치는가?"
      ]
    },
    {
      "cell_type": "code",
      "metadata": {
        "colab": {
          "base_uri": "https://localhost:8080/",
          "height": 579
        },
        "id": "981gFNmb9fxz",
        "outputId": "925ffcb3-6657-4aef-d245-c086c13ca565"
      },
      "source": [
        "from pdpbox.pdp import pdp_isolate, pdp_plot\n",
        "import matplotlib.font_manager\n",
        "\n",
        "# 관심특성 : 출근시간\n",
        "selected_feature = 'work_time_num'\n",
        "\n",
        "isolated = pdp_isolate(\n",
        "    model=grcv_fin, \n",
        "    dataset=X_val_selected, \n",
        "    model_features=X_train_selected.columns, \n",
        "    feature=selected_feature,\n",
        ")\n",
        "pdp_plot(isolated, feature_name=selected_feature);"
      ],
      "execution_count": null,
      "outputs": [
        {
          "output_type": "display_data",
          "data": {
            "image/png": "[encoded data removed]",
            "text/plain": [
              "<Figure size 1080x684 with 2 Axes>"
            ]
          },
          "metadata": {
            "tags": []
          }
        }
      ]
    },
    {
      "cell_type": "markdown",
      "metadata": {
        "id": "9HSnzX2psXLi"
      },
      "source": [
        "#### 질문 : 회사에서 제공되는 복지혜택의 수는 이직준비여부에 어떤 영향을 미치는 가?"
      ]
    },
    {
      "cell_type": "code",
      "metadata": {
        "colab": {
          "base_uri": "https://localhost:8080/",
          "height": 579
        },
        "id": "kx619QP_AFok",
        "outputId": "678effb3-efc6-4ce1-c3de-105151d8520c"
      },
      "source": [
        "from pdpbox.pdp import pdp_isolate, pdp_plot\n",
        "import matplotlib.font_manager\n",
        "\n",
        "# 관심특성 : 복지혜택의 수\n",
        "selected_feature = 'benefit_num'\n",
        "\n",
        "isolated = pdp_isolate(\n",
        "    model=grcv_fin, \n",
        "    dataset=X_val_selected, \n",
        "    model_features=X_train_selected.columns, \n",
        "    feature=selected_feature,\n",
        ")\n",
        "pdp_plot(isolated, feature_name=selected_feature);"
      ],
      "execution_count": null,
      "outputs": [
        {
          "output_type": "display_data",
          "data": {
            "image/png": "[encoded data removed]",
            "text/plain": [
              "<Figure size 1080x684 with 2 Axes>"
            ]
          },
          "metadata": {
            "tags": []
          }
        }
      ]
    },
    {
      "cell_type": "code",
      "metadata": {
        "colab": {
          "base_uri": "https://localhost:8080/"
        },
        "id": "0inDMcUYAgST",
        "outputId": "6d19c8dd-6b5f-42f1-9463-164b36748507"
      },
      "source": [
        "X_train_selected.columns"
      ],
      "execution_count": null,
      "outputs": [
        {
          "output_type": "execute_result",
          "data": {
            "text/plain": [
              "Index(['id', 'turnover_num', 'turnover_cat_1.0', 'majorcat_cat_6.0',\n",
              "       'majorcat_cat_3.0', 'majorcat_cat_5.0', 'majorcat_cat_7.0',\n",
              "       'sex_cat_2.0', 'sex_cat_1.0', 'birth_date', 'age_num', 'graduy_date',\n",
              "       'year_start_date', 'month_start_date', 'ind_cat_13.0', 'ind_cat_3.0',\n",
              "       'ind_cat_10.0', 'biz_worker_cat', 'tw_hour', 'tw_min', 'workday_num',\n",
              "       'worktime_ex_num', 'biztype_cat_1.0', 'regular_cat_2.0',\n",
              "       'voluntary_cat_2.0', 'shift_cat_2.0', 'shift_cat_1.0',\n",
              "       'maternitylv_cat_1.0', 'maternitylv_cat_3.0', 'bonus_cat_1.0',\n",
              "       'baby_vc_cat_2.0', 'wage_type_cat_2.0', 'month_wage_num',\n",
              "       'sat_wage_num', 'sat_work_num', 'sat_potential_num', 'sat_welfare_num',\n",
              "       'sat_hr_num', 'sat_rep1_num', 'sat_rep2_num', 'sat_fit_num',\n",
              "       'sat_edu_num', 'sat_general_num', 'sat_work-general_num', 'edu-fit_num',\n",
              "       'skill-fit_num', 'major-fit_num', 'major_help_num', 'ins_1_num',\n",
              "       'ins_2_num', 'ins_5_num', 'seeking_time_num',\n",
              "       'adjust_difficulty_cat_2.0', 'adjust_difficulty_cat_1.0',\n",
              "       'job_offer_cat_2.0', 'job_offer_cat_1.0', 'train_cat_2.0', 'health_num',\n",
              "       'drink_num,', 'lifesat_personal', 'lifesat_relational', 'lifesat_group',\n",
              "       'emg_joy_num', 'emg_happy_num', 'emg_comfort_num', 'emb_irr_num',\n",
              "       'emb_negative_num', 'emb_spiritless', 'parent_asset_cat',\n",
              "       'livetype_cat_1.0', 'work_year', 'work_time_num', 'biz_sat', 'pos',\n",
              "       'neg', 'life_sat', 'benefit_num'],\n",
              "      dtype='object')"
            ]
          },
          "metadata": {
            "tags": []
          },
          "execution_count": 242
        }
      ]
    },
    {
      "cell_type": "code",
      "metadata": {
        "colab": {
          "base_uri": "https://localhost:8080/",
          "height": 579
        },
        "id": "GT4wWVJT-vdS",
        "outputId": "efe691ec-945f-449e-e507-0057674ad8b5"
      },
      "source": [
        "from pdpbox.pdp import pdp_isolate, pdp_plot\n",
        "import matplotlib.font_manager\n",
        "\n",
        "# 관심특성 : 출근시간\n",
        "selected_feature = 'parent_asset_cat'\n",
        "\n",
        "isolated = pdp_isolate(\n",
        "    model=grcv_fin, \n",
        "    dataset=X_val_selected, \n",
        "    model_features=X_train_selected.columns, \n",
        "    feature=selected_feature,\n",
        ")\n",
        "pdp_plot(isolated, feature_name=selected_feature);"
      ],
      "execution_count": null,
      "outputs": [
        {
          "output_type": "display_data",
          "data": {
            "image/png": "[encoded data removed]",
            "text/plain": [
              "<Figure size 1080x684 with 2 Axes>"
            ]
          },
          "metadata": {
            "tags": []
          }
        }
      ]
    },
    {
      "cell_type": "code",
      "metadata": {
        "colab": {
          "base_uri": "https://localhost:8080/",
          "height": 580
        },
        "id": "ncpFu1eVA5Fm",
        "outputId": "309010e1-838c-4055-edc7-940db92debac"
      },
      "source": [
        "from pdpbox.pdp import pdp_isolate, pdp_plot\n",
        "import matplotlib.font_manager\n",
        "\n",
        "# 관심특성 : 정규직\n",
        "selected_feature = 'regular_cat_2.0'\n",
        "\n",
        "isolated = pdp_isolate(\n",
        "    model=grcv_fin, \n",
        "    dataset=X_val_selected, \n",
        "    model_features=X_train_selected.columns, \n",
        "    feature=selected_feature,\n",
        ")\n",
        "pdp_plot(isolated, feature_name=selected_feature);"
      ],
      "execution_count": null,
      "outputs": [
        {
          "output_type": "display_data",
          "data": {
            "image/png": "[encoded data removed]",
            "text/plain": [
              "<Figure size 1080x684 with 2 Axes>"
            ]
          },
          "metadata": {
            "tags": []
          }
        }
      ]
    },
    {
      "cell_type": "markdown",
      "metadata": {
        "id": "vi6qr9XMr0-z"
      },
      "source": [
        "#### 질문 : 이전에 다닌 직장의 수가 이직준비여부에 영향을 미치는가?"
      ]
    },
    {
      "cell_type": "code",
      "metadata": {
        "colab": {
          "base_uri": "https://localhost:8080/",
          "height": 579
        },
        "id": "vEEazPG_BVds",
        "outputId": "172cfa8d-082a-4f53-831d-7722774f0db1"
      },
      "source": [
        "from pdpbox.pdp import pdp_isolate, pdp_plot\n",
        "import matplotlib.font_manager\n",
        "\n",
        "# 관심특성 : \n",
        "selected_feature = 'turnover_num'\n",
        "\n",
        "isolated = pdp_isolate(\n",
        "    model=grcv_fin, \n",
        "    dataset=X_val_selected, \n",
        "    model_features=X_train_selected.columns, \n",
        "    feature=selected_feature,\n",
        ")\n",
        "pdp_plot(isolated, feature_name=selected_feature);"
      ],
      "execution_count": null,
      "outputs": [
        {
          "output_type": "display_data",
          "data": {
            "image/png": "[encoded data removed]",
            "text/plain": [
              "<Figure size 1080x684 with 2 Axes>"
            ]
          },
          "metadata": {
            "tags": []
          }
        }
      ]
    },
    {
      "cell_type": "markdown",
      "metadata": {
        "id": "EkXJzmKU9OdZ"
      },
      "source": [
        "학습시간은 줄었지만 F1스코어가 드라마틱하게 나아지진 않았다."
      ]
    },
    {
      "cell_type": "markdown",
      "metadata": {
        "id": "OSINZNcDbAyn"
      },
      "source": [
        "## References\n",
        "\n",
        "- Carr, J. C., Boyar, S. L., & Gregory, B. T. (2008). The moderating effect of work-family centrality on work-family conflict, organizational attitudes, and turnover behavior. Journal of Management, 34(2), 244–262. https://doi.org/10.1177/0149206307309262 # 이직의도->이직\n",
        "\n",
        "- AK, Belete. (2018). Turnover Intention Influencing Factors of Employees: An Empirical Work Review. Journal of Entrepreneurship & Organization Management."
      ]
    }
  ]
}