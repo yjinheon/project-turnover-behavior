{
  "cells": [
    {
      "cell_type": "markdown",
      "metadata": {
        "id": "eRj_NC08ijS_"
      },
      "source": [
        "### 필요패키지 설치 및 로드\n",
        "\n",
        "\n"
      ]
    },
    {
      "cell_type": "code",
      "execution_count": 1,
      "metadata": {
        "id": "_WZsw2dKi4d6"
      },
      "outputs": [],
      "source": [
        "# 사용 패키지 로드\n",
        "import pandas as pd\n",
        "import numpy as np\n",
        "import seaborn as sns\n",
        "from xgboost import XGBClassifier\n",
        "from sklearn.model_selection import train_test_split\n",
        "from sklearn.metrics import accuracy_score\n",
        "from sklearn.metrics import f1_score\n",
        "from sklearn.preprocessing import LabelEncoder # 인코딩용\n",
        "from imblearn.over_sampling import SMOTE # 오버샘플링\n",
        "from sklearn.model_selection import train_test_split\n",
        "from category_encoders import OneHotEncoder\n",
        "from sklearn.impute import SimpleImputer\n",
        "from sklearn.preprocessing import StandardScaler\n",
        "from sklearn.pipeline import make_pipeline\n",
        "from sklearn.tree import DecisionTreeClassifier\n",
        "from category_encoders import OrdinalEncoder\n",
        "from sklearn.ensemble import RandomForestClassifier\n",
        "from catboost import CatBoostClassifier\n",
        "from sklearn.model_selection import GridSearchCV"
      ]
    },
    {
      "cell_type": "code",
      "execution_count": 25,
      "metadata": {
        "id": "QepWhNiN0dxb"
      },
      "outputs": [],
      "source": [
        "import numpy as np\n",
        "import pandas as pd\n",
        "import matplotlib.pyplot as plt\n",
        "import seaborn as sns\n",
        "from sklearn.metrics import roc_curve, confusion_matrix, auc\n",
        "from sklearn import linear_model\n",
        "\n",
        "def evalBinaryClassifier(model,x, y, labels=['Positives','Negatives']):\n",
        "        '''\n",
        "        Visualize the performance of  a Logistic Regression Binary Classifier.\n",
        "\n",
        "        Displays a labelled Confusion Matrix, distributions of the predicted\n",
        "        probabilities for both classes, the ROC curve, and F1 score of a fitted\n",
        "        Binary Logistic Classifier. Author: gregcondit.com/articles/logr-charts\n",
        "\n",
        "        Parameters\n",
        "        ----------\n",
        "        model : fitted scikit-learn model with predict_proba & predict methods\n",
        "            and classes_ attribute. Typically LogisticRegression or \n",
        "            LogisticRegressionCV\n",
        "\n",
        "        x : {array-like, sparse matrix}, shape (n_samples, n_features)\n",
        "            Training vector, where n_samples is the number of samples\n",
        "            in the data to be tested, and n_features is the number of features\n",
        "\n",
        "        y : array-like, shape (n_samples,)\n",
        "            Target vector relative to x.\n",
        "\n",
        "        labels: list, optional\n",
        "            list of text labels for the two classes, with the positive label first\n",
        "\n",
        "        Displays\n",
        "        ----------\n",
        "        3 Subplots\n",
        "\n",
        "        Returns\n",
        "        ----------\n",
        "        F1: float\n",
        "        '''\n",
        "        #model predicts probabilities of positive class\n",
        "        p = model.predict_proba(x)\n",
        "        if len(model.classes_)!=2:\n",
        "            raise ValueError('A binary class problem is required')\n",
        "        if model.classes_[1] == 1:\n",
        "            pos_p = p[:,1]\n",
        "        elif model.classes_[0] == 1:\n",
        "            pos_p = p[:,0]\n",
        "\n",
        "        #FIGURE\n",
        "        plt.figure(figsize=[15,4])\n",
        "\n",
        "        #1 -- Confusion matrix\n",
        "        cm = confusion_matrix(y,model.predict(x))\n",
        "        plt.subplot(131)\n",
        "        ax = sns.heatmap(cm, annot=True, cmap='Blues', cbar=False, \n",
        "                    annot_kws={\"size\": 14}, fmt='g')\n",
        "        cmlabels = ['True Negatives', 'False Positives',\n",
        "                  'False Negatives', 'True Positives']\n",
        "        for i,t in enumerate(ax.texts):\n",
        "            t.set_text(t.get_text() + \"\\n\" + cmlabels[i])\n",
        "        plt.title('Confusion Matrix', size=15)\n",
        "        plt.xlabel('Predicted Values', size=13)\n",
        "        plt.ylabel('True Values', size=13)\n",
        "\n",
        "        #2 -- Distributions of Predicted Probabilities of both classes\n",
        "        df = pd.DataFrame({'probPos':pos_p, 'target': y})\n",
        "        plt.subplot(132)\n",
        "        plt.hist(df[df.target==1].probPos, density=True, \n",
        "                 alpha=.5, color='green',  label=labels[0])\n",
        "        plt.hist(df[df.target==0].probPos, density=True, \n",
        "                 alpha=.5, color='red', label=labels[1])\n",
        "        plt.axvline(.5, color='blue', linestyle='--', label='Boundary')\n",
        "        plt.xlim([0,1])\n",
        "        plt.title('Distributions of Predictions', size=15)\n",
        "        plt.xlabel('Positive Probability (predicted)', size=13)\n",
        "        plt.ylabel('Samples (normalized scale)', size=13)\n",
        "        plt.legend(loc=\"upper right\")\n",
        "\n",
        "        #3 -- ROC curve with annotated decision point\n",
        "        fp_rates, tp_rates, _ = roc_curve(y,p[:,1])\n",
        "        roc_auc = auc(fp_rates, tp_rates)\n",
        "        plt.subplot(133)\n",
        "        plt.plot(fp_rates, tp_rates, color='green',\n",
        "                 lw=1, label='ROC curve (area = %0.2f)' % roc_auc)\n",
        "        plt.plot([0, 1], [0, 1], lw=1, linestyle='--', color='grey')\n",
        "        #plot current decision point:\n",
        "        tn, fp, fn, tp = [i for i in cm.ravel()]\n",
        "        plt.plot(fp/(fp+tn), tp/(tp+fn), 'bo', markersize=8, label='Decision Point')\n",
        "        plt.xlim([0.0, 1.0])\n",
        "        plt.ylim([0.0, 1.05])\n",
        "        plt.xlabel('False Positive Rate', size=13)\n",
        "        plt.ylabel('True Positive Rate', size=13)\n",
        "        plt.title('ROC Curve', size=15)\n",
        "        plt.legend(loc=\"lower right\")\n",
        "        plt.subplots_adjust(wspace=.3)\n",
        "        plt.show()\n",
        "        #Print and Return the F1 score\n",
        "        tn, fp, fn, tp = [i for i in cm.ravel()]\n",
        "        precision = tp / (tp + fp)\n",
        "        recall = tp / (tp + fn)\n",
        "        F1 = 2*(precision * recall) / (precision + recall)\n",
        "        printout = (\n",
        "            f'Precision: {round(precision,2)} | '\n",
        "            f'Recall: {round(recall,2)} | '\n",
        "            f'F1 Score: {round(F1,2)} | '\n",
        "        )\n",
        "        print(printout)\n",
        "        return F1"
      ]
    },
    {
      "cell_type": "code",
      "execution_count": 26,
      "metadata": {
        "id": "_JI9PS7x0m4L"
      },
      "outputs": [],
      "source": [
        "def demo_report(model,X,y,title):\n",
        "    y_pred = model.predict(X)\n",
        "    inb = classification_report(y,y_pred)\n",
        "    repeat = \"-\" *50\n",
        "    print(repeat)      \n",
        "    print(f\"Classification Report: {title}\")\n",
        "    print(repeat)      \n",
        "    print(\"\\n\")\n",
        "    print(f\"{inb}\")\n",
        "    print(repeat)\n",
        "    print(repeat)      \n",
        "    print(f\"Confusion Matrix & Roc Curve\")\n",
        "    print(repeat)\n",
        "    F1 = evalBinaryClassifier(model,X,y)"
      ]
    },
    {
      "cell_type": "markdown",
      "metadata": {},
      "source": [
        "## 문제정의\n",
        "\n",
        "### GOMS 조사개요\n",
        "최근 청년층 고용문제 특히, 대학 졸업자의 고용 악화가 큰 사회적 문제가 되고 있다. 대졸 청년층의 취업난은 개인과 가정을 힘들게 하고, 사회경제적 손실을 넘어 사회병리적인 문제로 심화되고 있다.\n",
        "\n",
        " \n",
        "이렇듯 장기간 지속되는 고학력 청년실업 문제를 풀려면, 대학 졸업 후 노동시장의 진입과 이행에 대한 다각적인 정책이 필요하다.  졸업시점의 경제상황에 따라 대졸자의 노동시장진입 및 노동시장 성과에 미치는 효과는 상당한 차이를 보이기에 이를 정확하게 파악하는 것이 우선이다. 2009년 이후 청년층 대졸자의 급감, 대학구조개편, 교육정보 공시제도 시행 등의 고등교육 정책이 가시화됨에 따라 대학교육서비스 시장은 상당한 변화가 있을 것으로 예상된다.\n",
        "\n",
        "이러한 변화에 부응하고 정책적 수요를 충족시키기 위한 대졸자들의 노동시장 진입과 정착 과정에 대한 실증적 자료가 요구됨에 따라  『대졸자직업이동경로조사』를 실시하게 되었다.\n",
        "\n",
        "\n",
        "\n",
        "### 분석목적\n"
      ]
    },
    {
      "cell_type": "markdown",
      "metadata": {
        "id": "Yi2NB5PJ2Zuu"
      },
      "source": [
        "## 2. 가설, 평가지표, Baseline 선택"
      ]
    },
    {
      "cell_type": "code",
      "execution_count": 4,
      "metadata": {},
      "outputs": [
        {
          "name": "stdout",
          "output_type": "stream",
          "text": [
            "/c/Project/project-turnover-behavior/notebooks\n"
          ]
        }
      ],
      "source": [
        "!pwd"
      ]
    },
    {
      "cell_type": "code",
      "execution_count": 2,
      "metadata": {
        "id": "7z6x8R51KTBL"
      },
      "outputs": [
        {
          "name": "stderr",
          "output_type": "stream",
          "text": [
            "C:\\ProgramData\\Anaconda3\\lib\\site-packages\\IPython\\core\\interactiveshell.py:3444: DtypeWarning: Columns (43,279) have mixed types.Specify dtype option on import or set low_memory=False.\n",
            "  exec(code_obj, self.user_global_ns, self.user_ns)\n"
          ]
        }
      ],
      "source": [
        "# 원본데이터 불러오기\n",
        "import pandas as pd\n",
        "\n",
        "df = pd.read_csv('../data/GP18_2019_use.csv',encoding='cp949')\n",
        "df.columns = df.columns.str.lower()"
      ]
    },
    {
      "cell_type": "code",
      "execution_count": 3,
      "metadata": {
        "colab": {
          "base_uri": "https://localhost:8080/",
          "height": 273
        },
        "id": "d2ZloMqpRtem",
        "outputId": "79525b12-ce2e-4735-c019-afe5dc7906ca"
      },
      "outputs": [
        {
          "data": {
            "text/html": [
              "<div>\n",
              "<style scoped>\n",
              "    .dataframe tbody tr th:only-of-type {\n",
              "        vertical-align: middle;\n",
              "    }\n",
              "\n",
              "    .dataframe tbody tr th {\n",
              "        vertical-align: top;\n",
              "    }\n",
              "\n",
              "    .dataframe thead th {\n",
              "        text-align: right;\n",
              "    }\n",
              "</style>\n",
              "<table border=\"1\" class=\"dataframe\">\n",
              "  <thead>\n",
              "    <tr style=\"text-align: right;\">\n",
              "      <th></th>\n",
              "      <th>g181pid</th>\n",
              "      <th>g181branch</th>\n",
              "      <th>g181found</th>\n",
              "      <th>g181course</th>\n",
              "      <th>g181daynight</th>\n",
              "      <th>g181majorcat</th>\n",
              "      <th>g181dpmt</th>\n",
              "      <th>g181dpmt_n</th>\n",
              "      <th>g181major</th>\n",
              "      <th>g181major_n</th>\n",
              "      <th>...</th>\n",
              "      <th>g181p041</th>\n",
              "      <th>g181r001</th>\n",
              "      <th>g181r002</th>\n",
              "      <th>g181r003</th>\n",
              "      <th>g181r023</th>\n",
              "      <th>g181r024</th>\n",
              "      <th>g181r025</th>\n",
              "      <th>g181r026</th>\n",
              "      <th>g181r027</th>\n",
              "      <th>g181wt</th>\n",
              "    </tr>\n",
              "  </thead>\n",
              "  <tbody>\n",
              "    <tr>\n",
              "      <th>0</th>\n",
              "      <td>100013</td>\n",
              "      <td>1</td>\n",
              "      <td>3</td>\n",
              "      <td>3</td>\n",
              "      <td>2</td>\n",
              "      <td>1</td>\n",
              "      <td>C010101</td>\n",
              "      <td>일본어</td>\n",
              "      <td>C01010100027</td>\n",
              "      <td>비즈니스일본어과</td>\n",
              "      <td>...</td>\n",
              "      <td>2</td>\n",
              "      <td>2</td>\n",
              "      <td>NaN</td>\n",
              "      <td>2</td>\n",
              "      <td>100</td>\n",
              "      <td>0</td>\n",
              "      <td>0</td>\n",
              "      <td>0</td>\n",
              "      <td>1.0</td>\n",
              "      <td>33.641815</td>\n",
              "    </tr>\n",
              "    <tr>\n",
              "      <th>1</th>\n",
              "      <td>100018</td>\n",
              "      <td>1</td>\n",
              "      <td>3</td>\n",
              "      <td>3</td>\n",
              "      <td>1</td>\n",
              "      <td>1</td>\n",
              "      <td>C010101</td>\n",
              "      <td>일본어</td>\n",
              "      <td>C01010100013</td>\n",
              "      <td>일본어과</td>\n",
              "      <td>...</td>\n",
              "      <td>2</td>\n",
              "      <td>2</td>\n",
              "      <td>NaN</td>\n",
              "      <td>2</td>\n",
              "      <td>10</td>\n",
              "      <td>0</td>\n",
              "      <td>0</td>\n",
              "      <td>20</td>\n",
              "      <td>NaN</td>\n",
              "      <td>21.997140</td>\n",
              "    </tr>\n",
              "    <tr>\n",
              "      <th>2</th>\n",
              "      <td>100019</td>\n",
              "      <td>1</td>\n",
              "      <td>3</td>\n",
              "      <td>3</td>\n",
              "      <td>1</td>\n",
              "      <td>1</td>\n",
              "      <td>C010101</td>\n",
              "      <td>일본어</td>\n",
              "      <td>C01010100013</td>\n",
              "      <td>일본어과</td>\n",
              "      <td>...</td>\n",
              "      <td>1</td>\n",
              "      <td>2</td>\n",
              "      <td>NaN</td>\n",
              "      <td>2</td>\n",
              "      <td>40</td>\n",
              "      <td>0</td>\n",
              "      <td>0</td>\n",
              "      <td>38</td>\n",
              "      <td>3.0</td>\n",
              "      <td>21.997140</td>\n",
              "    </tr>\n",
              "    <tr>\n",
              "      <th>3</th>\n",
              "      <td>100034</td>\n",
              "      <td>1</td>\n",
              "      <td>3</td>\n",
              "      <td>3</td>\n",
              "      <td>1</td>\n",
              "      <td>1</td>\n",
              "      <td>C010101</td>\n",
              "      <td>일본어</td>\n",
              "      <td>C01010100005</td>\n",
              "      <td>관광일어과</td>\n",
              "      <td>...</td>\n",
              "      <td>2</td>\n",
              "      <td>1</td>\n",
              "      <td>300.0</td>\n",
              "      <td>2</td>\n",
              "      <td>100</td>\n",
              "      <td>10</td>\n",
              "      <td>0</td>\n",
              "      <td>30</td>\n",
              "      <td>1.0</td>\n",
              "      <td>35.853258</td>\n",
              "    </tr>\n",
              "    <tr>\n",
              "      <th>4</th>\n",
              "      <td>100036</td>\n",
              "      <td>1</td>\n",
              "      <td>3</td>\n",
              "      <td>3</td>\n",
              "      <td>1</td>\n",
              "      <td>1</td>\n",
              "      <td>C010101</td>\n",
              "      <td>일본어</td>\n",
              "      <td>C01010100005</td>\n",
              "      <td>관광일어과</td>\n",
              "      <td>...</td>\n",
              "      <td>2</td>\n",
              "      <td>1</td>\n",
              "      <td>1008.0</td>\n",
              "      <td>2</td>\n",
              "      <td>30</td>\n",
              "      <td>0</td>\n",
              "      <td>0</td>\n",
              "      <td>0</td>\n",
              "      <td>1.0</td>\n",
              "      <td>20.945343</td>\n",
              "    </tr>\n",
              "  </tbody>\n",
              "</table>\n",
              "<p>5 rows × 290 columns</p>\n",
              "</div>"
            ],
            "text/plain": [
              "   g181pid  g181branch  g181found  g181course  g181daynight  g181majorcat  \\\n",
              "0   100013           1          3           3             2             1   \n",
              "1   100018           1          3           3             1             1   \n",
              "2   100019           1          3           3             1             1   \n",
              "3   100034           1          3           3             1             1   \n",
              "4   100036           1          3           3             1             1   \n",
              "\n",
              "  g181dpmt g181dpmt_n     g181major g181major_n  ...  g181p041  g181r001  \\\n",
              "0  C010101        일본어  C01010100027    비즈니스일본어과  ...         2         2   \n",
              "1  C010101        일본어  C01010100013        일본어과  ...         2         2   \n",
              "2  C010101        일본어  C01010100013        일본어과  ...         1         2   \n",
              "3  C010101        일본어  C01010100005       관광일어과  ...         2         1   \n",
              "4  C010101        일본어  C01010100005       관광일어과  ...         2         1   \n",
              "\n",
              "   g181r002  g181r003  g181r023  g181r024  g181r025  g181r026  g181r027  \\\n",
              "0       NaN         2       100         0         0         0       1.0   \n",
              "1       NaN         2        10         0         0        20       NaN   \n",
              "2       NaN         2        40         0         0        38       3.0   \n",
              "3     300.0         2       100        10         0        30       1.0   \n",
              "4    1008.0         2        30         0         0         0       1.0   \n",
              "\n",
              "      g181wt  \n",
              "0  33.641815  \n",
              "1  21.997140  \n",
              "2  21.997140  \n",
              "3  35.853258  \n",
              "4  20.945343  \n",
              "\n",
              "[5 rows x 290 columns]"
            ]
          },
          "execution_count": 3,
          "metadata": {},
          "output_type": "execute_result"
        }
      ],
      "source": [
        "df.head()"
      ]
    },
    {
      "cell_type": "code",
      "execution_count": null,
      "metadata": {
        "colab": {
          "base_uri": "https://localhost:8080/"
        },
        "id": "OoVZROJuGIkA",
        "outputId": "f3453c71-46b1-4c6f-d833-d1a453a71fb9"
      },
      "outputs": [
        {
          "data": {
            "text/plain": [
              "(18163, 290)"
            ]
          },
          "execution_count": 290,
          "metadata": {
            "tags": []
          },
          "output_type": "execute_result"
        }
      ],
      "source": [
        "df.shape"
      ]
    },
    {
      "cell_type": "markdown",
      "metadata": {
        "id": "JwEMRbaTZoPS"
      },
      "source": [
        "### 가설\n",
        "\n",
        "- 비정규직이 이직준비가능성이 높을 것이다.\n",
        "- 출근에 걸리는 시간이 이직준비 여부에 영향을 미칠 것이다.\n",
        "\n"
      ]
    },
    {
      "cell_type": "markdown",
      "metadata": {
        "id": "bKTjIy5disye"
      },
      "source": [
        "## 3. Data Preprocessing"
      ]
    },
    {
      "cell_type": "code",
      "execution_count": 7,
      "metadata": {
        "colab": {
          "base_uri": "https://localhost:8080/"
        },
        "id": "6s5gTYgDSCqL",
        "outputId": "121a8e5f-2dc3-4c47-d869-fc3052476643"
      },
      "outputs": [
        {
          "data": {
            "text/plain": [
              "1     12281\n",
              "9      1961\n",
              "7      1656\n",
              "3       667\n",
              "8       589\n",
              "14      557\n",
              "4       134\n",
              "2       109\n",
              "10       93\n",
              "5        39\n",
              "6        33\n",
              "11       16\n",
              "12       13\n",
              "15        9\n",
              "13        6\n",
              "Name: g181sq001, dtype: int64"
            ]
          },
          "execution_count": 7,
          "metadata": {},
          "output_type": "execute_result"
        }
      ],
      "source": [
        "# 지난 4주간 주로 한 일\n",
        "df.g181sq001.value_counts()"
      ]
    },
    {
      "cell_type": "code",
      "execution_count": null,
      "metadata": {
        "colab": {
          "base_uri": "https://localhost:8080/"
        },
        "id": "uSy6ZbJuWD_0",
        "outputId": "b9c583f8-2a0b-4d77-d935-b675a29da789"
      },
      "outputs": [
        {
          "data": {
            "text/plain": [
              "290"
            ]
          },
          "execution_count": 269,
          "metadata": {
            "tags": []
          },
          "output_type": "execute_result"
        }
      ],
      "source": [
        "# 컬럼g 수 확인\n",
        "len(df.columns)"
      ]
    },
    {
      "cell_type": "code",
      "execution_count": null,
      "metadata": {
        "colab": {
          "base_uri": "https://localhost:8080/"
        },
        "id": "8XrCihxNx2cD",
        "outputId": "1671f589-4a32-463f-ea36-3705f643d0a4"
      },
      "outputs": [
        {
          "data": {
            "text/plain": [
              "Index(['g181pid', 'g181branch', 'g181found', 'g181course', 'g181daynight',\n",
              "       'g181majorcat', 'g181dpmt', 'g181dpmt_n', 'g181major', 'g181major_n'],\n",
              "      dtype='object')"
            ]
          },
          "execution_count": 291,
          "metadata": {
            "tags": []
          },
          "output_type": "execute_result"
        }
      ],
      "source": [
        "df.columns[:10]"
      ]
    },
    {
      "cell_type": "code",
      "execution_count": 30,
      "metadata": {},
      "outputs": [
        {
          "data": {
            "text/plain": [
              "0        2.0\n",
              "1        NaN\n",
              "2        5.0\n",
              "3        1.0\n",
              "4        1.0\n",
              "        ... \n",
              "18158    NaN\n",
              "18159    1.0\n",
              "18160    4.0\n",
              "18161    NaN\n",
              "18162    1.0\n",
              "Name: g181a021, Length: 18163, dtype: float64"
            ]
          },
          "execution_count": 30,
          "metadata": {},
          "output_type": "execute_result"
        }
      ],
      "source": [
        "df['g181a021']"
      ]
    },
    {
      "cell_type": "code",
      "execution_count": 4,
      "metadata": {},
      "outputs": [],
      "source": [
        "\n",
        "def subset_df(df):\n",
        "    worker_df = df[df['g181sq006'].notnull()] # 근로자(일의 종류)\n",
        "    \n",
        "    \n",
        "    # 임금종사자 여부\n",
        "    \"\"\"\n",
        "    1\t타인 또는 회사에 고용되어 보수(돈)를 받고 일한다.(직장, 아르바이트 등 포함)\n",
        "    2\t내 사업을 한다.\n",
        "    3\t가족의 일을 돈을 받지 않고 돕는다.\n",
        "    \"\"\"\n",
        "    worker_cond = [\n",
        "        (worker_df['g181sq006'] == 1), \n",
        "        (worker_df['g181sq006'] == 2),\n",
        "        (worker_df['g181sq006'] == 3)\n",
        "    ]\n",
        "    \n",
        "    worker_choices = ['employed','self_employed','non_paid']\n",
        "    \n",
        "    worker_df['worker_type'] = np.select(worker_cond, worker_choices,default=None)\n",
        "    \n",
        "    # 임금근로자만 추출\n",
        "    worker_df = worker_df[worker_df['worker_type'] == 'employed'] \n",
        "    \n",
        "    \n",
        "    # 상용 근로자만 추출\n",
        "    \"\"\"\n",
        "    1\t상용근로자\n",
        "    2\t상용근로자 외 임시,일용직\n",
        "    \"\"\"\n",
        "    regular_cond = [worker_df['g181a021'] == 1,\n",
        "                    worker_df['g181a021'] != 1]\n",
        "    \n",
        "    \n",
        "    worker_df['regular_worker'] = np.select(regular_cond, ['yes','no'],default=None)\n",
        "    \n",
        "\n",
        "    worker_df = worker_df[worker_df['regular_worker'] == 'yes']\n",
        "    \n",
        "    \n",
        "    return worker_df"
      ]
    },
    {
      "cell_type": "code",
      "execution_count": 5,
      "metadata": {},
      "outputs": [
        {
          "name": "stderr",
          "output_type": "stream",
          "text": [
            "C:\\Users\\yjinh\\AppData\\Local\\Temp/ipykernel_20416/1109889356.py:19: SettingWithCopyWarning: \n",
            "A value is trying to be set on a copy of a slice from a DataFrame.\n",
            "Try using .loc[row_indexer,col_indexer] = value instead\n",
            "\n",
            "See the caveats in the documentation: https://pandas.pydata.org/pandas-docs/stable/user_guide/indexing.html#returning-a-view-versus-a-copy\n",
            "  worker_df['worker_type'] = np.select(worker_cond, worker_choices,default=None)\n"
          ]
        }
      ],
      "source": [
        "worker_df = subset_df(df)"
      ]
    },
    {
      "cell_type": "code",
      "execution_count": 50,
      "metadata": {},
      "outputs": [
        {
          "name": "stdout",
          "output_type": "stream",
          "text": [
            "(10525, 292)\n",
            "1.0    2172\n",
            "Name: g181d001, dtype: int64\n",
            "[nan  1.]\n"
          ]
        }
      ],
      "source": [
        "print(eng_df.shape)\n",
        "print(eng_df['g181d001'].value_counts())\n",
        "print(eng_df['g181d001'].unique())"
      ]
    },
    {
      "cell_type": "code",
      "execution_count": null,
      "metadata": {},
      "outputs": [],
      "source": []
    },
    {
      "cell_type": "markdown",
      "metadata": {
        "id": "G_yTLsPLx_ZI"
      },
      "source": [
        "### 데이터 확인용 전처리\n"
      ]
    },
    {
      "cell_type": "code",
      "execution_count": null,
      "metadata": {
        "colab": {
          "base_uri": "https://localhost:8080/"
        },
        "id": "fAT4Sp5nyzy8",
        "outputId": "b2cb6986-3e1a-402e-a17f-d239d9a72703"
      },
      "outputs": [
        {
          "data": {
            "text/plain": [
              "1.0    12647\n",
              "2.0      563\n",
              "3.0      103\n",
              "Name: g181sq006, dtype: int64"
            ]
          },
          "execution_count": 292,
          "metadata": {
            "tags": []
          },
          "output_type": "execute_result"
        }
      ],
      "source": [
        "\"\"\"\n",
        "임금,비임금, 무급종사자\n",
        "기본적으로 임금종사자만 분석대상으로 함\n",
        "\"\"\"\n",
        "\n",
        "df.g181sq006.value_counts()"
      ]
    },
    {
      "cell_type": "code",
      "execution_count": null,
      "metadata": {
        "colab": {
          "base_uri": "https://localhost:8080/"
        },
        "id": "DQllTGQEzgdv",
        "outputId": "e4fcaad7-8d65-4744-cae4-bd30c7e231c3"
      },
      "outputs": [
        {
          "data": {
            "text/plain": [
              "array([1., 2., 3.])"
            ]
          },
          "execution_count": 293,
          "metadata": {
            "tags": []
          },
          "output_type": "execute_result"
        }
      ],
      "source": [
        "## SQ4. 임금,비임금, 무급종사자\n",
        "f1_df=df[df['g181sq006'].notnull()]\n",
        "f1_df.g181sq006.unique()"
      ]
    },
    {
      "cell_type": "code",
      "execution_count": null,
      "metadata": {
        "colab": {
          "base_uri": "https://localhost:8080/"
        },
        "id": "woIrehUSyQk2",
        "outputId": "b18cb9ba-608c-47a0-fff2-19d55b021139"
      },
      "outputs": [
        {
          "name": "stdout",
          "output_type": "stream",
          "text": [
            "   g181pid  g181branch  g181found  ...  g181r027     g181wt     emp_status\n",
            "0   100013           1          3  ...       1.0  33.641815       emoloyed\n",
            "2   100019           1          3  ...       3.0  21.997140  self_employed\n",
            "3   100034           1          3  ...       1.0  35.853258       emoloyed\n",
            "4   100036           1          3  ...       1.0  20.945343       emoloyed\n",
            "5   100047           1          3  ...       1.0  19.420393       emoloyed\n",
            "\n",
            "[5 rows x 291 columns]\n"
          ]
        }
      ],
      "source": [
        "# 임금종사자 여부\n",
        "conditions = [\n",
        "    (f1_df['g181sq006'] == 1),\n",
        "    (f1_df['g181sq006'] == 2),\n",
        "    (f1_df['g181sq006'] == 3)]\n",
        "choices = ['emoloyed', 'self_employed', 'non_paid']\n",
        "f1_df['emp_status'] = np.select(conditions, choices, default='nan')\n",
        "print(f1_df.head())"
      ]
    },
    {
      "cell_type": "code",
      "execution_count": null,
      "metadata": {
        "colab": {
          "base_uri": "https://localhost:8080/"
        },
        "id": "ho9BwY9P0tp6",
        "outputId": "26d308ef-d48a-4bc8-c6a5-ffc7cdd11506"
      },
      "outputs": [
        {
          "data": {
            "text/plain": [
              "(13313, 291)"
            ]
          },
          "execution_count": 295,
          "metadata": {
            "tags": []
          },
          "output_type": "execute_result"
        }
      ],
      "source": [
        "f1_df.shape"
      ]
    },
    {
      "cell_type": "code",
      "execution_count": null,
      "metadata": {
        "colab": {
          "base_uri": "https://localhost:8080/"
        },
        "id": "6TXp5bTJmTO7",
        "outputId": "65520fec-7d78-4bc1-e5a7-7d5d4bc28e40"
      },
      "outputs": [
        {
          "data": {
            "text/plain": [
              "emoloyed         12647\n",
              "self_employed      563\n",
              "non_paid           103\n",
              "Name: emp_status, dtype: int64"
            ]
          },
          "execution_count": 296,
          "metadata": {
            "tags": []
          },
          "output_type": "execute_result"
        }
      ],
      "source": [
        "f1_df.emp_status.value_counts()"
      ]
    },
    {
      "cell_type": "code",
      "execution_count": null,
      "metadata": {
        "id": "MwjWLnS0mVNn"
      },
      "outputs": [],
      "source": [
        "f1_df = pd.get_dummies(f1_df,columns = ['emp_status'])"
      ]
    },
    {
      "cell_type": "code",
      "execution_count": null,
      "metadata": {
        "id": "q1vg3DTymv4Y"
      },
      "outputs": [],
      "source": [
        "employed_ck=f1_df[f1_df['emp_status_emoloyed']==1]"
      ]
    },
    {
      "cell_type": "code",
      "execution_count": null,
      "metadata": {
        "colab": {
          "base_uri": "https://localhost:8080/"
        },
        "id": "2rxXKSmz4TJ5",
        "outputId": "36dcc764-d8d4-4aa8-b52e-459faef4eed1"
      },
      "outputs": [
        {
          "data": {
            "text/plain": [
              "2.0    9493\n",
              "1.0    3154\n",
              "Name: g181a297, dtype: int64"
            ]
          },
          "execution_count": 278,
          "metadata": {
            "tags": []
          },
          "output_type": "execute_result"
        }
      ],
      "source": [
        "# 임금근로자\n",
        "employed_ck.g181a297.value_counts()"
      ]
    },
    {
      "cell_type": "code",
      "execution_count": null,
      "metadata": {
        "colab": {
          "base_uri": "https://localhost:8080/"
        },
        "id": "1nU__Gdrf4UM",
        "outputId": "07e83202-e8d8-461a-f867-c4b7059cdf65"
      },
      "outputs": [
        {
          "data": {
            "text/plain": [
              "1.0    10525\n",
              "2.0     1957\n",
              "3.0      165\n",
              "Name: g181a021, dtype: int64"
            ]
          },
          "execution_count": 299,
          "metadata": {
            "tags": []
          },
          "output_type": "execute_result"
        }
      ],
      "source": [
        "# 임금근로자 종사상 지위\n",
        "# 상용근로자만 분석대상으로 \n",
        "employed_ck[\"g181a021\"].value_counts()"
      ]
    },
    {
      "cell_type": "code",
      "execution_count": null,
      "metadata": {
        "id": "7rmFIgxjgz_z"
      },
      "outputs": [],
      "source": [
        "fin_emp = employed_ck[employed_ck.g181a021==1]"
      ]
    },
    {
      "cell_type": "code",
      "execution_count": null,
      "metadata": {
        "id": "jGBgT9az6MNj"
      },
      "outputs": [],
      "source": [
        "# 타겟 변수 \n",
        "target = 'g181a297'"
      ]
    },
    {
      "cell_type": "code",
      "execution_count": null,
      "metadata": {
        "colab": {
          "base_uri": "https://localhost:8080/"
        },
        "id": "LXsaDbhrgXLC",
        "outputId": "2ff2dfbd-1667-4016-afad-83ed52e929d4"
      },
      "outputs": [
        {
          "data": {
            "text/plain": [
              "2.0    0.784988\n",
              "1.0    0.215012\n",
              "Name: g181a297, dtype: float64"
            ]
          },
          "execution_count": 300,
          "metadata": {
            "tags": []
          },
          "output_type": "execute_result"
        }
      ],
      "source": [
        "# 상용근로자의 타겟변수 비율\n",
        "fin_emp[target].value_counts(normalize=True)"
      ]
    },
    {
      "cell_type": "markdown",
      "metadata": {
        "id": "HOfclNN91NaY"
      },
      "source": [
        "fin_emp를 분석데이터로 사용"
      ]
    },
    {
      "cell_type": "code",
      "execution_count": null,
      "metadata": {
        "colab": {
          "base_uri": "https://localhost:8080/"
        },
        "id": "CkbC8WEZ97Hz",
        "outputId": "5de4d680-4be7-443d-c2c8-72e28b5099af"
      },
      "outputs": [
        {
          "data": {
            "text/plain": [
              "(10525, 295)"
            ]
          },
          "execution_count": 301,
          "metadata": {
            "tags": []
          },
          "output_type": "execute_result"
        }
      ],
      "source": [
        "# 상용 근로자 기준으로 변수 선택\n",
        "fin_emp.shape"
      ]
    },
    {
      "cell_type": "code",
      "execution_count": null,
      "metadata": {
        "colab": {
          "base_uri": "https://localhost:8080/"
        },
        "id": "YgXKm7Kc2CP_",
        "outputId": "7849ce8c-8d9b-4ceb-dec7-3fde570dece1"
      },
      "outputs": [
        {
          "data": {
            "text/plain": [
              "2.0    10039\n",
              "1.0      486\n",
              "Name: g181e001, dtype: int64"
            ]
          },
          "execution_count": 302,
          "metadata": {
            "tags": []
          },
          "output_type": "execute_result"
        }
      ],
      "source": [
        "# E1. 현재 일자리와 첫 일자리를 제외하고 다른 일자리를 다닌 경험 유무\n",
        "# 1인 경우 twice\n",
        "fin_emp[\"g181e001\"].value_counts()"
      ]
    },
    {
      "cell_type": "code",
      "execution_count": null,
      "metadata": {
        "colab": {
          "base_uri": "https://localhost:8080/"
        },
        "id": "_vCwo-1W7UlU",
        "outputId": "ae41c92a-3203-4614-9b07-2c18194c86b0"
      },
      "outputs": [
        {
          "data": {
            "text/plain": [
              "1.0    2172\n",
              "Name: g181d001, dtype: int64"
            ]
          },
          "execution_count": 303,
          "metadata": {
            "tags": []
          },
          "output_type": "execute_result"
        }
      ],
      "source": [
        "fin_emp[\"g181d001\"].value_counts()"
      ]
    },
    {
      "cell_type": "code",
      "execution_count": null,
      "metadata": {
        "colab": {
          "base_uri": "https://localhost:8080/"
        },
        "id": "UpeG7H032wSf",
        "outputId": "ef4b7a81-04ba-448f-896e-647ec45b51df"
      },
      "outputs": [
        {
          "data": {
            "text/plain": [
              "array([nan,  2.,  1.])"
            ]
          },
          "execution_count": 304,
          "metadata": {
            "tags": []
          },
          "output_type": "execute_result"
        }
      ],
      "source": [
        "fin_emp.g181d006.unique()"
      ]
    },
    {
      "cell_type": "code",
      "execution_count": null,
      "metadata": {
        "id": "nJGEIWx-3c6b"
      },
      "outputs": [],
      "source": [
        "# 현직장이 첫직장이 아닌경우 나타내는 변수 추가\n",
        "# df['color'] = np.where(df['Set']=='Z', 'green', 'red')\n",
        "\n",
        "# cond_turnover = (fin_emp['g181d006']==2) \n",
        "\n",
        "fin_emp['turnover_once'] = np.where(fin_emp['g181d001'].isnull()==True, 0, fin_emp['g181d001'])"
      ]
    },
    {
      "cell_type": "code",
      "execution_count": null,
      "metadata": {
        "colab": {
          "base_uri": "https://localhost:8080/"
        },
        "id": "P40_F3sV2bpV",
        "outputId": "0c099acf-c8aa-4e8b-df92-6c5c94f85eca"
      },
      "outputs": [
        {
          "data": {
            "text/plain": [
              "0.0    8353\n",
              "1.0    2172\n",
              "Name: turnover_once, dtype: int64"
            ]
          },
          "execution_count": 306,
          "metadata": {
            "tags": []
          },
          "output_type": "execute_result"
        }
      ],
      "source": [
        "# 현 직장이 두번째 직장인 경우\n",
        "fin_emp[\"turnover_once\"].value_counts()"
      ]
    },
    {
      "cell_type": "code",
      "execution_count": 6,
      "metadata": {
        "colab": {
          "base_uri": "https://localhost:8080/"
        },
        "id": "jyxbGZNZ91M6",
        "outputId": "546c0ddd-08e1-43cb-b4d1-943c2aadeb3c"
      },
      "outputs": [
        {
          "ename": "NameError",
          "evalue": "name 'fin_emp' is not defined",
          "output_type": "error",
          "traceback": [
            "\u001b[1;31m---------------------------------------------------------------------------\u001b[0m",
            "\u001b[1;31mNameError\u001b[0m                                 Traceback (most recent call last)",
            "\u001b[1;32m~\\AppData\\Local\\Temp/ipykernel_20416/3621610201.py\u001b[0m in \u001b[0;36m<module>\u001b[1;34m\u001b[0m\n\u001b[0;32m     10\u001b[0m \u001b[1;33m\u001b[0m\u001b[0m\n\u001b[0;32m     11\u001b[0m conditions = [\n\u001b[1;32m---> 12\u001b[1;33m     \u001b[1;33m(\u001b[0m\u001b[0mfin_emp\u001b[0m\u001b[1;33m[\u001b[0m\u001b[1;34m'g181d001'\u001b[0m\u001b[1;33m]\u001b[0m\u001b[1;33m.\u001b[0m\u001b[0misnull\u001b[0m\u001b[1;33m(\u001b[0m\u001b[1;33m)\u001b[0m\u001b[1;33m==\u001b[0m\u001b[1;32mTrue\u001b[0m \u001b[1;33m)\u001b[0m\u001b[1;33m,\u001b[0m \u001b[1;31m# 첫 직장 전 취업한적 없음(알바포함)\u001b[0m\u001b[1;33m\u001b[0m\u001b[1;33m\u001b[0m\u001b[0m\n\u001b[0m\u001b[0;32m     13\u001b[0m     \u001b[1;33m(\u001b[0m\u001b[0mfin_emp\u001b[0m\u001b[1;33m[\u001b[0m\u001b[1;34m'g181d001'\u001b[0m\u001b[1;33m]\u001b[0m\u001b[1;33m==\u001b[0m\u001b[1;36m1\u001b[0m\u001b[1;33m)\u001b[0m \u001b[1;33m&\u001b[0m \u001b[1;33m(\u001b[0m\u001b[0mfin_emp\u001b[0m\u001b[1;33m[\u001b[0m\u001b[1;34m'g181d006'\u001b[0m\u001b[1;33m]\u001b[0m\u001b[1;33m==\u001b[0m\u001b[1;36m1\u001b[0m\u001b[1;33m)\u001b[0m\u001b[1;33m,\u001b[0m \u001b[1;31m# 알바 경험 있음\u001b[0m\u001b[1;33m\u001b[0m\u001b[1;33m\u001b[0m\u001b[0m\n\u001b[0;32m     14\u001b[0m     \u001b[1;33m(\u001b[0m\u001b[0mfin_emp\u001b[0m\u001b[1;33m[\u001b[0m\u001b[1;34m'g181d001'\u001b[0m\u001b[1;33m]\u001b[0m\u001b[1;33m==\u001b[0m\u001b[1;36m1\u001b[0m\u001b[1;33m)\u001b[0m \u001b[1;33m&\u001b[0m \u001b[1;33m(\u001b[0m\u001b[0mfin_emp\u001b[0m\u001b[1;33m[\u001b[0m\u001b[1;34m'g181d006'\u001b[0m\u001b[1;33m]\u001b[0m\u001b[1;33m==\u001b[0m\u001b[1;36m2\u001b[0m\u001b[1;33m)\u001b[0m \u001b[1;33m&\u001b[0m \u001b[1;33m(\u001b[0m\u001b[0mfin_emp\u001b[0m\u001b[1;33m[\u001b[0m\u001b[1;34m'g181e001'\u001b[0m\u001b[1;33m]\u001b[0m\u001b[1;33m==\u001b[0m\u001b[1;36m2\u001b[0m\u001b[1;33m)\u001b[0m\u001b[1;33m,\u001b[0m \u001b[1;31m# 전직장 있음, 1번이직\u001b[0m\u001b[1;33m\u001b[0m\u001b[1;33m\u001b[0m\u001b[0m\n",
            "\u001b[1;31mNameError\u001b[0m: name 'fin_emp' is not defined"
          ]
        }
      ],
      "source": [
        "# 이직 경험 빈도를 나타내는 변수 추가\n",
        "\"\"\"\n",
        "0 : 첫직장 전 취업 한적 없음\n",
        "1 : 알바 경험만 있음\n",
        "2 : 1번 이직함\n",
        "3 : 2번 이상 이직함\n",
        "\n",
        "\n",
        "g181e001\n",
        "\n",
        "\n",
        "\"\"\"\n",
        "\n",
        "#fin_emp['turnover_once'] = np.where(fin_emp['g181d001'].isnull()==True, 0, fin_emp['g181d001'])\n",
        "\n",
        "conditions = [\n",
        "    (worker_df['g181d001'].isnull()==True ), # 첫 직장 전 취업한적 없음(알바포함)\n",
        "    (worker_df['g181d001']==1) & (fin_emp['g181d006']==1), # 알바 경험 있음\n",
        "    (worker_df['g181d001']==1) & (fin_emp['g181d006']==2) & (fin_emp['g181e001']==2), # 전직장 있음, 1번이직\n",
        "    (worker_df['g181e001']== 1)] # 전직장 2개 이상 있음\n",
        "choices = [0, 1, 2, 3]\n",
        "\n",
        "\n",
        "fin_emp['turnover_ex'] = np.select(conditions, choices,default=3)\n",
        "\n",
        "fin_emp['turnover_ex'].value_counts()"
      ]
    },
    {
      "cell_type": "code",
      "execution_count": null,
      "metadata": {
        "id": "YTzfCh7SF4lE"
      },
      "outputs": [],
      "source": [
        "# 알바제외 근로경험\n",
        "fin_emp['turnover'] = np.where(fin_emp['turnover_ex'].isin([0,1]),0,1)"
      ]
    },
    {
      "cell_type": "code",
      "execution_count": null,
      "metadata": {
        "colab": {
          "base_uri": "https://localhost:8080/"
        },
        "id": "FLZvb0OJIZXd",
        "outputId": "f259228f-391f-4337-f25d-d7dabea24e27"
      },
      "outputs": [
        {
          "data": {
            "text/plain": [
              "0    8686\n",
              "1    1839\n",
              "Name: turnover, dtype: int64"
            ]
          },
          "execution_count": 309,
          "metadata": {
            "tags": []
          },
          "output_type": "execute_result"
        }
      ],
      "source": [
        "# 알바제외 근로경험 변수\n",
        "fin_emp.turnover.value_counts()"
      ]
    },
    {
      "cell_type": "markdown",
      "metadata": {
        "id": "85PjLYHS4LBJ"
      },
      "source": [
        "#### 변수리스트 확인"
      ]
    },
    {
      "cell_type": "code",
      "execution_count": null,
      "metadata": {
        "id": "tBDsgd1wTkni"
      },
      "outputs": [],
      "source": [
        "col_list = [\n",
        "       'g181pid', # id \n",
        "       'turnover_ex', # 이직경험 빈도\n",
        "       'turnover', # 알바제외 근로경험\n",
        "       'g181majorcat', # 전공계열\n",
        "       'g181sex', # 성별 \n",
        "       'g181birthy', # 출생년\n",
        "       'g181age', # 연력\n",
        "       'g181graduy', # 졸업년\n",
        "### 사업체 관련 // 현일자리 시작 연월 사용 불가능    \n",
        "        'g181a001',  # 현일자리 시작년\n",
        "        'g181a002', # 현일자리  시작월\n",
        "        'g181a004_10', # 일자리 산업 대분류\n",
        "        'g181a010', # 기업체 종사자 수\n",
        "        'g181a011', # 사업체 종사자 수\n",
        "        'g181a018', # 출근시간_시간\n",
        "        'g181a019', # 출근시간_분\n",
        "        'g181a116', # 주당 정규 근로일\n",
        "        'g181a117', # 주당정규 근로시간\n",
        "        'g181a118', # 주당초과 근로시간\n",
        "        'g181a119', # 월평균 후일근로\n",
        "        'g181a020', # 사업체형태\n",
        "       'g181a022',     # 정규직 비정규직 여부\n",
        "### 혜택관련\n",
        "        'g181a390',     # 일자리 형태 자발, 비자발 여부\n",
        "        'g181a035' ,    # 교대제 여부\n",
        "        'g181a038',     # 퇴직금 제공 여부\n",
        "        'g181a039',     # 제공여부 2- 유급휴가\n",
        "        'g181a043',     #  6- 육아휴직\n",
        "        'g181a045',     # 8- 시간 외 수당\n",
        "        'g181a046',     # 9- 상여금\n",
        "        'g181a048',     # 11- 유급주휴\n",
        "        'g181a392',     # 12- 산전후휴가\n",
        "        'g181a120',     # 급여 형태 구분\n",
        "        'g181a122',     # 월 평균 근로소득\n",
        "        'g181a126',     # 만족도-임금\n",
        "        'g181a127',     # 만족도-고용안정성\n",
        "        'g181a128',     # 만족도-직무내용\n",
        "        'g181a129',     # 만족도-근무환경\n",
        "        'g181a130',     # 만족도-노동시간\n",
        "        'g181a131',     # 만족도-발전가능성\n",
        "        'g181a132',     # 만족도-인간관계\n",
        "        'g181a133',     # 만족도-복리후생\n",
        "        'g181a134',     # 만족도-인사체계\n",
        "        'g181a135',     # 만족도-사회적평판-일\n",
        "        'g181a136',     # 만족도-자율성 및 권한\n",
        "        'g181a137',     # 만족도-일자리-사회적 평판\n",
        "        'g181a138',     # 만족도-적성흥미일치도\n",
        "        'g181a139',     # 만족도-직무관련 교육\n",
        "        'g181a140',     # 만족도-일자리_전반적만족도\n",
        "        'g181a141',     # 만족도-업무_전반적만족도\n",
        "        'g181a142',     # 교육수준-일수준일치정도\n",
        "        'g181a143',     # 일기술수준-본인기술수준일치정도\n",
        "        'g181a144',     # 주전공일치정도\n",
        "        'g181a146',     # 전공지식업무도움정도\n",
        "        'g181a158',     # 보험-국민연금\n",
        "        'g181a159',     # 보험-특수직역연금\n",
        "        'g181a160',     # 보험-건강보험\n",
        "        'g181a161',     # 보험-고용보험\n",
        "        'g181a162',     # 보험-산재보험\n",
        "        'g181a189',     # 구직활동경험기간-개월\n",
        "        'g181a283',     # 다른일자리제의여부\n",
        "        'g181a285',     # 적응시어려움여부\n",
        "        'g181a297',     # 이직준비 여부: target\n",
        "        'g181g001',     # 대학원 경험유무\n",
        "        'g181l001',     # 취업훈련경험유무\n",
        "        'g181q001',     # 현재 견강상태\n",
        "        'g181q004',     # 흡연여부\n",
        "        'g181q006',     # 음주빈도\n",
        "        'g181q015',     # 삶의만족도-개인적 측면\n",
        "        'g181q016',     # 삶의만족도-관계적 측면\n",
        "        'g181q017',     # 삶의만족도-소속집단\n",
        "        'g181q018',     # 감정빈도-즐거운\n",
        "        'g181q019',     # 감정빈도-행복한\n",
        "        'g181q020',     # 감정빈도-편안한\n",
        "        'g181q021',     # 감정빈도-짜증나는\n",
        "        'g181q022',     # 감정빈도-부정적인\n",
        "        'g181q023',     # 감정빈도-무기력한\n",
        "        'g181p001',     # 혼인여부\n",
        "        'g181p008',     # 부양자녀 유무\n",
        "        'g181p036',     # 부모님 자산규모\n",
        "        'g181p046',     # 거주형태\n",
        "        'g181p041'      # 경제적 지원여부\n",
        "]"
      ]
    },
    {
      "cell_type": "code",
      "execution_count": null,
      "metadata": {
        "colab": {
          "base_uri": "https://localhost:8080/"
        },
        "id": "X9psP26mYH3Y",
        "outputId": "c6cee427-6850-47f2-adac-d361f3e95048"
      },
      "outputs": [
        {
          "data": {
            "text/plain": [
              "80"
            ]
          },
          "execution_count": 311,
          "metadata": {
            "tags": []
          },
          "output_type": "execute_result"
        }
      ],
      "source": [
        "len(col_list)"
      ]
    },
    {
      "cell_type": "code",
      "execution_count": null,
      "metadata": {
        "colab": {
          "base_uri": "https://localhost:8080/"
        },
        "id": "VUxDw6amzcvl",
        "outputId": "5346b863-7e5a-46cf-ccd6-d2b9426493c5"
      },
      "outputs": [
        {
          "data": {
            "text/plain": [
              "(10525, 80)"
            ]
          },
          "execution_count": 312,
          "metadata": {
            "tags": []
          },
          "output_type": "execute_result"
        }
      ],
      "source": [
        "# 필요컬럼 선택\n",
        "fin_df = fin_emp[col_list]\n",
        "fin_df.shape"
      ]
    },
    {
      "cell_type": "code",
      "execution_count": null,
      "metadata": {
        "colab": {
          "base_uri": "https://localhost:8080/"
        },
        "id": "TdT83K3xRXZ2",
        "outputId": "eecd3d53-ede5-43c3-cca8-700f6be3fc5c"
      },
      "outputs": [
        {
          "data": {
            "text/plain": [
              "array([False, False, False, False, False, False, False, False, False,\n",
              "       False, False, False, False, False, False, False, False, False,\n",
              "       False, False, False, False, False, False, False, False, False,\n",
              "       False, False, False, False, False, False, False, False, False,\n",
              "       False, False, False, False, False, False, False, False, False,\n",
              "       False, False, False, False, False, False, False, False, False,\n",
              "       False, False, False, False, False, False, False, False, False,\n",
              "       False, False, False, False, False, False, False, False, False,\n",
              "       False, False, False, False, False, False, False, False])"
            ]
          },
          "execution_count": 313,
          "metadata": {
            "tags": []
          },
          "output_type": "execute_result"
        }
      ],
      "source": [
        "fin_df.columns.duplicated() # 중복컬럼 확인"
      ]
    },
    {
      "cell_type": "code",
      "execution_count": null,
      "metadata": {
        "colab": {
          "base_uri": "https://localhost:8080/"
        },
        "id": "9cMLzYPQ1-L3",
        "outputId": "853c2390-7b14-456f-ab7b-34ed1b06aa45"
      },
      "outputs": [
        {
          "name": "stdout",
          "output_type": "stream",
          "text": [
            "g181pid            0\n",
            "turnover_ex        0\n",
            "turnover           0\n",
            "g181majorcat       0\n",
            "g181sex            0\n",
            "g181birthy         0\n",
            "g181age            0\n",
            "g181graduy         0\n",
            "g181a001           0\n",
            "g181a002           0\n",
            "g181a004_10        0\n",
            "g181a010           0\n",
            "g181a011           0\n",
            "g181a018           0\n",
            "g181a019           0\n",
            "g181a116           0\n",
            "g181a117           0\n",
            "g181a118           0\n",
            "g181a119           0\n",
            "g181a020           0\n",
            "g181a022           0\n",
            "g181a390           0\n",
            "g181a035           0\n",
            "g181a038           0\n",
            "g181a039           0\n",
            "g181a043           0\n",
            "g181a045           0\n",
            "g181a046           0\n",
            "g181a048           0\n",
            "g181a392           0\n",
            "g181a120           0\n",
            "g181a122           0\n",
            "g181a126           0\n",
            "g181a127           0\n",
            "g181a128           0\n",
            "g181a129           0\n",
            "g181a130           0\n",
            "g181a131           0\n",
            "g181a132           0\n",
            "g181a133           0\n",
            "g181a134           0\n",
            "g181a135           0\n",
            "g181a136           0\n",
            "g181a137           0\n",
            "g181a138           0\n",
            "g181a139           0\n",
            "g181a140           0\n",
            "g181a141           0\n",
            "g181a142           0\n",
            "g181a143           0\n",
            "g181a144           0\n",
            "g181a146           0\n",
            "g181a158           0\n",
            "g181a159           0\n",
            "g181a160           0\n",
            "g181a161           0\n",
            "g181a162           0\n",
            "g181a189        4246\n",
            "g181a283           0\n",
            "g181a285           0\n",
            "g181a297           0\n",
            "g181g001           0\n",
            "g181l001           0\n",
            "g181q001           0\n",
            "g181q004           0\n",
            "g181q006           0\n",
            "g181q015           0\n",
            "g181q016           0\n",
            "g181q017           0\n",
            "g181q018           0\n",
            "g181q019           0\n",
            "g181q020           0\n",
            "g181q021           0\n",
            "g181q022           0\n",
            "g181q023           0\n",
            "g181p001           0\n",
            "g181p008           0\n",
            "g181p036           0\n",
            "g181p046           0\n",
            "g181p041           0\n",
            "dtype: int64\n"
          ]
        }
      ],
      "source": [
        "# 결측치 확인\n",
        "with pd.option_context('display.max_rows', None, 'display.max_columns', None):  # more options can be specified also\n",
        "    print(fin_df.isna().sum())"
      ]
    },
    {
      "cell_type": "code",
      "execution_count": null,
      "metadata": {
        "id": "teIQlBxk3osi"
      },
      "outputs": [],
      "source": [
        "# 결측값 0으로 채움 (구직활동기간이 0이기 때문에)\n",
        "fin_df.g181a189 =fin_df.g181a189.fillna(0)"
      ]
    },
    {
      "cell_type": "code",
      "execution_count": null,
      "metadata": {
        "colab": {
          "base_uri": "https://localhost:8080/"
        },
        "id": "hw6mxttZ8g2P",
        "outputId": "d7a4e67a-dc07-43e5-e06b-230c27ec7c3c"
      },
      "outputs": [
        {
          "data": {
            "text/plain": [
              "array([ 3.,  0.,  7.,  1.,  6., 12.,  2., 10.,  4., 18.,  8.,  9.,  5.,\n",
              "       19., 15., 60., 14., 13., 24., 11., 36., 16., 17., 28., 30., 48.,\n",
              "       20., 22., 32., 21., 23., 34., 40., 50.])"
            ]
          },
          "execution_count": 316,
          "metadata": {
            "tags": []
          },
          "output_type": "execute_result"
        }
      ],
      "source": [
        "fin_df.g181a189.unique()"
      ]
    },
    {
      "cell_type": "code",
      "execution_count": null,
      "metadata": {
        "colab": {
          "base_uri": "https://localhost:8080/"
        },
        "id": "RlmyaizmCO6-",
        "outputId": "0818d945-ee08-43e6-bb67-5b7cc92be9d3"
      },
      "outputs": [
        {
          "name": "stdout",
          "output_type": "stream",
          "text": [
            "g181pid         10525\n",
            "turnover_ex         4\n",
            "turnover            2\n",
            "g181majorcat        7\n",
            "g181sex             2\n",
            "g181birthy         48\n",
            "g181age           333\n",
            "g181graduy          2\n",
            "g181a001           34\n",
            "g181a002           12\n",
            "g181a004_10        21\n",
            "g181a010           10\n",
            "g181a011           10\n",
            "g181a018            3\n",
            "g181a019           38\n",
            "g181a116           10\n",
            "g181a117           68\n",
            "g181a118           38\n",
            "g181a119           10\n",
            "g181a020            8\n",
            "g181a022            2\n",
            "g181a390            2\n",
            "g181a035            2\n",
            "g181a038            3\n",
            "g181a039            3\n",
            "g181a043            3\n",
            "g181a045            3\n",
            "g181a046            3\n",
            "g181a048            3\n",
            "g181a392            3\n",
            "g181a120            6\n",
            "g181a122          314\n",
            "g181a126            5\n",
            "g181a127            5\n",
            "g181a128            5\n",
            "g181a129            5\n",
            "g181a130            5\n",
            "g181a131            5\n",
            "g181a132            5\n",
            "g181a133            5\n",
            "g181a134            5\n",
            "g181a135            5\n",
            "g181a136            5\n",
            "g181a137            5\n",
            "g181a138            5\n",
            "g181a139            5\n",
            "g181a140            5\n",
            "g181a141            5\n",
            "g181a142            5\n",
            "g181a143            5\n",
            "g181a144            5\n",
            "g181a146            5\n",
            "g181a158            3\n",
            "g181a159            3\n",
            "g181a160            3\n",
            "g181a161            3\n",
            "g181a162            3\n",
            "g181a189           34\n",
            "g181a283            2\n",
            "g181a285            2\n",
            "g181a297            2\n",
            "g181g001            2\n",
            "g181l001            2\n",
            "g181q001            5\n",
            "g181q004            2\n",
            "g181q006            6\n",
            "g181q015            7\n",
            "g181q016            7\n",
            "g181q017            7\n",
            "g181q018            7\n",
            "g181q019            7\n",
            "g181q020            7\n",
            "g181q021            7\n",
            "g181q022            7\n",
            "g181q023            7\n",
            "g181p001            4\n",
            "g181p008            3\n",
            "g181p036            8\n",
            "g181p046            6\n",
            "g181p041            3\n",
            "dtype: int64\n"
          ]
        }
      ],
      "source": [
        "# 카디널리티 확인\n",
        "with pd.option_context('display.max_rows', None, 'display.max_columns', None):  # more options can be specified also\n",
        "    print(fin_df.nunique())"
      ]
    },
    {
      "cell_type": "markdown",
      "metadata": {
        "id": "sPlYREwWYR3o"
      },
      "source": [
        "### 분석에 사용할 변수만 선택"
      ]
    },
    {
      "cell_type": "markdown",
      "metadata": {
        "id": "MdpirgywFwde"
      },
      "source": [
        "\n",
        "- id\n",
        "- 대학원 졸 유무\n",
        "- 정규직 비정규직 유무\n",
        "- 첫 직장 유무\n",
        "- 성별\n",
        "- 나이\n",
        "- 근속연수\n",
        "- 부양가족 여부\n",
        "- 결혼 여부\n",
        "- 지원\n",
        "- 연봉\n",
        "- 학과\n"
      ]
    },
    {
      "cell_type": "code",
      "execution_count": null,
      "metadata": {
        "colab": {
          "base_uri": "https://localhost:8080/"
        },
        "id": "-ZFMPUscK-DY",
        "outputId": "1eee07bc-4701-4dfa-eedf-419b1e3512a3"
      },
      "outputs": [
        {
          "data": {
            "text/plain": [
              "80"
            ]
          },
          "execution_count": 318,
          "metadata": {
            "tags": []
          },
          "output_type": "execute_result"
        }
      ],
      "source": [
        "\n",
        "# 칼럼 rename용 dictionalry 만들기\n",
        "# numeric , cat , one hot , date  구분 매핑\n",
        "# \n",
        "\n",
        "col_dic =  {\n",
        "      'g181pid':'id', # id \n",
        "       'turnover_exp':'turnover_exp', # 이직경험 빈도\n",
        "       'worrk_exp':'work_exp', # 알바제외 근로경험\n",
        "       'g181majorcat':'majorcat_cat', # 전공계열\n",
        "       'g181sex':'sex_cat', # 성별   \n",
        "       'g181birthy':'birth_date', # 출생년\n",
        "       'g181age':'age_num', # 연령\n",
        "       'g181graduy':'graduy_date', #졸업년\n",
        "### 사업체 관련       \n",
        "        'g181a001':'year_start_date', # 현일자리 시작년\n",
        "        'g181a002':'month_start_date', # 현일자리 시작월\n",
        "        'g181a004_10':'ind_cat', # 일자리 산업 대분류\n",
        "        'g181a010':'corp_worker_num', # 기업체 종사자 수\n",
        "        'g181a011':'biz_worker_cat', # 사업체 종사자 수\n",
        "        'g181a018':'tw_hour', # 출근시간_시간\n",
        "        'g181a019':'tw_min', # 출근시간_분\n",
        "        'g181a116':'workday_num', # 주당 정규 근로일\n",
        "        'g181a117':'worktime_num', # 주당정규 근로시간\n",
        "        'g181a118':'worktime_ex_num', # 주당초과 근로시간\n",
        "        'g181a119': 'holy_work_num', # 월평균 휴일근로\n",
        "        'g181a020': 'biztype_cat', # 사업체형태\n",
        "       'g181a022':'regular_cat',     # 정규직 비정규직 여부\n",
        "### 혜택관련\n",
        "        'g181a390':'voluntary_cat',     # 일자리 형태 자발, 비자발 여부\n",
        "        'g181a035':'shift_cat' ,    # 교대제 여부\n",
        "        'g181a038':'pension_cat',     # 퇴직금 제공 여부\n",
        "        'g181a039':'payed_vc_cat',     # 제공여부 2- 유급휴가\n",
        "        'g181a043':'maternitylv_cat',     #  6- 육아휴직\n",
        "        'g181a045':'overtime_pay_cat',     # 8- 시간 외 수당\n",
        "        'g181a046':'bonus_cat',     # 9- 상여금\n",
        "        'g181a048':'weely_hl_cat',     # 11- 유급주휴\n",
        "        'g181a392':'baby_vc_cat',     # 12- 산전후휴가\n",
        "        'g181a120':'wage_type_cat',     # 급여 형태 구분\n",
        "        'g181a122':'month_wage_num',     # 월 평균 근로소득\n",
        "        'g181a126':'sat_wage_num',     # 만족도-임금\n",
        "        'g181a127':'sat_stable_num',     # 만족도-고용안정성\n",
        "        'g181a128':'sat_work_num',     # 만족도-직무내용\n",
        "        'g181a129':'sat_envi_num',     # 만족도-근무환경\n",
        "        'g181a130':'sat_wt_num',     # 만족도-노동시간\n",
        "        'g181a131':'sat_potential_num',     # 만족도-발전가능성\n",
        "        'g181a132':'sat_relation_num',     # 만족도-인간관계\n",
        "        'g181a133':'sat_welfare_num',     # 만족도-복리후생\n",
        "        'g181a134':'sat_hr_num',     # 만족도-인사체계\n",
        "        'g181a135':'sat_rep1_num',     # 만족도-사회적평판-일\n",
        "        'g181a136':'sat_auto_num',     # 만족도-자율성 및 권한\n",
        "        'g181a137':'sat_rep2_num',     # 만족도-일자리-사회적 평판\n",
        "        'g181a138':'sat_fit_num',     # 만족도-적성흥미일치도\n",
        "        'g181a139':'sat_edu_num',     # 만족도-직무관련 교육\n",
        "        'g181a140':'sat_general_num',     # 만족도-일자리_전반적만족도\n",
        "        'g181a141':'sat_work-general_num',     # 만족도-업무_전반적만족도\n",
        "        'g181a142':'edu-fit_num',     # 교육수준-일수준일치정도\n",
        "        'g181a143':'skill-fit_num',     # 일기술수준-본인기술수준일치정도\n",
        "        'g181a144':'major-fit_num',     # 주전공일치정도\n",
        "        'g181a146':'major_help_num',     # 전공지식업무도움정도\n",
        "        'g181a158':'ins_1_num',     # 보험-국민연금\n",
        "        'g181a159':'ins_2_num',     # 보험-특수직역연금\n",
        "        'g181a160':'ins_3_num',     # 보험-건강보험\n",
        "        'g181a161':'ins_4_num',     # 보험-고용보험\n",
        "        'g181a162':'ins_5_num',     # 보험-산재보험\n",
        "        'g181a189':'seeking_time_num',     # 구직활동경험기간-개월\n",
        "        'g181a283':'adjust_difficulty_cat',     # 다른일자리제의여부\n",
        "        'g181a285':'job_offer_cat',     # 적응시어려움여부\n",
        "        'g181a297':'turnover_intention',     # 이직준비 여부: target\n",
        "        'g181g001':'graduate_cat',     # 대학원 경험유무\n",
        "        'g181l001':'train_cat',     # 취업훈련경험유무\n",
        "        'g181q001':'health_num',     # 현재 견강상태\n",
        "        'g181q004':'smoke_cat',     # 흡연여부\n",
        "        'g181q006':'drink_num,',     # 음주빈도\n",
        "        'g181q015':'lifesat_personal',     # 삶의만족도-개인적 측면\n",
        "        'g181q016':'lifesat_relational',     # 삶의만족도-관계적 측면\n",
        "        'g181q017':'lifesat_group',     # 삶의만족도-소속집단\n",
        "        'g181q018':'emg_joy_num',     # 감정빈도-즐거운\n",
        "        'g181q019':'emg_happy_num',     # 감정빈도-행복한\n",
        "        'g181q020':'emg_comfort_num',     # 감정빈도-편안한\n",
        "        'g181q021':'emb_irr_num',     # 감정빈도-짜증나는\n",
        "        'g181q022':'emb_negative_num',     # 감정빈도-부정적인\n",
        "        'g181q023':'emb_spiritless',     # 감정빈도-무기력한\n",
        "        'g181p001':'marriage_cat',     # 혼인여부\n",
        "        'g181p008':'child_cat',     # 부양자녀 유무\n",
        "        'g181p036':'parent_asset_cat',     # 부모님 자산규모\n",
        "        'g181p046':'livetype_cat',     # 거주형태\n",
        "        'g181p041':'support_cat'      # 경제적 지원여부\n",
        "}\n",
        "\n",
        "\n",
        "len(col_dic)"
      ]
    },
    {
      "cell_type": "code",
      "execution_count": null,
      "metadata": {
        "id": "asyGJqgnUkqY"
      },
      "outputs": [],
      "source": [
        "fin_df.columns = fin_df.columns.map(col_dic)"
      ]
    },
    {
      "cell_type": "code",
      "execution_count": null,
      "metadata": {
        "colab": {
          "base_uri": "https://localhost:8080/"
        },
        "id": "mryQ8i1RWX3U",
        "outputId": "da97aa0a-e9d2-4227-ffc8-2f0bd9373766"
      },
      "outputs": [
        {
          "data": {
            "text/plain": [
              " 9.0    2736\n",
              " 3.0    1422\n",
              "-1.0    1409\n",
              " 6.0    1161\n",
              " 5.0     926\n",
              " 2.0     725\n",
              " 4.0     623\n",
              " 8.0     566\n",
              " 7.0     511\n",
              " 1.0     446\n",
              "Name: corp_worker_num, dtype: int64"
            ]
          },
          "execution_count": 320,
          "metadata": {
            "tags": []
          },
          "output_type": "execute_result"
        }
      ],
      "source": [
        "fin_df.corp_worker_num.value_counts()"
      ]
    },
    {
      "cell_type": "code",
      "execution_count": null,
      "metadata": {
        "colab": {
          "base_uri": "https://localhost:8080/"
        },
        "id": "U7whtuSpXF7p",
        "outputId": "4d94adc8-50f0-4576-9e6f-6a954fed3d66"
      },
      "outputs": [
        {
          "data": {
            "text/plain": [
              "0.0    8339\n",
              "1.0    2091\n",
              "2.0      95\n",
              "Name: tw_hour, dtype: int64"
            ]
          },
          "execution_count": 321,
          "metadata": {
            "tags": []
          },
          "output_type": "execute_result"
        }
      ],
      "source": [
        "fin_df.tw_hour.value_counts()"
      ]
    },
    {
      "cell_type": "code",
      "execution_count": null,
      "metadata": {
        "id": "gwwolQLKXc4y"
      },
      "outputs": [],
      "source": [
        "# 모름 응답이 있는 컬럼 탐색\n",
        "deal_col=fin_df.columns[fin_df.isin([-1]).any()].tolist()  # df.isin([response])"
      ]
    },
    {
      "cell_type": "code",
      "execution_count": null,
      "metadata": {
        "colab": {
          "base_uri": "https://localhost:8080/"
        },
        "id": "t24piX1lYr70",
        "outputId": "7f23860a-bdfc-4167-f14e-b24d3fb311fe"
      },
      "outputs": [
        {
          "data": {
            "text/plain": [
              "['ind_cat',\n",
              " 'corp_worker_num',\n",
              " 'biz_worker_cat',\n",
              " 'wage_type_cat',\n",
              " 'month_wage_num',\n",
              " 'child_cat',\n",
              " 'parent_asset_cat',\n",
              " 'support_cat']"
            ]
          },
          "execution_count": 323,
          "metadata": {
            "tags": []
          },
          "output_type": "execute_result"
        }
      ],
      "source": [
        "deal_col"
      ]
    },
    {
      "cell_type": "code",
      "execution_count": null,
      "metadata": {
        "colab": {
          "base_uri": "https://localhost:8080/"
        },
        "id": "mS_S6EixX8tn",
        "outputId": "e9ca7fca-6081-47e2-c7bf-f082cdc59ebc"
      },
      "outputs": [
        {
          "name": "stdout",
          "output_type": "stream",
          "text": [
            " 3.0     2092\n",
            " 16.0    1351\n",
            " 13.0    1194\n",
            " 17.0    1030\n",
            " 10.0     945\n",
            " 7.0      775\n",
            " 15.0     721\n",
            " 11.0     435\n",
            " 6.0      397\n",
            " 14.0     321\n",
            " 8.0      309\n",
            " 9.0      280\n",
            " 19.0     218\n",
            " 18.0     167\n",
            " 4.0      118\n",
            " 12.0      79\n",
            " 5.0       54\n",
            " 1.0       27\n",
            "-1.0        8\n",
            " 21.0       3\n",
            " 2.0        1\n",
            "Name: ind_cat, dtype: int64\n",
            " 9.0    2736\n",
            " 3.0    1422\n",
            "-1.0    1409\n",
            " 6.0    1161\n",
            " 5.0     926\n",
            " 2.0     725\n",
            " 4.0     623\n",
            " 8.0     566\n",
            " 7.0     511\n",
            " 1.0     446\n",
            "Name: corp_worker_num, dtype: int64\n",
            " 3.0    2086\n",
            " 6.0    1509\n",
            " 9.0    1308\n",
            " 5.0    1257\n",
            " 2.0    1024\n",
            " 4.0     891\n",
            "-1.0     641\n",
            " 7.0     637\n",
            " 1.0     615\n",
            " 8.0     557\n",
            "Name: biz_worker_cat, dtype: int64\n",
            " 2.0    6613\n",
            " 1.0    3828\n",
            " 5.0      63\n",
            " 4.0       9\n",
            "-1.0       7\n",
            " 3.0       5\n",
            "Name: wage_type_cat, dtype: int64\n",
            "200.0    1217\n",
            "250.0     879\n",
            "300.0     663\n",
            "230.0     556\n",
            "180.0     497\n",
            "         ... \n",
            "415.0       1\n",
            "27.0        1\n",
            "303.0       1\n",
            "311.0       1\n",
            "112.0       1\n",
            "Name: month_wage_num, Length: 314, dtype: int64\n",
            " 2    10260\n",
            " 1      260\n",
            "-1        5\n",
            "Name: child_cat, dtype: int64\n",
            " 3    2666\n",
            " 4    2360\n",
            " 2    1768\n",
            " 5    1421\n",
            " 1    1284\n",
            " 6     765\n",
            "-1     201\n",
            " 7      60\n",
            "Name: parent_asset_cat, dtype: int64\n",
            " 2    9778\n",
            " 1     531\n",
            "-1     216\n",
            "Name: support_cat, dtype: int64\n"
          ]
        }
      ],
      "source": [
        "for col in deal_col:\n",
        "    print(fin_df[col].value_counts())"
      ]
    },
    {
      "cell_type": "code",
      "execution_count": null,
      "metadata": {
        "id": "pPNjSqL0aIpK"
      },
      "outputs": [],
      "source": [
        "# parent asset , biz_worker_num  catecorical ordinal 처리 "
      ]
    },
    {
      "cell_type": "code",
      "execution_count": null,
      "metadata": {
        "id": "cDfGt7k-bgsf"
      },
      "outputs": [],
      "source": [
        "# 제거\n",
        "fin_df.drop(columns='corp_worker_num',axis=1,inplace=True)"
      ]
    },
    {
      "cell_type": "code",
      "execution_count": null,
      "metadata": {
        "id": "C_wTHENDZKe6"
      },
      "outputs": [],
      "source": [
        "# 월급 모르는 애들 제거\n",
        "#fin_df[fin_df.month_wage_num==-1]\n",
        "\n",
        "fin_df = fin_df.drop(fin_df[fin_df.month_wage_num==-1].index)"
      ]
    },
    {
      "cell_type": "code",
      "execution_count": null,
      "metadata": {
        "colab": {
          "base_uri": "https://localhost:8080/"
        },
        "id": "h5tmzJQ6YxKf",
        "outputId": "520165cc-e1f2-4bc4-b201-0d7fb1dac90d"
      },
      "outputs": [
        {
          "data": {
            "text/plain": [
              "(10518, 79)"
            ]
          },
          "execution_count": 327,
          "metadata": {
            "tags": []
          },
          "output_type": "execute_result"
        }
      ],
      "source": [
        "# 샘플 수\n",
        "fin_df.shape"
      ]
    },
    {
      "cell_type": "markdown",
      "metadata": {
        "id": "mHaxN3tvLhJn"
      },
      "source": [
        "### 파생변수 생성\n",
        "\n",
        "- ~근무기간~ \n",
        "- ~변수 네이밍 필요~ \n",
        "- ~혜택제공여부~\n",
        "- ~만족도~\n",
        "- ~보험~\n",
        "- ~삶의 만족도~\n",
        "- ~출근시간~\n",
        "- ~부정적 감정~\n",
        "- ~긍정적 감정~"
      ]
    },
    {
      "cell_type": "code",
      "execution_count": null,
      "metadata": {
        "colab": {
          "base_uri": "https://localhost:8080/"
        },
        "id": "owmr477Zgqtk",
        "outputId": "8a217a5a-3168-4f93-fcf0-872abf609ea1"
      },
      "outputs": [
        {
          "data": {
            "text/plain": [
              "3     1.0\n",
              "4     1.0\n",
              "5     1.0\n",
              "6     1.0\n",
              "7     1.0\n",
              "9     1.0\n",
              "10    2.0\n",
              "11    1.0\n",
              "12    1.0\n",
              "14    0.0\n",
              "Name: work_year, dtype: float64"
            ]
          },
          "execution_count": 328,
          "metadata": {
            "tags": []
          },
          "output_type": "execute_result"
        }
      ],
      "source": [
        "# 근무기간(년) 변수 생성\n",
        "fin_df['work_year'] = 2019-fin_df['year_start_date']\n",
        "fin_df['work_year'][:10]"
      ]
    },
    {
      "cell_type": "code",
      "execution_count": null,
      "metadata": {
        "colab": {
          "base_uri": "https://localhost:8080/"
        },
        "id": "UlBJSISYoNbX",
        "outputId": "e9d7e6f5-f3c0-4851-aba1-d0e1aac29550"
      },
      "outputs": [
        {
          "data": {
            "text/plain": [
              "3     60.0\n",
              "4     20.0\n",
              "5     90.0\n",
              "6     90.0\n",
              "7     15.0\n",
              "9     40.0\n",
              "10    10.0\n",
              "11    40.0\n",
              "12    40.0\n",
              "14    30.0\n",
              "Name: work_time_num, dtype: float64"
            ]
          },
          "execution_count": 329,
          "metadata": {
            "tags": []
          },
          "output_type": "execute_result"
        }
      ],
      "source": [
        "# 출근시간 분단위 변수 생성\n",
        "fin_df['work_time_num'] = fin_df['tw_min'] + 60 * fin_df['tw_hour']\n",
        "fin_df['work_time_num'][:10]"
      ]
    },
    {
      "cell_type": "code",
      "execution_count": null,
      "metadata": {
        "colab": {
          "base_uri": "https://localhost:8080/"
        },
        "id": "KIirRALToRON",
        "outputId": "bd7a62e8-662f-4e2d-9393-1e4d7569722f"
      },
      "outputs": [
        {
          "name": "stdout",
          "output_type": "stream",
          "text": [
            "[4 0 3 2 1]\n"
          ]
        }
      ],
      "source": [
        "# 보험 수 sum\n",
        "insurances_col = [col for col in fin_df if col.startswith('ins') ] \n",
        "fin_df['insurances_num'] = 0\n",
        "\n",
        "for cols in insurances_col:\n",
        "    fin_df['temp'] = np.where(fin_df[cols]==1, 1, 0)\n",
        "    fin_df['insurances_num'] += fin_df['temp']\n",
        "\n",
        "print(fin_df['insurances_num'].unique())"
      ]
    },
    {
      "cell_type": "code",
      "execution_count": null,
      "metadata": {
        "id": "0JMULX_eoXSS"
      },
      "outputs": [],
      "source": [
        "# 회사 전반적만족도\n",
        "biz_sat_col = [col for col in fin_df if col.startswith('sat') ] \n",
        "fin_df['biz_sat'] = fin_df[biz_sat_col].sum(axis=1)"
      ]
    },
    {
      "cell_type": "code",
      "execution_count": null,
      "metadata": {
        "id": "70t6SrEBooJn"
      },
      "outputs": [],
      "source": [
        "# 긍정적 감정\n",
        "pos_col = [col for col in fin_df if col.startswith('emg') ] \n",
        "fin_df['pos'] = fin_df[pos_col].sum(axis=1)\n"
      ]
    },
    {
      "cell_type": "code",
      "execution_count": null,
      "metadata": {
        "id": "ylgvsKCioqG8"
      },
      "outputs": [],
      "source": [
        "# 부정적 감정\n",
        "neg_col = [col for col in fin_df if col.startswith('emb') ] \n",
        "fin_df['neg'] = fin_df[neg_col].sum(axis=1)"
      ]
    },
    {
      "cell_type": "code",
      "execution_count": null,
      "metadata": {
        "id": "inL_XNKkoeUm"
      },
      "outputs": [],
      "source": [
        "# 삶의 만족도 sum\n",
        "life_sat_col = [col for col in fin_df if col.startswith('lifesat') ] \n",
        "fin_df['life_sat'] = fin_df[life_sat_col].sum(axis=1)"
      ]
    },
    {
      "cell_type": "code",
      "execution_count": null,
      "metadata": {
        "id": "bLRlbtt5z2Xl"
      },
      "outputs": [],
      "source": [
        "# 혜택제공 변수 num\n",
        "benefit_col  =['pension_cat',     # 퇴직금 제공 여부\n",
        "        'payed_vc_cat',     # 제공여부 2- 유급휴가\n",
        "        'maternitylv_cat',     #  6- 육아휴직\n",
        "        'overtime_pay_cat',     # 8- 시간 외 수당\n",
        "        'bonus_cat',     # 9- 상여금\n",
        "        'weely_hl_cat',     # 11- 유급주휴\n",
        "        'baby_vc_cat'] # 출산휴가\n",
        "\n",
        "fin_df['benefit_num'] = 0\n",
        "\n",
        "for cols in benefit_col:\n",
        "    fin_df['temp'] = np.where(fin_df[cols]==1, 1, 0)\n",
        "    fin_df['benefit_num'] += fin_df['temp']"
      ]
    },
    {
      "cell_type": "code",
      "execution_count": null,
      "metadata": {
        "colab": {
          "base_uri": "https://localhost:8080/"
        },
        "id": "g-aXwh4w4IaI",
        "outputId": "951c098f-b0ff-4553-e287-a85d518009f1"
      },
      "outputs": [
        {
          "data": {
            "text/plain": [
              "array([7, 5, 0, 4, 6, 2, 3, 1])"
            ]
          },
          "execution_count": 336,
          "metadata": {
            "tags": []
          },
          "output_type": "execute_result"
        }
      ],
      "source": [
        "fin_df['benefit_num'].unique()"
      ]
    },
    {
      "cell_type": "markdown",
      "metadata": {
        "id": "cERJBGBbHnQA"
      },
      "source": [
        "## Data Visualization"
      ]
    },
    {
      "cell_type": "markdown",
      "metadata": {
        "id": "mexMj_u1s6Af"
      },
      "source": [
        "이직의도 비율"
      ]
    },
    {
      "cell_type": "code",
      "execution_count": null,
      "metadata": {
        "colab": {
          "base_uri": "https://localhost:8080/"
        },
        "id": "Txm2b8eI95pN",
        "outputId": "b5778dac-b00f-4860-c5c8-8faf9db055f7"
      },
      "outputs": [
        {
          "data": {
            "text/plain": [
              "0    0.784845\n",
              "1    0.215155\n",
              "Name: turnover_intention, dtype: float64"
            ]
          },
          "execution_count": 338,
          "metadata": {
            "tags": []
          },
          "output_type": "execute_result"
        }
      ],
      "source": [
        "fin_df['turnover_intention'] = np.where(fin_df['turnover_intention']==1,1,0)\n",
        "target = 'turnover_intention'\n",
        "fin_df[target].value_counts(normalize = True)"
      ]
    },
    {
      "cell_type": "code",
      "execution_count": null,
      "metadata": {
        "id": "C4oQLutpKSmp"
      },
      "outputs": [],
      "source": [
        "draw_df = fin_df"
      ]
    },
    {
      "cell_type": "code",
      "execution_count": null,
      "metadata": {
        "id": "5D6nmBfsKw2c"
      },
      "outputs": [],
      "source": [
        "gender_code = {1:'male', 2:'female'}\n",
        "major_code = {1:'Human', 2:'Social', 3:'Edu', 4:'Engineer', 5:'Science',6:'Medinal',7:'Art'}\n",
        "regular_code = {1:'비정규', 2:'정규'}\n",
        "bizsize_code = {1:'1~4명', 2:'5~9명',3:'10~29명',\n",
        "                4:'30~49명',5:'50~99명',6:'100~299명',\n",
        "                7:'300~499명',8:'500~999명',9:'1000명이상',-1:'모름'}\n",
        "\n",
        "draw_df = draw_df.replace({'sex_cat' : gender_code, 'majorcat_cat': major_code,'regular_cat':regular_code ,'biz_worker_cat':bizsize_code})"
      ]
    },
    {
      "cell_type": "code",
      "execution_count": null,
      "metadata": {
        "id": "xxnMnbloImRQ"
      },
      "outputs": [],
      "source": [
        "fin_df['turnover_intention'] = fin_df['turnover_intention'].astype('category')"
      ]
    },
    {
      "cell_type": "markdown",
      "metadata": {
        "id": "oY-W8JO6tHXQ"
      },
      "source": [
        "#### 전공계열에 따른 이직의도 차이"
      ]
    },
    {
      "cell_type": "markdown",
      "metadata": {
        "id": "kszFqMXJtB69"
      },
      "source": []
    },
    {
      "cell_type": "code",
      "execution_count": null,
      "metadata": {
        "colab": {
          "base_uri": "https://localhost:8080/",
          "height": 298
        },
        "id": "OJZaeG4iH95u",
        "outputId": "9e78fb7a-e66f-4570-aa1c-51b681111641"
      },
      "outputs": [
        {
          "data": {
            "text/plain": [
              "<matplotlib.axes._subplots.AxesSubplot at 0x7f48c8fac450>"
            ]
          },
          "execution_count": 372,
          "metadata": {
            "tags": []
          },
          "output_type": "execute_result"
        },
        {
          "data": {
            "image/png": "[encoded data removed]",
            "text/plain": [
              "<Figure size 432x288 with 1 Axes>"
            ]
          },
          "metadata": {
            "needs_background": "light",
            "tags": []
          },
          "output_type": "display_data"
        }
      ],
      "source": [
        "\n",
        "sns.countplot(x='majorcat_cat', hue='turnover_intention',edgecolor=\"black\", alpha=0.7, data=draw_df)"
      ]
    },
    {
      "cell_type": "code",
      "execution_count": null,
      "metadata": {
        "colab": {
          "base_uri": "https://localhost:8080/",
          "height": 519
        },
        "id": "Rt1pGL94Q139",
        "outputId": "1c72a653-6d9f-4bfd-aa64-26ab6fbedd52"
      },
      "outputs": [
        {
          "data": {
            "text/html": [
              "<div>\n",
              "<style scoped>\n",
              "    .dataframe tbody tr th:only-of-type {\n",
              "        vertical-align: middle;\n",
              "    }\n",
              "\n",
              "    .dataframe tbody tr th {\n",
              "        vertical-align: top;\n",
              "    }\n",
              "\n",
              "    .dataframe thead th {\n",
              "        text-align: right;\n",
              "    }\n",
              "</style>\n",
              "<table border=\"1\" class=\"dataframe\">\n",
              "  <thead>\n",
              "    <tr style=\"text-align: right;\">\n",
              "      <th></th>\n",
              "      <th></th>\n",
              "      <th>turnover_intention</th>\n",
              "    </tr>\n",
              "    <tr>\n",
              "      <th>majorcat_cat</th>\n",
              "      <th>turnover_intention</th>\n",
              "      <th></th>\n",
              "    </tr>\n",
              "  </thead>\n",
              "  <tbody>\n",
              "    <tr>\n",
              "      <th rowspan=\"2\" valign=\"top\">공학</th>\n",
              "      <th>0</th>\n",
              "      <td>0.794954</td>\n",
              "    </tr>\n",
              "    <tr>\n",
              "      <th>1</th>\n",
              "      <td>0.205046</td>\n",
              "    </tr>\n",
              "    <tr>\n",
              "      <th rowspan=\"2\" valign=\"top\">교육</th>\n",
              "      <th>0</th>\n",
              "      <td>0.867733</td>\n",
              "    </tr>\n",
              "    <tr>\n",
              "      <th>1</th>\n",
              "      <td>0.132267</td>\n",
              "    </tr>\n",
              "    <tr>\n",
              "      <th rowspan=\"2\" valign=\"top\">사회</th>\n",
              "      <th>0</th>\n",
              "      <td>0.762353</td>\n",
              "    </tr>\n",
              "    <tr>\n",
              "      <th>1</th>\n",
              "      <td>0.237647</td>\n",
              "    </tr>\n",
              "    <tr>\n",
              "      <th rowspan=\"2\" valign=\"top\">예체능</th>\n",
              "      <th>0</th>\n",
              "      <td>0.757250</td>\n",
              "    </tr>\n",
              "    <tr>\n",
              "      <th>1</th>\n",
              "      <td>0.242750</td>\n",
              "    </tr>\n",
              "    <tr>\n",
              "      <th rowspan=\"2\" valign=\"top\">의약</th>\n",
              "      <th>0</th>\n",
              "      <td>0.809917</td>\n",
              "    </tr>\n",
              "    <tr>\n",
              "      <th>1</th>\n",
              "      <td>0.190083</td>\n",
              "    </tr>\n",
              "    <tr>\n",
              "      <th rowspan=\"2\" valign=\"top\">인문</th>\n",
              "      <th>0</th>\n",
              "      <td>0.746946</td>\n",
              "    </tr>\n",
              "    <tr>\n",
              "      <th>1</th>\n",
              "      <td>0.253054</td>\n",
              "    </tr>\n",
              "    <tr>\n",
              "      <th rowspan=\"2\" valign=\"top\">자연</th>\n",
              "      <th>0</th>\n",
              "      <td>0.787697</td>\n",
              "    </tr>\n",
              "    <tr>\n",
              "      <th>1</th>\n",
              "      <td>0.212303</td>\n",
              "    </tr>\n",
              "  </tbody>\n",
              "</table>\n",
              "</div>"
            ],
            "text/plain": [
              "                                 turnover_intention\n",
              "majorcat_cat turnover_intention                    \n",
              "공학           0                             0.794954\n",
              "             1                             0.205046\n",
              "교육           0                             0.867733\n",
              "             1                             0.132267\n",
              "사회           0                             0.762353\n",
              "             1                             0.237647\n",
              "예체능          0                             0.757250\n",
              "             1                             0.242750\n",
              "의약           0                             0.809917\n",
              "             1                             0.190083\n",
              "인문           0                             0.746946\n",
              "             1                             0.253054\n",
              "자연           0                             0.787697\n",
              "             1                             0.212303"
            ]
          },
          "execution_count": 371,
          "metadata": {
            "tags": []
          },
          "output_type": "execute_result"
        }
      ],
      "source": [
        "pd.DataFrame(r)"
      ]
    },
    {
      "cell_type": "markdown",
      "metadata": {
        "id": "zaltMyI-tP3N"
      },
      "source": [
        "#### 성별에 따른 이직의도 차이"
      ]
    },
    {
      "cell_type": "code",
      "execution_count": null,
      "metadata": {
        "colab": {
          "base_uri": "https://localhost:8080/",
          "height": 298
        },
        "id": "hXHb6_mZPJbW",
        "outputId": "8518148b-bc94-46f5-b7d8-396b27b63796"
      },
      "outputs": [
        {
          "data": {
            "text/plain": [
              "<matplotlib.axes._subplots.AxesSubplot at 0x7f48c76f88d0>"
            ]
          },
          "execution_count": 361,
          "metadata": {
            "tags": []
          },
          "output_type": "execute_result"
        },
        {
          "data": {
            "image/png": "[encoded data removed]",
            "text/plain": [
              "<Figure size 432x288 with 1 Axes>"
            ]
          },
          "metadata": {
            "needs_background": "light",
            "tags": []
          },
          "output_type": "display_data"
        }
      ],
      "source": [
        "sns.countplot(x='sex_cat', hue='turnover_intention',edgecolor=\"black\", alpha=0.7, data=draw_df)"
      ]
    },
    {
      "cell_type": "code",
      "execution_count": null,
      "metadata": {
        "id": "UO1e2GG4JdK0"
      },
      "outputs": [],
      "source": [
        "sns.countplot(x='sex_cat', hue='turnover_intention',edgecolor=\"black\", alpha=0.7, data=fin_df)"
      ]
    },
    {
      "cell_type": "code",
      "execution_count": null,
      "metadata": {
        "id": "Iqy9B9kqHqe7"
      },
      "outputs": [],
      "source": [
        "r=draw_df.groupby(['majorcat_cat'])['turnover_intention'].value_counts(normalize=True)"
      ]
    },
    {
      "cell_type": "markdown",
      "metadata": {
        "id": "G2hG2YM_rpoP"
      },
      "source": [
        "## Modeling"
      ]
    },
    {
      "cell_type": "code",
      "execution_count": null,
      "metadata": {
        "colab": {
          "base_uri": "https://localhost:8080/"
        },
        "id": "IGY9N_ad9smg",
        "outputId": "be4ab8d7-87d7-46f6-8251-1bbfbbab4b20"
      },
      "outputs": [
        {
          "data": {
            "text/plain": [
              "(10518, 87)"
            ]
          },
          "execution_count": 337,
          "metadata": {
            "tags": []
          },
          "output_type": "execute_result"
        }
      ],
      "source": [
        "# 임시변수 삭제\n",
        "fin_df.drop(columns='temp',axis=1,inplace=True)\n",
        "fin_df.shape"
      ]
    },
    {
      "cell_type": "code",
      "execution_count": null,
      "metadata": {
        "colab": {
          "base_uri": "https://localhost:8080/",
          "height": 353
        },
        "id": "XAnd1m3y_HrY",
        "outputId": "86dc180e-a065-431f-ccb4-12d2300ebbd7"
      },
      "outputs": [
        {
          "name": "stderr",
          "output_type": "stream",
          "text": [
            "/usr/local/lib/python3.7/dist-packages/seaborn/_decorators.py:43: FutureWarning: Pass the following variable as a keyword arg: x. From version 0.12, the only valid positional argument will be `data`, and passing other arguments without an explicit keyword will result in an error or misinterpretation.\n",
            "  FutureWarning\n"
          ]
        },
        {
          "data": {
            "text/plain": [
              "<matplotlib.axes._subplots.AxesSubplot at 0x7f4904af51d0>"
            ]
          },
          "execution_count": 128,
          "metadata": {
            "tags": []
          },
          "output_type": "execute_result"
        },
        {
          "data": {
            "image/png": "[encoded data removed]",
            "text/plain": [
              "<Figure size 432x288 with 1 Axes>"
            ]
          },
          "metadata": {
            "tags": []
          },
          "output_type": "display_data"
        }
      ],
      "source": [
        "# 클래스 불균형\n",
        "%matplotlib inline\n",
        "sns.countplot(fin_df[target])"
      ]
    },
    {
      "cell_type": "markdown",
      "metadata": {
        "id": "OFlIjMB0B4y8"
      },
      "source": [
        "### 데이터 분할"
      ]
    },
    {
      "cell_type": "code",
      "execution_count": null,
      "metadata": {
        "id": "x7wGzeZ3C7la"
      },
      "outputs": [],
      "source": [
        "train, test = train_test_split(fin_df,test_size=0.2,random_state=2)"
      ]
    },
    {
      "cell_type": "code",
      "execution_count": null,
      "metadata": {
        "id": "bGYS3Z_o4ahT"
      },
      "outputs": [],
      "source": [
        "train, val = train_test_split(train,test_size=0.2,random_state=2)"
      ]
    },
    {
      "cell_type": "code",
      "execution_count": null,
      "metadata": {
        "colab": {
          "base_uri": "https://localhost:8080/"
        },
        "id": "JXLzYDhmDqxc",
        "outputId": "83864ee1-167d-48b7-c7b5-91f60f682201"
      },
      "outputs": [
        {
          "name": "stdout",
          "output_type": "stream",
          "text": [
            "(6731, 87)\n",
            "(1683, 87)\n",
            "(2104, 86)\n"
          ]
        },
        {
          "name": "stderr",
          "output_type": "stream",
          "text": [
            "/usr/local/lib/python3.7/dist-packages/pandas/core/frame.py:4174: SettingWithCopyWarning: \n",
            "A value is trying to be set on a copy of a slice from a DataFrame\n",
            "\n",
            "See the caveats in the documentation: https://pandas.pydata.org/pandas-docs/stable/user_guide/indexing.html#returning-a-view-versus-a-copy\n",
            "  errors=errors,\n"
          ]
        }
      ],
      "source": [
        "taget = 'turnover_intention'\n",
        "features = train.drop(columns=[target]).columns\n",
        "\n",
        "test_t = test[target]\n",
        "test.drop(columns=target,axis=1,inplace=True)\n",
        "\n",
        "print(train.shape)\n",
        "print(val.shape)\n",
        "print(test.shape)"
      ]
    },
    {
      "cell_type": "code",
      "execution_count": null,
      "metadata": {
        "id": "4Wl2FwLn5xsO"
      },
      "outputs": [],
      "source": [
        "X_train = train[features] \n",
        "y_train = train[target]\n",
        "X_val = val[features]\n",
        "y_val = val[target]"
      ]
    },
    {
      "cell_type": "markdown",
      "metadata": {
        "id": "qn1hIVDU8PNJ"
      },
      "source": [
        "### Baseline\n",
        "\n",
        "\n"
      ]
    },
    {
      "cell_type": "code",
      "execution_count": null,
      "metadata": {
        "id": "x_hcZfNp-ELo"
      },
      "outputs": [],
      "source": [
        "from sklearn.metrics import accuracy_score\n",
        "#Mode\n",
        "baseline =  y_train.mode()[0]\n",
        "\n",
        "y_pred_baseline = [baseline] * len(train[target]) #\n",
        "\n",
        "print('Baseline model 정확도(Accuracy) :', int(accuracy_score(train[target], y_pred).round(2) * 100),'%')"
      ]
    },
    {
      "cell_type": "code",
      "execution_count": null,
      "metadata": {
        "id": "hCjvAZOs-UOv"
      },
      "outputs": [],
      "source": [
        "y_pred_bs = [0] * len(X_val)"
      ]
    },
    {
      "cell_type": "code",
      "execution_count": null,
      "metadata": {
        "colab": {
          "base_uri": "https://localhost:8080/",
          "height": 652
        },
        "id": "x8PmyktX-ia5",
        "outputId": "c2c48747-08d1-4f36-f17a-39c646955215"
      },
      "outputs": [
        {
          "name": "stderr",
          "output_type": "stream",
          "text": [
            "/usr/local/lib/python3.7/dist-packages/sklearn/metrics/_classification.py:1272: UndefinedMetricWarning: Precision and F-score are ill-defined and being set to 0.0 in labels with no predicted samples. Use `zero_division` parameter to control this behavior.\n",
            "  _warn_prf(average, modifier, msg_start, len(result))\n"
          ]
        },
        {
          "name": "stdout",
          "output_type": "stream",
          "text": [
            "--------------------------------------------------\n",
            "Classification Report: Baseline Model Report\n",
            "--------------------------------------------------\n",
            "\n",
            "\n",
            "              precision    recall  f1-score   support\n",
            "\n",
            "           0       0.78      1.00      0.88      1318\n",
            "           1       0.00      0.00      0.00       365\n",
            "\n",
            "    accuracy                           0.78      1683\n",
            "   macro avg       0.39      0.50      0.44      1683\n",
            "weighted avg       0.61      0.78      0.69      1683\n",
            "\n",
            "--------------------------------------------------\n",
            "--------------------------------------------------\n",
            "Confusion Matrix & Roc Curve\n",
            "--------------------------------------------------\n"
          ]
        },
        {
          "data": {
            "image/png": "[encoded data removed]",
            "text/plain": [
              "<Figure size 432x288 with 2 Axes>"
            ]
          },
          "metadata": {
            "tags": []
          },
          "output_type": "display_data"
        }
      ],
      "source": [
        "# 기준모델\n",
        "baseline_report(X_val,y_val,\"Baseline Model Report\")"
      ]
    },
    {
      "cell_type": "code",
      "execution_count": null,
      "metadata": {
        "id": "Pi511b7_ACpE"
      },
      "outputs": [],
      "source": [
        "# confustion matrix plot function \n",
        "def plot_confusion_matrix(y_real, y_pred):\n",
        "    cm = confusion_matrix(y_real, y_pred)\n",
        "\n",
        "    ax= plt.subplot()\n",
        "    sns.heatmap(cm, annot=True, ax = ax, fmt='g')\n",
        "\n",
        "    ax.set_xlabel('Predicted labels')\n",
        "    ax.set_ylabel('True labels')"
      ]
    },
    {
      "cell_type": "code",
      "execution_count": null,
      "metadata": {
        "id": "FlwQpuh5_bhe"
      },
      "outputs": [],
      "source": [
        "def baseline_report(X,y,title):\n",
        "    y_pred = [0] * len(X)\n",
        "    inb = classification_report(y,y_pred)\n",
        "    repeat = \"-\" *50\n",
        "    print(repeat)      \n",
        "    print(f\"Classification Report: {title}\")\n",
        "    print(repeat)      \n",
        "    print(\"\\n\")\n",
        "    print(f\"{inb}\")\n",
        "    print(repeat)\n",
        "    print(repeat)      \n",
        "    print(f\"Confusion Matrix & Roc Curve\")\n",
        "    print(repeat)\n",
        "    plot_confusion_matrix(y, y_pred)"
      ]
    },
    {
      "cell_type": "markdown",
      "metadata": {
        "id": "d1maSu_C5pl2"
      },
      "source": [
        "### RandomForest"
      ]
    },
    {
      "cell_type": "code",
      "execution_count": null,
      "metadata": {
        "id": "1-GucFJN5nEi"
      },
      "outputs": [],
      "source": [
        "# 범주형 처리할 피쳐 설정\n",
        "# ordinal 할 피처\n",
        "ordinal = ['biz_worker_cat','parent_asset_cat']\n",
        "\n",
        "# onehot 할 피처\n",
        "onehot = [col for col in fin_df if col.endswith('cat') ] \n",
        "\n",
        "onehot = [col for col in onehot if col not in ordinal ]\n"
      ]
    },
    {
      "cell_type": "code",
      "execution_count": null,
      "metadata": {
        "id": "AJeazBLWDGSo"
      },
      "outputs": [],
      "source": [
        "# Classweight  계산 \n",
        "from sklearn.utils.class_weight import compute_class_weight\n",
        "classes = np.unique(y_train)\n",
        "weights = compute_class_weight(class_weight='balanced', classes=classes, y=y_train)\n",
        "class_weights = dict(zip(classes, weights))"
      ]
    },
    {
      "cell_type": "code",
      "execution_count": null,
      "metadata": {
        "id": "f6VBodJvIkxJ"
      },
      "outputs": [],
      "source": [
        "pipe = make_pipeline(\n",
        "    OneHotEncoder(use_cat_names=True,cols=onehot),\n",
        "    OrdinalEncoder(cols=ordinal) ,\n",
        "    SimpleImputer(), \n",
        "    StandardScaler(), \n",
        "    RandomForestClassifier(class_weight=class_weights))"
      ]
    },
    {
      "cell_type": "code",
      "execution_count": null,
      "metadata": {
        "id": "FG8ZwoI9aZYp"
      },
      "outputs": [],
      "source": [
        "pipe = Pipeline([\n",
        "    ('preprocessing', make_pipeline(OrdinalEncoder(cols=ordinal_new))),\n",
        "    ('rf', RandomForestClassifier(class_weight=class_weights)) \n",
        "])"
      ]
    },
    {
      "cell_type": "code",
      "execution_count": null,
      "metadata": {
        "id": "qXs-OAWwcvI5"
      },
      "outputs": [],
      "source": [
        "param_dists ={\n",
        "    'rf__criterion' : ['entropy'],\n",
        "    'rf__n_estimators' : [110, 130],\n",
        "    'rf__max_depth':  [10],\n",
        "    'rf__min_samples_leaf' : [1,2,4]\n",
        "}\n",
        "grcv = GridSearchCV(\n",
        "    pipe, \n",
        "    param_grid=param_dists, \n",
        "    cv=5, \n",
        "    scoring='f1',  \n",
        "    verbose=1,\n",
        "    n_jobs=-1\n",
        ")"
      ]
    },
    {
      "cell_type": "code",
      "execution_count": null,
      "metadata": {
        "colab": {
          "base_uri": "https://localhost:8080/"
        },
        "id": "7aTxqjNuc6ww",
        "outputId": "c562b6f7-1b4e-4f2d-ca11-fdbf3f8513b0"
      },
      "outputs": [
        {
          "name": "stdout",
          "output_type": "stream",
          "text": [
            "Fitting 5 folds for each of 6 candidates, totalling 30 fits\n"
          ]
        },
        {
          "name": "stderr",
          "output_type": "stream",
          "text": [
            "[Parallel(n_jobs=-1)]: Using backend LokyBackend with 2 concurrent workers.\n",
            "[Parallel(n_jobs=-1)]: Done  30 out of  30 | elapsed:   33.7s finished\n"
          ]
        }
      ],
      "source": [
        "grcv.fit(X_train, y_train);"
      ]
    },
    {
      "cell_type": "code",
      "execution_count": null,
      "metadata": {
        "colab": {
          "base_uri": "https://localhost:8080/"
        },
        "id": "cxcgkAWGfueJ",
        "outputId": "31c8b52f-704e-4352-a646-6bab66471492"
      },
      "outputs": [
        {
          "name": "stdout",
          "output_type": "stream",
          "text": [
            "best param:  {'rf__criterion': 'entropy', 'rf__max_depth': 10, 'rf__min_samples_leaf': 4, 'rf__n_estimators': 130}\n",
            "f1:  0.5367298399269846\n"
          ]
        }
      ],
      "source": [
        "## rand\n",
        "print('best param: ', grcv.best_params_)\n",
        "print('score: ', grcv.best_score_)"
      ]
    },
    {
      "cell_type": "code",
      "execution_count": null,
      "metadata": {
        "colab": {
          "base_uri": "https://localhost:8080/"
        },
        "id": "GpwzwFu1f-Yd",
        "outputId": "c8127d46-d55e-433e-f4b1-9d03995000d4"
      },
      "outputs": [
        {
          "name": "stdout",
          "output_type": "stream",
          "text": [
            "              precision    recall  f1-score   support\n",
            "\n",
            "           0       0.88      0.83      0.85      1318\n",
            "           1       0.48      0.57      0.53       365\n",
            "\n",
            "    accuracy                           0.78      1683\n",
            "   macro avg       0.68      0.70      0.69      1683\n",
            "weighted avg       0.79      0.78      0.78      1683\n",
            "\n"
          ]
        }
      ],
      "source": [
        "from sklearn.metrics import classification_report\n",
        "gr_rfc = grcv.best_estimator_\n",
        "y_pred_rfc = gr_rfc.predict(X_val)\n",
        "y_pred_proba_rfc = gr_rfc.predict_proba(X_val)[:,1]\n",
        "print(classification_report(y_val, y_pred_rfc))"
      ]
    },
    {
      "cell_type": "code",
      "execution_count": null,
      "metadata": {
        "colab": {
          "base_uri": "https://localhost:8080/",
          "height": 635
        },
        "id": "8K1IlT7F8lkh",
        "outputId": "942d1b0a-6424-41cf-f045-11d648ff2c8c"
      },
      "outputs": [
        {
          "name": "stdout",
          "output_type": "stream",
          "text": [
            "--------------------------------------------------\n",
            "Classification Report: Validation Set Confusion Matrix\n",
            "--------------------------------------------------\n",
            "\n",
            "\n",
            "              precision    recall  f1-score   support\n",
            "\n",
            "           0       0.88      0.83      0.85      1318\n",
            "           1       0.48      0.57      0.53       365\n",
            "\n",
            "    accuracy                           0.78      1683\n",
            "   macro avg       0.68      0.70      0.69      1683\n",
            "weighted avg       0.79      0.78      0.78      1683\n",
            "\n",
            "--------------------------------------------------\n",
            "--------------------------------------------------\n",
            "Confusion Matrix & Roc Curve\n",
            "--------------------------------------------------\n"
          ]
        },
        {
          "data": {
            "image/png": "[encoded data removed]",
            "text/plain": [
              "<Figure size 1080x288 with 3 Axes>"
            ]
          },
          "metadata": {
            "tags": []
          },
          "output_type": "display_data"
        },
        {
          "name": "stdout",
          "output_type": "stream",
          "text": [
            "Precision: 0.48 | Recall: 0.57 | F1 Score: 0.53 | \n"
          ]
        }
      ],
      "source": [
        "demo_report(gr_rfc,X_val,y_val,'Validation Set Confusion Matrix')"
      ]
    },
    {
      "cell_type": "markdown",
      "metadata": {
        "id": "I3FVQbtzjvHi"
      },
      "source": [
        "### XGBoost"
      ]
    },
    {
      "cell_type": "code",
      "execution_count": null,
      "metadata": {
        "id": "IfXKBmEHA2BO"
      },
      "outputs": [],
      "source": [
        "from sklearn.pipeline import Pipeline\n",
        "import xgboost as xgb\n",
        "\n",
        "pipe2 = Pipeline(steps=[\n",
        "    ('ordinal',OrdinalEncoder(cols=ordinal_new) ),\n",
        "    ('imputing',SimpleImputer()), \n",
        "    ('scalar',StandardScaler()),\n",
        "    ('xgboost',xgb.XGBClassifier(class_weight=class_weights))\n",
        "])"
      ]
    },
    {
      "cell_type": "code",
      "execution_count": null,
      "metadata": {
        "id": "Y-F-7QFgCH4X"
      },
      "outputs": [],
      "source": [
        "#create the grid\n",
        "#CatBoostClassifier(class_weights=class_weights)\n",
        "#model = xgb.XGBClassifier()\n",
        "\n",
        "params = {\n",
        "    'xgboost__max_depth': [2, 3, 5, 7, 10],\n",
        "    'xgboost__n_estimators': [10, 50],\n",
        "    'xgboost__learning_rate' : [0.1,0.2] \n",
        "}\n",
        "\n",
        "\n",
        "#Instantiate GridSearchCV\n",
        "xgcv = GridSearchCV (pipe2, \n",
        "                     param_grid =params,\n",
        "                     scoring ='f1', cv= 3,\n",
        "                     verbose=1,\n",
        "                     n_jobs=-1)\n"
      ]
    },
    {
      "cell_type": "code",
      "execution_count": null,
      "metadata": {
        "colab": {
          "base_uri": "https://localhost:8080/"
        },
        "id": "7OGx2nTODfPG",
        "outputId": "df917218-afe2-4510-977f-c5170eb9212e"
      },
      "outputs": [
        {
          "name": "stdout",
          "output_type": "stream",
          "text": [
            "Fitting 3 folds for each of 20 candidates, totalling 60 fits\n"
          ]
        },
        {
          "name": "stderr",
          "output_type": "stream",
          "text": [
            "[Parallel(n_jobs=-1)]: Using backend LokyBackend with 2 concurrent workers.\n",
            "[Parallel(n_jobs=-1)]: Done  46 tasks      | elapsed:   23.7s\n",
            "[Parallel(n_jobs=-1)]: Done  60 out of  60 | elapsed:   34.8s finished\n"
          ]
        },
        {
          "name": "stdout",
          "output_type": "stream",
          "text": [
            "Pipeline(memory=None,\n",
            "         steps=[('ordinal',\n",
            "                 OrdinalEncoder(cols=['turnover_cat', 'majorcat_cat', 'sex_cat',\n",
            "                                      'ind_cat', 'biz_worker_cat',\n",
            "                                      'biztype_cat', 'regular_cat',\n",
            "                                      'voluntary_cat', 'shift_cat',\n",
            "                                      'pension_cat', 'payed_vc_cat',\n",
            "                                      'maternitylv_cat', 'overtime_pay_cat',\n",
            "                                      'bonus_cat', 'weely_hl_cat',\n",
            "                                      'baby_vc_cat', 'wage_type_cat',\n",
            "                                      'adjust_difficulty_cat', 'job_offer_cat',\n",
            "                                      'gra...\n",
            "                                             1: 2.316242257398486},\n",
            "                               colsample_bylevel=1, colsample_bynode=1,\n",
            "                               colsample_bytree=1, gamma=0, learning_rate=0.2,\n",
            "                               max_delta_step=0, max_depth=5,\n",
            "                               min_child_weight=1, missing=None,\n",
            "                               n_estimators=50, n_jobs=1, nthread=None,\n",
            "                               objective='binary:logistic', random_state=0,\n",
            "                               reg_alpha=0, reg_lambda=1, scale_pos_weight=1,\n",
            "                               seed=None, silent=None, subsample=1,\n",
            "                               verbosity=1))],\n",
            "         verbose=False)\n",
            "0.4203242024288141\n",
            "{'xgboost__learning_rate': 0.2, 'xgboost__max_depth': 5, 'xgboost__n_estimators': 50}\n"
          ]
        }
      ],
      "source": [
        "#fit the model\n",
        "xgcv.fit(X_train,y_train)\n",
        "\n",
        "#returns the estimator with the best performance\n",
        "print(xgcv.best_estimator_)\n",
        "\n",
        "#returns the best score\n",
        "print(xgcv.best_score_)\n",
        "\n",
        "#returns the best parameters\n",
        "print(xgcv.best_params_)"
      ]
    },
    {
      "cell_type": "code",
      "execution_count": null,
      "metadata": {
        "colab": {
          "base_uri": "https://localhost:8080/"
        },
        "id": "ZthBz_MFBRWe",
        "outputId": "a50ef504-5920-4502-f2fe-12496e93892f"
      },
      "outputs": [
        {
          "name": "stdout",
          "output_type": "stream",
          "text": [
            "              precision    recall  f1-score   support\n",
            "\n",
            "           0       0.84      0.93      0.88      1318\n",
            "           1       0.58      0.35      0.44       365\n",
            "\n",
            "    accuracy                           0.80      1683\n",
            "   macro avg       0.71      0.64      0.66      1683\n",
            "weighted avg       0.78      0.80      0.78      1683\n",
            "\n"
          ]
        }
      ],
      "source": [
        "from sklearn.metrics import classification_report\n",
        "gr_xgb = xgcv.best_estimator_\n",
        "y_pred_xgb = gr_xgb.predict(X_val)\n",
        "y_pred_proba_xgb= gr_xgb.predict_proba(X_val)[:,1]\n",
        "print(classification_report(y_val, y_pred_xgb))"
      ]
    },
    {
      "cell_type": "code",
      "execution_count": null,
      "metadata": {
        "colab": {
          "base_uri": "https://localhost:8080/",
          "height": 635
        },
        "id": "ifBKvRi1BqNd",
        "outputId": "9d982919-b0f3-418c-f346-47675de0aecb"
      },
      "outputs": [
        {
          "name": "stdout",
          "output_type": "stream",
          "text": [
            "--------------------------------------------------\n",
            "Classification Report: Validation Set Confusion Matrix\n",
            "--------------------------------------------------\n",
            "\n",
            "\n",
            "              precision    recall  f1-score   support\n",
            "\n",
            "           0       0.84      0.93      0.88      1318\n",
            "           1       0.58      0.35      0.44       365\n",
            "\n",
            "    accuracy                           0.80      1683\n",
            "   macro avg       0.71      0.64      0.66      1683\n",
            "weighted avg       0.78      0.80      0.78      1683\n",
            "\n",
            "--------------------------------------------------\n",
            "--------------------------------------------------\n",
            "Confusion Matrix & Roc Curve\n",
            "--------------------------------------------------\n"
          ]
        },
        {
          "data": {
            "image/png": "[encoded data removed]",
            "text/plain": [
              "<Figure size 1080x288 with 3 Axes>"
            ]
          },
          "metadata": {
            "tags": []
          },
          "output_type": "display_data"
        },
        {
          "name": "stdout",
          "output_type": "stream",
          "text": [
            "Precision: 0.58 | Recall: 0.35 | F1 Score: 0.44 | \n"
          ]
        }
      ],
      "source": [
        "demo_report(gr_xgb,X_val,y_val,'Validation Set Confusion Matrix')"
      ]
    },
    {
      "cell_type": "code",
      "execution_count": null,
      "metadata": {
        "id": "aagJBQnu7zee"
      },
      "outputs": [],
      "source": [
        "#from sklearn.model_selection import cross_validate\n",
        "#cv_scores = cross_validate(pipe2, X_train, y_train, \n",
        " #                          cv=5,\n",
        " #                           scoring=['accuracy', 'roc_auc','f1'],\n",
        " #                           return_train_score=True)"
      ]
    },
    {
      "cell_type": "code",
      "execution_count": null,
      "metadata": {
        "colab": {
          "base_uri": "https://localhost:8080/"
        },
        "id": "tugebO0a9Gsj",
        "outputId": "8cf597e7-4c17-45ec-9580-3f60b48de358"
      },
      "outputs": [
        {
          "name": "stdout",
          "output_type": "stream",
          "text": [
            "Cross-validation 훈련_정확도: 0.942431\n",
            "Cross-validation 훈련_AUC: 0.990828\n",
            "Cross-validation val_accuracy: 0.784873\n",
            "Cross-validation val_auc: 0.806567\n"
          ]
        }
      ],
      "source": [
        "cv_scores_df=pd.DataFrame(cv_scores)\n",
        "\n",
        "print(\"Cross-validation 훈련_정확도: %f\" % cv_scores_df.train_accuracy.mean())\n",
        "print(\"Cross-validation 훈련_AUC: %f\" % cv_scores_df.train_roc_auc.mean())\n",
        "print(\"Cross-validation val_accuracy: %f\" % cv_scores_df.test_accuracy.mean())\n",
        "print(\"Cross-validation val_auc: %f\" % cv_scores_df.test_roc_auc.mean())"
      ]
    },
    {
      "cell_type": "code",
      "execution_count": null,
      "metadata": {
        "id": "-QuCfysdI_jo"
      },
      "outputs": [],
      "source": [
        "# 범주형 처리할 피쳐 설정\n",
        "# ordinal 할 피처\n",
        "ordinal = ['biz_worker_cat','parent_asset_cat']\n",
        "\n",
        "# onehot 할 피처\n",
        "onehot = [col for col in fin_df if col.endswith('cat') ] \n",
        "\n",
        "onehot = [col for col in onehot if col not in ordinal ]\n",
        "\n",
        "# new_ordinal\n",
        "ordinal_new = [col for col in fin_df if col.endswith('cat') ] "
      ]
    },
    {
      "cell_type": "code",
      "execution_count": null,
      "metadata": {
        "id": "f-rT2j6J2z1m"
      },
      "outputs": [],
      "source": [
        "# pipe_processing\n",
        "pipe4 = Pipeline(steps=[\n",
        "    ('onehot',OneHotEncoder(use_cat_names=True,cols=onehot)),\n",
        "    ('ordinal',OrdinalEncoder(cols=ordinal) \n",
        "])"
      ]
    },
    {
      "cell_type": "code",
      "execution_count": null,
      "metadata": {
        "id": "aFOjWi833FDa"
      },
      "outputs": [],
      "source": [
        "X_val_new = pipe4.fit_transform(X_val)"
      ]
    },
    {
      "cell_type": "code",
      "execution_count": null,
      "metadata": {
        "colab": {
          "background_save": true,
          "base_uri": "https://localhost:8080/",
          "height": 830
        },
        "id": "RFoNQ9V5if83",
        "outputId": "ad085574-5a82-49d9-981e-005739084ab6"
      },
      "outputs": [
        {
          "data": {
            "text/html": [
              "<div>\n",
              "<style scoped>\n",
              "    .dataframe tbody tr th:only-of-type {\n",
              "        vertical-align: middle;\n",
              "    }\n",
              "\n",
              "    .dataframe tbody tr th {\n",
              "        vertical-align: top;\n",
              "    }\n",
              "\n",
              "    .dataframe thead th {\n",
              "        text-align: right;\n",
              "    }\n",
              "</style>\n",
              "<table border=\"1\" class=\"dataframe\">\n",
              "  <thead>\n",
              "    <tr style=\"text-align: right;\">\n",
              "      <th></th>\n",
              "      <th>FPR(Fall-out)</th>\n",
              "      <th>TPRate(Recall)</th>\n",
              "      <th>Threshold</th>\n",
              "    </tr>\n",
              "  </thead>\n",
              "  <tbody>\n",
              "    <tr>\n",
              "      <th>0</th>\n",
              "      <td>0.000000</td>\n",
              "      <td>0.000000</td>\n",
              "      <td>1.915011</td>\n",
              "    </tr>\n",
              "    <tr>\n",
              "      <th>1</th>\n",
              "      <td>0.000000</td>\n",
              "      <td>0.002740</td>\n",
              "      <td>0.915011</td>\n",
              "    </tr>\n",
              "    <tr>\n",
              "      <th>2</th>\n",
              "      <td>0.000000</td>\n",
              "      <td>0.030137</td>\n",
              "      <td>0.850495</td>\n",
              "    </tr>\n",
              "    <tr>\n",
              "      <th>3</th>\n",
              "      <td>0.000759</td>\n",
              "      <td>0.030137</td>\n",
              "      <td>0.845168</td>\n",
              "    </tr>\n",
              "    <tr>\n",
              "      <th>4</th>\n",
              "      <td>0.000759</td>\n",
              "      <td>0.054795</td>\n",
              "      <td>0.823617</td>\n",
              "    </tr>\n",
              "    <tr>\n",
              "      <th>...</th>\n",
              "      <td>...</td>\n",
              "      <td>...</td>\n",
              "      <td>...</td>\n",
              "    </tr>\n",
              "    <tr>\n",
              "      <th>459</th>\n",
              "      <td>0.891502</td>\n",
              "      <td>0.994521</td>\n",
              "      <td>0.119475</td>\n",
              "    </tr>\n",
              "    <tr>\n",
              "      <th>460</th>\n",
              "      <td>0.891502</td>\n",
              "      <td>0.997260</td>\n",
              "      <td>0.119096</td>\n",
              "    </tr>\n",
              "    <tr>\n",
              "      <th>461</th>\n",
              "      <td>0.975721</td>\n",
              "      <td>0.997260</td>\n",
              "      <td>0.083587</td>\n",
              "    </tr>\n",
              "    <tr>\n",
              "      <th>462</th>\n",
              "      <td>0.975721</td>\n",
              "      <td>1.000000</td>\n",
              "      <td>0.082160</td>\n",
              "    </tr>\n",
              "    <tr>\n",
              "      <th>463</th>\n",
              "      <td>1.000000</td>\n",
              "      <td>1.000000</td>\n",
              "      <td>0.043789</td>\n",
              "    </tr>\n",
              "  </tbody>\n",
              "</table>\n",
              "<p>464 rows × 3 columns</p>\n",
              "</div>"
            ],
            "text/plain": [
              "     FPR(Fall-out)  TPRate(Recall)  Threshold\n",
              "0         0.000000        0.000000   1.915011\n",
              "1         0.000000        0.002740   0.915011\n",
              "2         0.000000        0.030137   0.850495\n",
              "3         0.000759        0.030137   0.845168\n",
              "4         0.000759        0.054795   0.823617\n",
              "..             ...             ...        ...\n",
              "459       0.891502        0.994521   0.119475\n",
              "460       0.891502        0.997260   0.119096\n",
              "461       0.975721        0.997260   0.083587\n",
              "462       0.975721        1.000000   0.082160\n",
              "463       1.000000        1.000000   0.043789\n",
              "\n",
              "[464 rows x 3 columns]"
            ]
          },
          "execution_count": 0,
          "metadata": {
            "tags": []
          },
          "output_type": "execute_result"
        }
      ],
      "source": [
        "from sklearn.metrics import roc_curve\n",
        "y_pred_proba = grcv.predict_proba(X_val)[:, 1]\n",
        "# roc_curve(타겟값, prob of 1)\n",
        "fpr, tpr, thresholds = roc_curve(y_val, y_pred_proba)\n",
        "\n",
        "roc = pd.DataFrame({\n",
        "    'FPR(Fall-out)': fpr, \n",
        "    'TPRate(Recall)': tpr, \n",
        "    'Threshold': thresholds\n",
        "})\n",
        "roc"
      ]
    },
    {
      "cell_type": "code",
      "execution_count": null,
      "metadata": {
        "colab": {
          "base_uri": "https://localhost:8080/",
          "height": 295
        },
        "id": "WmjxTCMqirhZ",
        "outputId": "94efa4bd-3fbc-4ba4-bbd1-78b3a2eac41d"
      },
      "outputs": [
        {
          "data": {
            "image/png": "[encoded data removed]",
            "text/plain": [
              "<Figure size 432x288 with 1 Axes>"
            ]
          },
          "metadata": {
            "tags": []
          },
          "output_type": "display_data"
        }
      ],
      "source": [
        "from sklearn.metrics import plot_confusion_matrix\n",
        "import matplotlib.pyplot as plt\n",
        "\n",
        "plt.scatter(fpr, tpr)\n",
        "plt.title('ROC curve')\n",
        "plt.xlabel('FPR(Fall-out)')\n",
        "plt.ylabel('TPR(Recall)');"
      ]
    },
    {
      "cell_type": "code",
      "execution_count": null,
      "metadata": {
        "colab": {
          "base_uri": "https://localhost:8080/"
        },
        "id": "8ulKDS_Okmay",
        "outputId": "74b1b6e6-c11e-44c6-a355-4b009bab0ec6"
      },
      "outputs": [
        {
          "name": "stdout",
          "output_type": "stream",
          "text": [
            "idx: 306 , threshold: 0.20429780943789086\n"
          ]
        }
      ],
      "source": [
        "# threshold 최대값의 인덱스, np.argmax()\n",
        "optimal_idx = np.argmax(tpr - fpr)\n",
        "optimal_threshold = thresholds[optimal_idx]\n",
        "\n",
        "print('idx:', optimal_idx, ', threshold:', optimal_threshold)"
      ]
    },
    {
      "cell_type": "code",
      "execution_count": null,
      "metadata": {
        "colab": {
          "base_uri": "https://localhost:8080/"
        },
        "id": "sbb4Jnejk7yJ",
        "outputId": "330405db-c986-41fc-98b2-c21713b7c615"
      },
      "outputs": [
        {
          "name": "stdout",
          "output_type": "stream",
          "text": [
            "              precision    recall  f1-score   support\n",
            "\n",
            "           0       0.92      0.70      0.80      1314\n",
            "           1       0.42      0.77      0.54       369\n",
            "\n",
            "    accuracy                           0.72      1683\n",
            "   macro avg       0.67      0.74      0.67      1683\n",
            "weighted avg       0.81      0.72      0.74      1683\n",
            "\n"
          ]
        }
      ],
      "source": [
        "from sklearn.metrics import classification_report\n",
        "y_pred_optimal = y_pred_proba >= optimal_threshold\n",
        "print(classification_report(y_val, y_pred_optimal))"
      ]
    },
    {
      "cell_type": "code",
      "execution_count": null,
      "metadata": {
        "colab": {
          "base_uri": "https://localhost:8080/",
          "height": 369
        },
        "id": "D6JIkIuear-G",
        "outputId": "f79e441d-0779-4586-86d7-50a9a23b3806"
      },
      "outputs": [
        {
          "data": {
            "image/png": "[encoded data removed]",
            "text/plain": [
              "<Figure size 360x360 with 1 Axes>"
            ]
          },
          "metadata": {
            "tags": []
          },
          "output_type": "display_data"
        }
      ],
      "source": [
        "y_pred_proba = pipe.predict_proba(X_val)[:, 1]\n",
        "y_pred_proba\n",
        "\n",
        "sns.displot(y_pred_proba);"
      ]
    },
    {
      "cell_type": "code",
      "execution_count": null,
      "metadata": {
        "colab": {
          "base_uri": "https://localhost:8080/"
        },
        "id": "yoiJvfD8dcqk",
        "outputId": "a7eeca01-9fa1-4e43-fe43-21f4fd83590d"
      },
      "outputs": [
        {
          "data": {
            "text/plain": [
              "0.7958351973503488"
            ]
          },
          "execution_count": 76,
          "metadata": {
            "tags": []
          },
          "output_type": "execute_result"
        }
      ],
      "source": [
        "from sklearn.metrics import roc_auc_score\n",
        "auc_score = roc_auc_score(y_val, y_pred_proba)\n",
        "auc_score"
      ]
    },
    {
      "cell_type": "markdown",
      "metadata": {
        "id": "8RNHhdl7DIpI"
      },
      "source": [
        "### 테스트스코어 점수 확인\n",
        "\n",
        "RandomForest가 상대적으로 높게 나온다."
      ]
    },
    {
      "cell_type": "code",
      "execution_count": null,
      "metadata": {
        "colab": {
          "base_uri": "https://localhost:8080/"
        },
        "id": "qvbEFV5rUsfI",
        "outputId": "390a4e66-a3b4-4206-c1ab-5decd4b83c0c"
      },
      "outputs": [
        {
          "name": "stdout",
          "output_type": "stream",
          "text": [
            "테스트세트 f1_score 0.3532846715328467\n",
            "테스트세트 f1_score 0.4942408376963351\n"
          ]
        }
      ],
      "source": [
        "# 이 곳에 답안을 작성하십시오\n",
        "X_test = test\n",
        "y_pred_gr_xgb = gr_xgb.predict(X_test)\n",
        "y_pred_gr_rfc= gr_rfc.predict(X_test)\n",
        "\n",
        "print('테스트세트 f1_score', f1_score(test_t,y_pred_gr_xgb))\n",
        "print('테스트세트 f1_score', f1_score(test_t,y_pred_gr_rfc))\n"
      ]
    },
    {
      "cell_type": "code",
      "execution_count": null,
      "metadata": {
        "colab": {
          "base_uri": "https://localhost:8080/"
        },
        "id": "eu8r6nlDZ054",
        "outputId": "7c0d1321-323d-4261-f39e-dfd6ee64c52a"
      },
      "outputs": [
        {
          "data": {
            "text/plain": [
              "{'preprocessing': Pipeline(memory=None,\n",
              "          steps=[('onehotencoder',\n",
              "                  OneHotEncoder(cols=['turnover_cat', 'majorcat_cat', 'sex_cat',\n",
              "                                      'ind_cat', 'biztype_cat', 'regular_cat',\n",
              "                                      'voluntary_cat', 'shift_cat',\n",
              "                                      'pension_cat', 'payed_vc_cat',\n",
              "                                      'maternitylv_cat', 'overtime_pay_cat',\n",
              "                                      'bonus_cat', 'weely_hl_cat', 'baby_vc_cat',\n",
              "                                      'wage_type_cat', 'adjust_difficulty_cat',\n",
              "                                      'job_offer_cat', 'graduate_cat',\n",
              "                                      '...\n",
              "                                          {'col': 'parent_asset_cat',\n",
              "                                           'data_type': dtype('int64'),\n",
              "                                           'mapping':  1.0    1\n",
              "  3.0    2\n",
              "  2.0    3\n",
              "  4.0    4\n",
              "  5.0    5\n",
              "  6.0    6\n",
              " -1.0    7\n",
              "  7.0    8\n",
              "  NaN   -2\n",
              " dtype: int64}],\n",
              "                                 return_df=True, verbose=0)),\n",
              "                 ('simpleimputer',\n",
              "                  SimpleImputer(add_indicator=False, copy=True, fill_value=None,\n",
              "                                missing_values=nan, strategy='mean',\n",
              "                                verbose=0)),\n",
              "                 ('standardscaler',\n",
              "                  StandardScaler(copy=True, with_mean=True, with_std=True))],\n",
              "          verbose=False),\n",
              " 'rf': RandomForestClassifier(bootstrap=True, ccp_alpha=0.0,\n",
              "                        class_weight={0: 0.637646835922698,\n",
              "                                      1: 2.316242257398486},\n",
              "                        criterion='entropy', max_depth=10, max_features='auto',\n",
              "                        max_leaf_nodes=None, max_samples=None,\n",
              "                        min_impurity_decrease=0.0, min_impurity_split=None,\n",
              "                        min_samples_leaf=4, min_samples_split=2,\n",
              "                        min_weight_fraction_leaf=0.0, n_estimators=130,\n",
              "                        n_jobs=None, oob_score=False, random_state=None,\n",
              "                        verbose=0, warm_start=False)}"
            ]
          },
          "execution_count": 179,
          "metadata": {
            "tags": []
          },
          "output_type": "execute_result"
        }
      ],
      "source": [
        "gr_rfc.named_steps"
      ]
    },
    {
      "cell_type": "code",
      "execution_count": null,
      "metadata": {
        "id": "1aaG4wiMZXud"
      },
      "outputs": [],
      "source": [
        "#"
      ]
    },
    {
      "cell_type": "markdown",
      "metadata": {
        "id": "zo0_J4bkZYwL"
      },
      "source": [
        "### 피쳐 중요도 확인"
      ]
    },
    {
      "cell_type": "code",
      "execution_count": null,
      "metadata": {
        "id": "kmYUz8i_ZhPF"
      },
      "outputs": [],
      "source": [
        "# Permutation importance 계산\n",
        "\n",
        "import warnings\n",
        "warnings.simplefilter(action='ignore', category=FutureWarning)\n",
        "\n",
        "import eli5\n",
        "from eli5.sklearn import PermutationImportance\n",
        "\n",
        "# permuter 정의\n",
        "permuter = PermutationImportance(\n",
        "    gr_rfc.named_steps['rf'], # model\n",
        "    scoring='f1', #\n",
        "    n_iter=5, # \n",
        "    random_state=42\n",
        ")\n",
        "\n",
        "X_val_transformed = gr_rfc.named_steps['preprocessing'].transform(X_val)\n",
        "\n",
        "\n",
        "permuter.fit(X_val_transformed, y_val);"
      ]
    },
    {
      "cell_type": "code",
      "execution_count": null,
      "metadata": {
        "id": "JNNuXu9A1Phr"
      },
      "outputs": [],
      "source": [
        "# print feature importance\n",
        "X_names = X_val_transformed.columns.tolist()\n"
      ]
    },
    {
      "cell_type": "code",
      "execution_count": null,
      "metadata": {
        "id": "4PbEuLmg6kwc"
      },
      "outputs": [],
      "source": [
        "X_val_transformed = gr_rfc.named_steps['preprocessing'].transform(X_val)\n",
        "X_train_transformed = gr_rfc.named_steps['preprocessing'].transform(X_train)\n"
      ]
    },
    {
      "cell_type": "code",
      "execution_count": null,
      "metadata": {
        "colab": {
          "base_uri": "https://localhost:8080/"
        },
        "id": "liWdyqVqyuo0",
        "outputId": "e0bb41d1-86e1-4181-bcc8-47ea81944922"
      },
      "outputs": [
        {
          "data": {
            "text/plain": [
              "weely_hl_cat_3.0       -0.003022\n",
              "baby_vc_cat_3.0        -0.001454\n",
              "weely_hl_cat_1.0       -0.001187\n",
              "overtime_pay_cat_1.0   -0.001103\n",
              "sat_stable_num         -0.001014\n",
              "                          ...   \n",
              "work_time_num           0.011895\n",
              "job_offer_cat_2.0       0.017714\n",
              "biz_sat                 0.018837\n",
              "job_offer_cat_1.0       0.025529\n",
              "sat_general_num         0.030952\n",
              "Length: 158, dtype: float64"
            ]
          },
          "execution_count": 210,
          "metadata": {
            "tags": []
          },
          "output_type": "execute_result"
        }
      ],
      "source": [
        "#feature_names = X_val.columns.tolist()\n",
        "pd.Series(permuter.feature_importances_, X_names).sort_values()"
      ]
    },
    {
      "cell_type": "code",
      "execution_count": null,
      "metadata": {
        "id": "Y6rVsIOO0WYv"
      },
      "outputs": [],
      "source": [
        "dd=eli5.show_weights(\n",
        "    permuter, \n",
        "    top=30, # top n 지정 가능, None 일 경우 모든 특성 s\n",
        "    feature_names=X_names\n",
        ")"
      ]
    },
    {
      "cell_type": "code",
      "execution_count": null,
      "metadata": {
        "colab": {
          "base_uri": "https://localhost:8080/",
          "height": 573
        },
        "id": "pnssS3wuSvhp",
        "outputId": "e5b8b283-b2b3-4587-83cd-09978a39cf12"
      },
      "outputs": [
        {
          "data": {
            "text/html": [
              "\n",
              "    <style>\n",
              "    table.eli5-weights tr:hover {\n",
              "        filter: brightness(85%);\n",
              "    }\n",
              "</style>\n",
              "\n",
              "\n",
              "\n",
              "    \n",
              "\n",
              "    \n",
              "\n",
              "    \n",
              "\n",
              "    \n",
              "\n",
              "    \n",
              "\n",
              "    \n",
              "\n",
              "\n",
              "    \n",
              "\n",
              "    \n",
              "\n",
              "    \n",
              "\n",
              "    \n",
              "\n",
              "    \n",
              "\n",
              "    \n",
              "\n",
              "\n",
              "    \n",
              "\n",
              "    \n",
              "\n",
              "    \n",
              "\n",
              "    \n",
              "\n",
              "    \n",
              "        <table class=\"eli5-weights eli5-feature-importances\" style=\"border-collapse: collapse; border: none; margin-top: 0em; table-layout: auto;\">\n",
              "    <thead>\n",
              "    <tr style=\"border: none;\">\n",
              "        <th style=\"padding: 0 1em 0 0.5em; text-align: right; border: none;\">Weight</th>\n",
              "        <th style=\"padding: 0 0.5em 0 0.5em; text-align: left; border: none;\">Feature</th>\n",
              "    </tr>\n",
              "    </thead>\n",
              "    <tbody>\n",
              "    \n",
              "        <tr style=\"background-color: hsl(120, 100.00%, 80.00%); border: none;\">\n",
              "            <td style=\"padding: 0 1em 0 0.5em; text-align: right; border: none;\">\n",
              "                0.0310\n",
              "                \n",
              "                    &plusmn; 0.0098\n",
              "                \n",
              "            </td>\n",
              "            <td style=\"padding: 0 0.5em 0 0.5em; text-align: left; border: none;\">\n",
              "                sat_general_num\n",
              "            </td>\n",
              "        </tr>\n",
              "    \n",
              "        <tr style=\"background-color: hsl(120, 100.00%, 82.52%); border: none;\">\n",
              "            <td style=\"padding: 0 1em 0 0.5em; text-align: right; border: none;\">\n",
              "                0.0255\n",
              "                \n",
              "                    &plusmn; 0.0135\n",
              "                \n",
              "            </td>\n",
              "            <td style=\"padding: 0 0.5em 0 0.5em; text-align: left; border: none;\">\n",
              "                job_offer_cat_1.0\n",
              "            </td>\n",
              "        </tr>\n",
              "    \n",
              "        <tr style=\"background-color: hsl(120, 100.00%, 85.87%); border: none;\">\n",
              "            <td style=\"padding: 0 1em 0 0.5em; text-align: right; border: none;\">\n",
              "                0.0188\n",
              "                \n",
              "                    &plusmn; 0.0150\n",
              "                \n",
              "            </td>\n",
              "            <td style=\"padding: 0 0.5em 0 0.5em; text-align: left; border: none;\">\n",
              "                biz_sat\n",
              "            </td>\n",
              "        </tr>\n",
              "    \n",
              "        <tr style=\"background-color: hsl(120, 100.00%, 86.47%); border: none;\">\n",
              "            <td style=\"padding: 0 1em 0 0.5em; text-align: right; border: none;\">\n",
              "                0.0177\n",
              "                \n",
              "                    &plusmn; 0.0080\n",
              "                \n",
              "            </td>\n",
              "            <td style=\"padding: 0 0.5em 0 0.5em; text-align: left; border: none;\">\n",
              "                job_offer_cat_2.0\n",
              "            </td>\n",
              "        </tr>\n",
              "    \n",
              "        <tr style=\"background-color: hsl(120, 100.00%, 89.76%); border: none;\">\n",
              "            <td style=\"padding: 0 1em 0 0.5em; text-align: right; border: none;\">\n",
              "                0.0119\n",
              "                \n",
              "                    &plusmn; 0.0085\n",
              "                \n",
              "            </td>\n",
              "            <td style=\"padding: 0 0.5em 0 0.5em; text-align: left; border: none;\">\n",
              "                work_time_num\n",
              "            </td>\n",
              "        </tr>\n",
              "    \n",
              "        <tr style=\"background-color: hsl(120, 100.00%, 90.24%); border: none;\">\n",
              "            <td style=\"padding: 0 1em 0 0.5em; text-align: right; border: none;\">\n",
              "                0.0111\n",
              "                \n",
              "                    &plusmn; 0.0077\n",
              "                \n",
              "            </td>\n",
              "            <td style=\"padding: 0 0.5em 0 0.5em; text-align: left; border: none;\">\n",
              "                sat_wage_num\n",
              "            </td>\n",
              "        </tr>\n",
              "    \n",
              "        <tr style=\"background-color: hsl(120, 100.00%, 90.45%); border: none;\">\n",
              "            <td style=\"padding: 0 1em 0 0.5em; text-align: right; border: none;\">\n",
              "                0.0108\n",
              "                \n",
              "                    &plusmn; 0.0071\n",
              "                \n",
              "            </td>\n",
              "            <td style=\"padding: 0 0.5em 0 0.5em; text-align: left; border: none;\">\n",
              "                skill-fit_num\n",
              "            </td>\n",
              "        </tr>\n",
              "    \n",
              "        <tr style=\"background-color: hsl(120, 100.00%, 91.38%); border: none;\">\n",
              "            <td style=\"padding: 0 1em 0 0.5em; text-align: right; border: none;\">\n",
              "                0.0093\n",
              "                \n",
              "                    &plusmn; 0.0056\n",
              "                \n",
              "            </td>\n",
              "            <td style=\"padding: 0 0.5em 0 0.5em; text-align: left; border: none;\">\n",
              "                sat_fit_num\n",
              "            </td>\n",
              "        </tr>\n",
              "    \n",
              "        <tr style=\"background-color: hsl(120, 100.00%, 91.64%); border: none;\">\n",
              "            <td style=\"padding: 0 1em 0 0.5em; text-align: right; border: none;\">\n",
              "                0.0089\n",
              "                \n",
              "                    &plusmn; 0.0044\n",
              "                \n",
              "            </td>\n",
              "            <td style=\"padding: 0 0.5em 0 0.5em; text-align: left; border: none;\">\n",
              "                sat_rep2_num\n",
              "            </td>\n",
              "        </tr>\n",
              "    \n",
              "        <tr style=\"background-color: hsl(120, 100.00%, 91.68%); border: none;\">\n",
              "            <td style=\"padding: 0 1em 0 0.5em; text-align: right; border: none;\">\n",
              "                0.0088\n",
              "                \n",
              "                    &plusmn; 0.0038\n",
              "                \n",
              "            </td>\n",
              "            <td style=\"padding: 0 0.5em 0 0.5em; text-align: left; border: none;\">\n",
              "                lifesat_group\n",
              "            </td>\n",
              "        </tr>\n",
              "    \n",
              "        <tr style=\"background-color: hsl(120, 100.00%, 91.71%); border: none;\">\n",
              "            <td style=\"padding: 0 1em 0 0.5em; text-align: right; border: none;\">\n",
              "                0.0088\n",
              "                \n",
              "                    &plusmn; 0.0073\n",
              "                \n",
              "            </td>\n",
              "            <td style=\"padding: 0 0.5em 0 0.5em; text-align: left; border: none;\">\n",
              "                month_wage_num\n",
              "            </td>\n",
              "        </tr>\n",
              "    \n",
              "        <tr style=\"background-color: hsl(120, 100.00%, 91.89%); border: none;\">\n",
              "            <td style=\"padding: 0 1em 0 0.5em; text-align: right; border: none;\">\n",
              "                0.0085\n",
              "                \n",
              "                    &plusmn; 0.0072\n",
              "                \n",
              "            </td>\n",
              "            <td style=\"padding: 0 0.5em 0 0.5em; text-align: left; border: none;\">\n",
              "                sat_work-general_num\n",
              "            </td>\n",
              "        </tr>\n",
              "    \n",
              "        <tr style=\"background-color: hsl(120, 100.00%, 92.09%); border: none;\">\n",
              "            <td style=\"padding: 0 1em 0 0.5em; text-align: right; border: none;\">\n",
              "                0.0082\n",
              "                \n",
              "                    &plusmn; 0.0036\n",
              "                \n",
              "            </td>\n",
              "            <td style=\"padding: 0 0.5em 0 0.5em; text-align: left; border: none;\">\n",
              "                sat_potential_num\n",
              "            </td>\n",
              "        </tr>\n",
              "    \n",
              "        <tr style=\"background-color: hsl(120, 100.00%, 92.55%); border: none;\">\n",
              "            <td style=\"padding: 0 1em 0 0.5em; text-align: right; border: none;\">\n",
              "                0.0076\n",
              "                \n",
              "                    &plusmn; 0.0021\n",
              "                \n",
              "            </td>\n",
              "            <td style=\"padding: 0 0.5em 0 0.5em; text-align: left; border: none;\">\n",
              "                adjust_difficulty_cat_1.0\n",
              "            </td>\n",
              "        </tr>\n",
              "    \n",
              "        <tr style=\"background-color: hsl(120, 100.00%, 92.70%); border: none;\">\n",
              "            <td style=\"padding: 0 1em 0 0.5em; text-align: right; border: none;\">\n",
              "                0.0073\n",
              "                \n",
              "                    &plusmn; 0.0072\n",
              "                \n",
              "            </td>\n",
              "            <td style=\"padding: 0 0.5em 0 0.5em; text-align: left; border: none;\">\n",
              "                emb_irr_num\n",
              "            </td>\n",
              "        </tr>\n",
              "    \n",
              "        <tr style=\"background-color: hsl(120, 100.00%, 92.83%); border: none;\">\n",
              "            <td style=\"padding: 0 1em 0 0.5em; text-align: right; border: none;\">\n",
              "                0.0071\n",
              "                \n",
              "                    &plusmn; 0.0085\n",
              "                \n",
              "            </td>\n",
              "            <td style=\"padding: 0 0.5em 0 0.5em; text-align: left; border: none;\">\n",
              "                neg\n",
              "            </td>\n",
              "        </tr>\n",
              "    \n",
              "        <tr style=\"background-color: hsl(120, 100.00%, 92.99%); border: none;\">\n",
              "            <td style=\"padding: 0 1em 0 0.5em; text-align: right; border: none;\">\n",
              "                0.0069\n",
              "                \n",
              "                    &plusmn; 0.0053\n",
              "                \n",
              "            </td>\n",
              "            <td style=\"padding: 0 0.5em 0 0.5em; text-align: left; border: none;\">\n",
              "                pos\n",
              "            </td>\n",
              "        </tr>\n",
              "    \n",
              "        <tr style=\"background-color: hsl(120, 100.00%, 93.22%); border: none;\">\n",
              "            <td style=\"padding: 0 1em 0 0.5em; text-align: right; border: none;\">\n",
              "                0.0066\n",
              "                \n",
              "                    &plusmn; 0.0028\n",
              "                \n",
              "            </td>\n",
              "            <td style=\"padding: 0 0.5em 0 0.5em; text-align: left; border: none;\">\n",
              "                seeking_time_num\n",
              "            </td>\n",
              "        </tr>\n",
              "    \n",
              "        <tr style=\"background-color: hsl(120, 100.00%, 93.37%); border: none;\">\n",
              "            <td style=\"padding: 0 1em 0 0.5em; text-align: right; border: none;\">\n",
              "                0.0064\n",
              "                \n",
              "                    &plusmn; 0.0059\n",
              "                \n",
              "            </td>\n",
              "            <td style=\"padding: 0 0.5em 0 0.5em; text-align: left; border: none;\">\n",
              "                major_help_num\n",
              "            </td>\n",
              "        </tr>\n",
              "    \n",
              "        <tr style=\"background-color: hsl(120, 100.00%, 93.40%); border: none;\">\n",
              "            <td style=\"padding: 0 1em 0 0.5em; text-align: right; border: none;\">\n",
              "                0.0064\n",
              "                \n",
              "                    &plusmn; 0.0079\n",
              "                \n",
              "            </td>\n",
              "            <td style=\"padding: 0 0.5em 0 0.5em; text-align: left; border: none;\">\n",
              "                emb_negative_num\n",
              "            </td>\n",
              "        </tr>\n",
              "    \n",
              "        <tr style=\"background-color: hsl(120, 100.00%, 93.63%); border: none;\">\n",
              "            <td style=\"padding: 0 1em 0 0.5em; text-align: right; border: none;\">\n",
              "                0.0060\n",
              "                \n",
              "                    &plusmn; 0.0048\n",
              "                \n",
              "            </td>\n",
              "            <td style=\"padding: 0 0.5em 0 0.5em; text-align: left; border: none;\">\n",
              "                parent_asset_cat\n",
              "            </td>\n",
              "        </tr>\n",
              "    \n",
              "        <tr style=\"background-color: hsl(120, 100.00%, 93.63%); border: none;\">\n",
              "            <td style=\"padding: 0 1em 0 0.5em; text-align: right; border: none;\">\n",
              "                0.0060\n",
              "                \n",
              "                    &plusmn; 0.0045\n",
              "                \n",
              "            </td>\n",
              "            <td style=\"padding: 0 0.5em 0 0.5em; text-align: left; border: none;\">\n",
              "                birth_date\n",
              "            </td>\n",
              "        </tr>\n",
              "    \n",
              "        <tr style=\"background-color: hsl(120, 100.00%, 93.92%); border: none;\">\n",
              "            <td style=\"padding: 0 1em 0 0.5em; text-align: right; border: none;\">\n",
              "                0.0056\n",
              "                \n",
              "                    &plusmn; 0.0093\n",
              "                \n",
              "            </td>\n",
              "            <td style=\"padding: 0 0.5em 0 0.5em; text-align: left; border: none;\">\n",
              "                id\n",
              "            </td>\n",
              "        </tr>\n",
              "    \n",
              "        <tr style=\"background-color: hsl(120, 100.00%, 94.09%); border: none;\">\n",
              "            <td style=\"padding: 0 1em 0 0.5em; text-align: right; border: none;\">\n",
              "                0.0054\n",
              "                \n",
              "                    &plusmn; 0.0038\n",
              "                \n",
              "            </td>\n",
              "            <td style=\"padding: 0 0.5em 0 0.5em; text-align: left; border: none;\">\n",
              "                drink_num,\n",
              "            </td>\n",
              "        </tr>\n",
              "    \n",
              "        <tr style=\"background-color: hsl(120, 100.00%, 94.33%); border: none;\">\n",
              "            <td style=\"padding: 0 1em 0 0.5em; text-align: right; border: none;\">\n",
              "                0.0051\n",
              "                \n",
              "                    &plusmn; 0.0078\n",
              "                \n",
              "            </td>\n",
              "            <td style=\"padding: 0 0.5em 0 0.5em; text-align: left; border: none;\">\n",
              "                age_num\n",
              "            </td>\n",
              "        </tr>\n",
              "    \n",
              "        <tr style=\"background-color: hsl(120, 100.00%, 94.40%); border: none;\">\n",
              "            <td style=\"padding: 0 1em 0 0.5em; text-align: right; border: none;\">\n",
              "                0.0050\n",
              "                \n",
              "                    &plusmn; 0.0032\n",
              "                \n",
              "            </td>\n",
              "            <td style=\"padding: 0 0.5em 0 0.5em; text-align: left; border: none;\">\n",
              "                sat_hr_num\n",
              "            </td>\n",
              "        </tr>\n",
              "    \n",
              "        <tr style=\"background-color: hsl(120, 100.00%, 94.54%); border: none;\">\n",
              "            <td style=\"padding: 0 1em 0 0.5em; text-align: right; border: none;\">\n",
              "                0.0048\n",
              "                \n",
              "                    &plusmn; 0.0032\n",
              "                \n",
              "            </td>\n",
              "            <td style=\"padding: 0 0.5em 0 0.5em; text-align: left; border: none;\">\n",
              "                emg_happy_num\n",
              "            </td>\n",
              "        </tr>\n",
              "    \n",
              "        <tr style=\"background-color: hsl(120, 100.00%, 94.57%); border: none;\">\n",
              "            <td style=\"padding: 0 1em 0 0.5em; text-align: right; border: none;\">\n",
              "                0.0048\n",
              "                \n",
              "                    &plusmn; 0.0032\n",
              "                \n",
              "            </td>\n",
              "            <td style=\"padding: 0 0.5em 0 0.5em; text-align: left; border: none;\">\n",
              "                life_sat\n",
              "            </td>\n",
              "        </tr>\n",
              "    \n",
              "        <tr style=\"background-color: hsl(120, 100.00%, 94.72%); border: none;\">\n",
              "            <td style=\"padding: 0 1em 0 0.5em; text-align: right; border: none;\">\n",
              "                0.0046\n",
              "                \n",
              "                    &plusmn; 0.0067\n",
              "                \n",
              "            </td>\n",
              "            <td style=\"padding: 0 0.5em 0 0.5em; text-align: left; border: none;\">\n",
              "                emb_spiritless\n",
              "            </td>\n",
              "        </tr>\n",
              "    \n",
              "        <tr style=\"background-color: hsl(120, 100.00%, 94.89%); border: none;\">\n",
              "            <td style=\"padding: 0 1em 0 0.5em; text-align: right; border: none;\">\n",
              "                0.0044\n",
              "                \n",
              "                    &plusmn; 0.0063\n",
              "                \n",
              "            </td>\n",
              "            <td style=\"padding: 0 0.5em 0 0.5em; text-align: left; border: none;\">\n",
              "                sat_rep1_num\n",
              "            </td>\n",
              "        </tr>\n",
              "    \n",
              "    \n",
              "        \n",
              "            <tr style=\"background-color: hsl(120, 100.00%, 94.89%); border: none;\">\n",
              "                <td colspan=\"2\" style=\"padding: 0 0.5em 0 0.5em; text-align: center; border: none; white-space: nowrap;\">\n",
              "                    <i>&hellip; 128 more &hellip;</i>\n",
              "                </td>\n",
              "            </tr>\n",
              "        \n",
              "    \n",
              "    </tbody>\n",
              "</table>\n",
              "    \n",
              "\n",
              "    \n",
              "\n",
              "\n",
              "    \n",
              "\n",
              "    \n",
              "\n",
              "    \n",
              "\n",
              "    \n",
              "\n",
              "    \n",
              "\n",
              "    \n",
              "\n",
              "\n",
              "\n"
            ],
            "text/plain": [
              "<IPython.core.display.HTML object>"
            ]
          },
          "execution_count": 375,
          "metadata": {
            "tags": []
          },
          "output_type": "execute_result"
        }
      ],
      "source": [
        "dd"
      ]
    },
    {
      "cell_type": "code",
      "execution_count": null,
      "metadata": {
        "id": "z1sokwsc57fh"
      },
      "outputs": [],
      "source": [
        "# 중요하지 않은 특성 삭제\n",
        "minimum_importance = 0.001\n",
        "mask = permuter.feature_importances_ > minimum_importance\n",
        "features_new = X_train_transformed.columns[mask]\n",
        "X_train_selected = X_train_transformed[features_new]\n",
        "X_val_selected = X_val_transformed[features_new]"
      ]
    },
    {
      "cell_type": "code",
      "execution_count": null,
      "metadata": {
        "colab": {
          "base_uri": "https://localhost:8080/"
        },
        "id": "umBEilQI6cCI",
        "outputId": "384e8811-ab4d-4ff8-d1e7-11fcf34e7720"
      },
      "outputs": [
        {
          "name": "stdout",
          "output_type": "stream",
          "text": [
            "특성 삭제 전: (6731, 158) (1683, 158)\n"
          ]
        }
      ],
      "source": [
        "print('특성 삭제 전:', X_train_transformed.shape, X_val_transformed.shape)"
      ]
    },
    {
      "cell_type": "code",
      "execution_count": null,
      "metadata": {
        "colab": {
          "base_uri": "https://localhost:8080/"
        },
        "id": "CmMemMU_7EkH",
        "outputId": "f1d58bd8-2bbe-492f-d06d-8c9c2a0782c1"
      },
      "outputs": [
        {
          "name": "stdout",
          "output_type": "stream",
          "text": [
            "특성 삭제 후: (6731, 77) (1683, 77)\n"
          ]
        }
      ],
      "source": [
        "print('특성 삭제 후:', X_train_selected.shape, X_val_selected.shape)"
      ]
    },
    {
      "cell_type": "code",
      "execution_count": null,
      "metadata": {
        "id": "gZ7J8Gd477oQ"
      },
      "outputs": [],
      "source": [
        "pipe_fin = Pipeline([\n",
        "    ('rf', RandomForestClassifier(class_weight=class_weights)) \n",
        "])"
      ]
    },
    {
      "cell_type": "code",
      "execution_count": null,
      "metadata": {
        "id": "E1sFWAZc8Bld"
      },
      "outputs": [],
      "source": [
        "grcv_fin = GridSearchCV(\n",
        "    pipe_fin, \n",
        "    param_grid=param_dists, \n",
        "    cv=5, \n",
        "    scoring='f1',  \n",
        "    verbose=1,\n",
        "    n_jobs=-1\n",
        ")"
      ]
    },
    {
      "cell_type": "code",
      "execution_count": null,
      "metadata": {
        "colab": {
          "base_uri": "https://localhost:8080/"
        },
        "id": "wW-7c-0D7W-C",
        "outputId": "8896fceb-abcb-47cc-9418-2f8918948f19"
      },
      "outputs": [
        {
          "name": "stdout",
          "output_type": "stream",
          "text": [
            "Fitting 5 folds for each of 6 candidates, totalling 30 fits\n"
          ]
        },
        {
          "name": "stderr",
          "output_type": "stream",
          "text": [
            "[Parallel(n_jobs=-1)]: Using backend LokyBackend with 2 concurrent workers.\n",
            "[Parallel(n_jobs=-1)]: Done  30 out of  30 | elapsed:   26.0s finished\n"
          ]
        },
        {
          "data": {
            "text/plain": [
              "GridSearchCV(cv=5, error_score=nan,\n",
              "             estimator=Pipeline(memory=None,\n",
              "                                steps=[('rf',\n",
              "                                        RandomForestClassifier(bootstrap=True,\n",
              "                                                               ccp_alpha=0.0,\n",
              "                                                               class_weight={0: 0.637646835922698,\n",
              "                                                                             1: 2.316242257398486},\n",
              "                                                               criterion='gini',\n",
              "                                                               max_depth=None,\n",
              "                                                               max_features='auto',\n",
              "                                                               max_leaf_nodes=None,\n",
              "                                                               max_samples=None,\n",
              "                                                               min_impurity_decrease=0.0,\n",
              "                                                               min_impurity_split=None,\n",
              "                                                               min_samples_leaf=1,\n",
              "                                                               min_sam...\n",
              "                                                               min_weight_fraction_leaf=0.0,\n",
              "                                                               n_estimators=100,\n",
              "                                                               n_jobs=None,\n",
              "                                                               oob_score=False,\n",
              "                                                               random_state=None,\n",
              "                                                               verbose=0,\n",
              "                                                               warm_start=False))],\n",
              "                                verbose=False),\n",
              "             iid='deprecated', n_jobs=-1,\n",
              "             param_grid={'rf__criterion': ['entropy'], 'rf__max_depth': [10],\n",
              "                         'rf__min_samples_leaf': [1, 2, 4],\n",
              "                         'rf__n_estimators': [110, 130]},\n",
              "             pre_dispatch='2*n_jobs', refit=True, return_train_score=False,\n",
              "             scoring='f1', verbose=1)"
            ]
          },
          "execution_count": 234,
          "metadata": {
            "tags": []
          },
          "output_type": "execute_result"
        }
      ],
      "source": [
        "# 다시 피팅\n",
        "grcv_fin.fit(X_train_selected ,y_train)"
      ]
    },
    {
      "cell_type": "code",
      "execution_count": null,
      "metadata": {
        "colab": {
          "base_uri": "https://localhost:8080/"
        },
        "id": "UUOSJWAI89Rg",
        "outputId": "8e7f7d89-590c-48b9-bacd-a9b615edc3ec"
      },
      "outputs": [
        {
          "name": "stdout",
          "output_type": "stream",
          "text": [
            "              precision    recall  f1-score   support\n",
            "\n",
            "           0       0.89      0.82      0.85      1318\n",
            "           1       0.49      0.62      0.55       365\n",
            "\n",
            "    accuracy                           0.78      1683\n",
            "   macro avg       0.69      0.72      0.70      1683\n",
            "weighted avg       0.80      0.78      0.79      1683\n",
            "\n"
          ]
        }
      ],
      "source": [
        "# 최종 모델\n",
        "from sklearn.metrics import classification_report\n",
        "gr_rfc_fin = grcv_fin.best_estimator_\n",
        "y_pred_rfc_fin = gr_rfc.predict(X_val)\n",
        "y_pred_proba_rfc_fin = gr_rfc.predict_proba(X_val)[:,1]\n",
        "print(classification_report(y_val, y_pred_rfc_fin))"
      ]
    },
    {
      "cell_type": "markdown",
      "metadata": {
        "id": "3EXDG6uC-mk7"
      },
      "source": [
        "### 특정 피처가 타겟 변수에 미치는 영향"
      ]
    },
    {
      "cell_type": "markdown",
      "metadata": {
        "id": "9Czl77z_sI5G"
      },
      "source": [
        "#### 질문 : 출퇴근에 걸리는 시간의 길이는 이직준비여부에 어떤 영향을 미치는가?"
      ]
    },
    {
      "cell_type": "code",
      "execution_count": null,
      "metadata": {
        "colab": {
          "base_uri": "https://localhost:8080/",
          "height": 579
        },
        "id": "981gFNmb9fxz",
        "outputId": "925ffcb3-6657-4aef-d245-c086c13ca565"
      },
      "outputs": [
        {
          "data": {
            "image/png": "[encoded data removed]",
            "text/plain": [
              "<Figure size 1080x684 with 2 Axes>"
            ]
          },
          "metadata": {
            "tags": []
          },
          "output_type": "display_data"
        }
      ],
      "source": [
        "from pdpbox.pdp import pdp_isolate, pdp_plot\n",
        "import matplotlib.font_manager\n",
        "\n",
        "# 관심특성 : 출근시간\n",
        "selected_feature = 'work_time_num'\n",
        "\n",
        "isolated = pdp_isolate(\n",
        "    model=grcv_fin, \n",
        "    dataset=X_val_selected, \n",
        "    model_features=X_train_selected.columns, \n",
        "    feature=selected_feature,\n",
        ")\n",
        "pdp_plot(isolated, feature_name=selected_feature);"
      ]
    },
    {
      "cell_type": "markdown",
      "metadata": {
        "id": "9HSnzX2psXLi"
      },
      "source": [
        "#### 질문 : 회사에서 제공되는 복지혜택의 수는 이직준비여부에 어떤 영향을 미치는 가?"
      ]
    },
    {
      "cell_type": "code",
      "execution_count": null,
      "metadata": {
        "colab": {
          "base_uri": "https://localhost:8080/",
          "height": 579
        },
        "id": "kx619QP_AFok",
        "outputId": "678effb3-efc6-4ce1-c3de-105151d8520c"
      },
      "outputs": [
        {
          "data": {
            "image/png": "[encoded data removed]",
            "text/plain": [
              "<Figure size 1080x684 with 2 Axes>"
            ]
          },
          "metadata": {
            "tags": []
          },
          "output_type": "display_data"
        }
      ],
      "source": [
        "from pdpbox.pdp import pdp_isolate, pdp_plot\n",
        "import matplotlib.font_manager\n",
        "\n",
        "# 관심특성 : 복지혜택의 수\n",
        "selected_feature = 'benefit_num'\n",
        "\n",
        "isolated = pdp_isolate(\n",
        "    model=grcv_fin, \n",
        "    dataset=X_val_selected, \n",
        "    model_features=X_train_selected.columns, \n",
        "    feature=selected_feature,\n",
        ")\n",
        "pdp_plot(isolated, feature_name=selected_feature);"
      ]
    },
    {
      "cell_type": "code",
      "execution_count": null,
      "metadata": {
        "colab": {
          "base_uri": "https://localhost:8080/"
        },
        "id": "0inDMcUYAgST",
        "outputId": "6d19c8dd-6b5f-42f1-9463-164b36748507"
      },
      "outputs": [
        {
          "data": {
            "text/plain": [
              "Index(['id', 'turnover_num', 'turnover_cat_1.0', 'majorcat_cat_6.0',\n",
              "       'majorcat_cat_3.0', 'majorcat_cat_5.0', 'majorcat_cat_7.0',\n",
              "       'sex_cat_2.0', 'sex_cat_1.0', 'birth_date', 'age_num', 'graduy_date',\n",
              "       'year_start_date', 'month_start_date', 'ind_cat_13.0', 'ind_cat_3.0',\n",
              "       'ind_cat_10.0', 'biz_worker_cat', 'tw_hour', 'tw_min', 'workday_num',\n",
              "       'worktime_ex_num', 'biztype_cat_1.0', 'regular_cat_2.0',\n",
              "       'voluntary_cat_2.0', 'shift_cat_2.0', 'shift_cat_1.0',\n",
              "       'maternitylv_cat_1.0', 'maternitylv_cat_3.0', 'bonus_cat_1.0',\n",
              "       'baby_vc_cat_2.0', 'wage_type_cat_2.0', 'month_wage_num',\n",
              "       'sat_wage_num', 'sat_work_num', 'sat_potential_num', 'sat_welfare_num',\n",
              "       'sat_hr_num', 'sat_rep1_num', 'sat_rep2_num', 'sat_fit_num',\n",
              "       'sat_edu_num', 'sat_general_num', 'sat_work-general_num', 'edu-fit_num',\n",
              "       'skill-fit_num', 'major-fit_num', 'major_help_num', 'ins_1_num',\n",
              "       'ins_2_num', 'ins_5_num', 'seeking_time_num',\n",
              "       'adjust_difficulty_cat_2.0', 'adjust_difficulty_cat_1.0',\n",
              "       'job_offer_cat_2.0', 'job_offer_cat_1.0', 'train_cat_2.0', 'health_num',\n",
              "       'drink_num,', 'lifesat_personal', 'lifesat_relational', 'lifesat_group',\n",
              "       'emg_joy_num', 'emg_happy_num', 'emg_comfort_num', 'emb_irr_num',\n",
              "       'emb_negative_num', 'emb_spiritless', 'parent_asset_cat',\n",
              "       'livetype_cat_1.0', 'work_year', 'work_time_num', 'biz_sat', 'pos',\n",
              "       'neg', 'life_sat', 'benefit_num'],\n",
              "      dtype='object')"
            ]
          },
          "execution_count": 242,
          "metadata": {
            "tags": []
          },
          "output_type": "execute_result"
        }
      ],
      "source": [
        "X_train_selected.columns"
      ]
    },
    {
      "cell_type": "code",
      "execution_count": null,
      "metadata": {
        "colab": {
          "base_uri": "https://localhost:8080/",
          "height": 579
        },
        "id": "GT4wWVJT-vdS",
        "outputId": "efe691ec-945f-449e-e507-0057674ad8b5"
      },
      "outputs": [
        {
          "data": {
            "image/png": "[encoded data removed]",
            "text/plain": [
              "<Figure size 1080x684 with 2 Axes>"
            ]
          },
          "metadata": {
            "tags": []
          },
          "output_type": "display_data"
        }
      ],
      "source": [
        "from pdpbox.pdp import pdp_isolate, pdp_plot\n",
        "import matplotlib.font_manager\n",
        "\n",
        "# 관심특성 : 출근시간\n",
        "selected_feature = 'parent_asset_cat'\n",
        "\n",
        "isolated = pdp_isolate(\n",
        "    model=grcv_fin, \n",
        "    dataset=X_val_selected, \n",
        "    model_features=X_train_selected.columns, \n",
        "    feature=selected_feature,\n",
        ")\n",
        "pdp_plot(isolated, feature_name=selected_feature);"
      ]
    },
    {
      "cell_type": "code",
      "execution_count": null,
      "metadata": {
        "colab": {
          "base_uri": "https://localhost:8080/",
          "height": 580
        },
        "id": "ncpFu1eVA5Fm",
        "outputId": "309010e1-838c-4055-edc7-940db92debac"
      },
      "outputs": [
        {
          "data": {
            "image/png": "[encoded data removed]",
            "text/plain": [
              "<Figure size 1080x684 with 2 Axes>"
            ]
          },
          "metadata": {
            "tags": []
          },
          "output_type": "display_data"
        }
      ],
      "source": [
        "from pdpbox.pdp import pdp_isolate, pdp_plot\n",
        "import matplotlib.font_manager\n",
        "\n",
        "# 관심특성 : 정규직\n",
        "selected_feature = 'regular_cat_2.0'\n",
        "\n",
        "isolated = pdp_isolate(\n",
        "    model=grcv_fin, \n",
        "    dataset=X_val_selected, \n",
        "    model_features=X_train_selected.columns, \n",
        "    feature=selected_feature,\n",
        ")\n",
        "pdp_plot(isolated, feature_name=selected_feature);"
      ]
    },
    {
      "cell_type": "markdown",
      "metadata": {
        "id": "vi6qr9XMr0-z"
      },
      "source": [
        "#### 질문 : 이전에 다닌 직장의 수가 이직준비여부에 영향을 미치는가?"
      ]
    },
    {
      "cell_type": "code",
      "execution_count": null,
      "metadata": {
        "colab": {
          "base_uri": "https://localhost:8080/",
          "height": 579
        },
        "id": "vEEazPG_BVds",
        "outputId": "172cfa8d-082a-4f53-831d-7722774f0db1"
      },
      "outputs": [
        {
          "data": {
            "image/png": "[encoded data removed]",
            "text/plain": [
              "<Figure size 1080x684 with 2 Axes>"
            ]
          },
          "metadata": {
            "tags": []
          },
          "output_type": "display_data"
        }
      ],
      "source": [
        "from pdpbox.pdp import pdp_isolate, pdp_plot\n",
        "import matplotlib.font_manager\n",
        "\n",
        "# 관심특성 : \n",
        "selected_feature = 'turnover_num'\n",
        "\n",
        "isolated = pdp_isolate(\n",
        "    model=grcv_fin, \n",
        "    dataset=X_val_selected, \n",
        "    model_features=X_train_selected.columns, \n",
        "    feature=selected_feature,\n",
        ")\n",
        "pdp_plot(isolated, feature_name=selected_feature);"
      ]
    },
    {
      "cell_type": "markdown",
      "metadata": {
        "id": "EkXJzmKU9OdZ"
      },
      "source": [
        "학습시간은 줄었지만 F1스코어가 드라마틱하게 나아지진 않았다."
      ]
    },
    {
      "cell_type": "markdown",
      "metadata": {
        "id": "OSINZNcDbAyn"
      },
      "source": [
        "## References\n",
        "\n",
        "- Carr, J. C., Boyar, S. L., & Gregory, B. T. (2008). The moderating effect of work-family centrality on work-family conflict, organizational attitudes, and turnover behavior. Journal of Management, 34(2), 244–262. https://doi.org/10.1177/0149206307309262 # 이직의도->이직\n",
        "\n",
        "- AK, Belete. (2018). Turnover Intention Influencing Factors of Employees: An Empirical Work Review. Journal of Entrepreneurship & Organization Management."
      ]
    }
  ],
  "metadata": {
    "colab": {
      "collapsed_sections": [],
      "name": "pjoject-turnover_intention.ipynb",
      "provenance": [],
      "toc_visible": true
    },
    "kernelspec": {
      "display_name": "Python 3",
      "name": "python3"
    },
    "language_info": {
      "codemirror_mode": {
        "name": "ipython",
        "version": 3
      },
      "file_extension": ".py",
      "mimetype": "text/x-python",
      "name": "python",
      "nbconvert_exporter": "python",
      "pygments_lexer": "ipython3",
      "version": "3.8.12"
    }
  },
  "nbformat": 4,
  "nbformat_minor": 0
}
